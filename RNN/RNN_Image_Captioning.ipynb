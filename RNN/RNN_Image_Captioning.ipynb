{
  "cells": [
    {
      "cell_type": "markdown",
      "metadata": {
        "id": "HwysFV7WpjMh"
      },
      "source": [
        "#Load datasets\n",
        "\n"
      ]
    },
    {
      "cell_type": "code",
      "execution_count": 1,
      "metadata": {
        "id": "R05_mwrdWwyj"
      },
      "outputs": [],
      "source": [
        "import albumentations as A\n",
        "import cv2\n",
        "from PIL import Image, ImageDraw\n",
        "import torch\n",
        "import torch.nn as nn\n",
        "import torchvision.transforms.functional as TF\n",
        "from torch.optim import lr_scheduler\n",
        "from matplotlib import image\n",
        "import numpy as np\n",
        "import matplotlib.pyplot as plt\n",
        "import os\n",
        "import cv2\n",
        "import imageio\n",
        "import torchvision.transforms.functional as F\n",
        "import torch.nn.functional as F1"
      ]
    },
    {
      "cell_type": "code",
      "execution_count": 2,
      "metadata": {
        "colab": {
          "base_uri": "https://localhost:8080/"
        },
        "id": "lvQkR05f0dou",
        "outputId": "ac46164c-bd8b-411d-d8c1-db3c9176603d"
      },
      "outputs": [
        {
          "name": "stdout",
          "output_type": "stream",
          "text": [
            "Mounted at /content/drive\n"
          ]
        }
      ],
      "source": [
        "from google.colab import drive\n",
        "\n",
        "drive.mount(\"/content/drive\")"
      ]
    },
    {
      "cell_type": "code",
      "execution_count": 3,
      "metadata": {
        "id": "NFiLVfZH0Vyd"
      },
      "outputs": [],
      "source": [
        "import torch\n",
        "path = '/content/drive/MyDrive/DL/coco.pt'            #coco.pt has 10,000 preprossed image and it's captions for image captioning (from coco dataset)\n",
        "m =torch.load(path)"
      ]
    },
    {
      "cell_type": "code",
      "execution_count": 4,
      "metadata": {
        "colab": {
          "base_uri": "https://localhost:8080/"
        },
        "id": "z45H-NdZ1GJe",
        "outputId": "d869cd70-d750-4528-ddae-06a08a616d6e"
      },
      "outputs": [
        {
          "name": "stdout",
          "output_type": "stream",
          "text": [
            "{'train_images': tensor([[[[ 50,  72,  96,  ..., 188, 173, 129],\n",
            "          [ 85,  88,  64,  ..., 116, 110,  93],\n",
            "          [102, 105, 100,  ...,  99, 101,  87],\n",
            "          ...,\n",
            "          [151, 136,  89,  ...,  61,  56,  50],\n",
            "          [146, 133,  90,  ...,  87,  77,  73],\n",
            "          [148, 130,  88,  ...,  91,  95,  99]],\n",
            "\n",
            "         [[ 60,  83, 112,  ..., 197, 181, 142],\n",
            "          [102, 102,  76,  ..., 139, 130, 116],\n",
            "          [127, 128, 119,  ..., 121, 123, 108],\n",
            "          ...,\n",
            "          [140, 124,  71,  ...,  66,  68,  59],\n",
            "          [135, 121,  69,  ...,  95,  87,  81],\n",
            "          [145, 123,  68,  ..., 100, 111, 115]],\n",
            "\n",
            "         [[ 65,  86, 115,  ..., 191, 174, 124],\n",
            "          [104, 102,  79,  ..., 123, 106,  91],\n",
            "          [129, 131, 122,  ..., 103, 104,  87],\n",
            "          ...,\n",
            "          [118, 102,  50,  ...,  58,  48,  45],\n",
            "          [112,  99,  52,  ...,  91,  81,  74],\n",
            "          [126,  95,  48,  ...,  93,  96,  98]]],\n",
            "\n",
            "\n",
            "        [[[255, 255, 255,  ...,  34,  29,  21],\n",
            "          [255, 255, 255,  ...,  39,  29,  21],\n",
            "          [255, 255, 255,  ...,  38,  32,  25],\n",
            "          ...,\n",
            "          [ 68,  65,  62,  ..., 130, 121, 119],\n",
            "          [ 67,  60,  67,  ..., 140, 132, 102],\n",
            "          [ 64,  66,  71,  ..., 144, 149, 116]],\n",
            "\n",
            "         [[255, 255, 255,  ...,  40,  35,  25],\n",
            "          [255, 255, 255,  ...,  44,  36,  25],\n",
            "          [255, 255, 255,  ...,  43,  38,  27],\n",
            "          ...,\n",
            "          [ 57,  53,  53,  ..., 129, 114, 111],\n",
            "          [ 56,  50,  58,  ..., 133, 121,  97],\n",
            "          [ 52,  53,  59,  ..., 135, 134, 108]],\n",
            "\n",
            "         [[255, 255, 255,  ...,  16,  14,   5],\n",
            "          [255, 255, 255,  ...,  18,  16,   7],\n",
            "          [255, 255, 255,  ...,  18,  16,  10],\n",
            "          ...,\n",
            "          [ 53,  50,  50,  ...,  35,  37,  39],\n",
            "          [ 53,  48,  54,  ...,  41,  35,  28],\n",
            "          [ 49,  50,  55,  ...,  46,  35,  31]]],\n",
            "\n",
            "\n",
            "        [[[ 51,  49,  50,  ...,  21,  19,  18],\n",
            "          [ 52,  48,  47,  ...,  20,  12,  18],\n",
            "          [ 48,  47,  44,  ...,  12,  16,  20],\n",
            "          ...,\n",
            "          [ 31,  14,  14,  ...,  42,  43,  46],\n",
            "          [ 18,  20,  17,  ...,  49,  49,  47],\n",
            "          [ 21,  17,  13,  ...,  54,  56,  55]],\n",
            "\n",
            "         [[ 53,  52,  53,  ...,  24,  24,  21],\n",
            "          [ 54,  51,  51,  ...,  23,  17,  22],\n",
            "          [ 50,  49,  46,  ...,  16,  21,  26],\n",
            "          ...,\n",
            "          [ 35,  15,  14,  ...,  46,  44,  48],\n",
            "          [ 18,  19,  17,  ...,  51,  51,  49],\n",
            "          [ 21,  16,  13,  ...,  55,  57,  56]],\n",
            "\n",
            "         [[ 52,  53,  55,  ...,  20,  20,  18],\n",
            "          [ 53,  51,  52,  ...,  20,  13,  18],\n",
            "          [ 49,  49,  47,  ...,  14,  19,  21],\n",
            "          ...,\n",
            "          [ 37,  15,  15,  ...,  47,  43,  48],\n",
            "          [ 19,  19,  16,  ...,  52,  51,  48],\n",
            "          [ 21,  15,  12,  ...,  55,  58,  56]]],\n",
            "\n",
            "\n",
            "        ...,\n",
            "\n",
            "\n",
            "        [[[ 67, 120, 149,  ..., 145, 165, 158],\n",
            "          [ 14,  21,  25,  ..., 156, 160, 149],\n",
            "          [ 31,  26,  25,  ..., 170, 162, 154],\n",
            "          ...,\n",
            "          [ 88,  88,  68,  ..., 152, 149, 148],\n",
            "          [ 66,  57,  69,  ..., 124, 118, 155],\n",
            "          [ 65,  54,  57,  ..., 131, 131, 147]],\n",
            "\n",
            "         [[ 57,  93, 118,  ..., 117, 138, 129],\n",
            "          [ 13,  16,  19,  ..., 130, 132, 122],\n",
            "          [ 28,  23,  21,  ..., 144, 135, 125],\n",
            "          ...,\n",
            "          [ 69,  70,  50,  ..., 115, 111, 107],\n",
            "          [ 50,  46,  59,  ...,  93,  83, 117],\n",
            "          [ 49,  42,  43,  ...,  97,  94, 108]],\n",
            "\n",
            "         [[ 36,  57,  77,  ...,  91, 108, 101],\n",
            "          [ 11,  12,  15,  ...,  98, 102,  91],\n",
            "          [ 15,  10,   9,  ..., 110, 103,  90],\n",
            "          ...,\n",
            "          [ 41,  43,  27,  ...,  76,  74,  71],\n",
            "          [ 28,  27,  34,  ...,  58,  51,  79],\n",
            "          [ 30,  30,  27,  ...,  64,  62,  71]]],\n",
            "\n",
            "\n",
            "        [[[ 26,  42,  46,  ...,  38,  98, 117],\n",
            "          [ 83,  96,  75,  ...,  96, 107, 114],\n",
            "          [ 91, 109,  93,  ..., 145, 139, 103],\n",
            "          ...,\n",
            "          [ 79,  83,  89,  ..., 121, 116, 113],\n",
            "          [ 81,  87,  85,  ..., 119, 116, 112],\n",
            "          [ 80,  75,  87,  ..., 121, 116, 111]],\n",
            "\n",
            "         [[ 59,  71,  73,  ...,  41, 102, 116],\n",
            "          [ 97, 108,  91,  ...,  93, 110, 111],\n",
            "          [ 99, 114, 102,  ..., 134, 134,  95],\n",
            "          ...,\n",
            "          [ 68,  72,  76,  ..., 105, 101,  98],\n",
            "          [ 71,  77,  74,  ..., 104, 102,  98],\n",
            "          [ 71,  67,  75,  ..., 106, 102,  98]],\n",
            "\n",
            "         [[ 59,  42,  65,  ...,  11,   3,   2],\n",
            "          [ 27,  11,  17,  ...,  58,   7,   5],\n",
            "          [ 11,   8,   4,  ..., 104,  79,  22],\n",
            "          ...,\n",
            "          [ 55,  57,  60,  ...,  83,  79,  75],\n",
            "          [ 57,  62,  59,  ...,  81,  79,  75],\n",
            "          [ 58,  55,  59,  ...,  85,  81,  76]]],\n",
            "\n",
            "\n",
            "        [[[ 11,  12,  12,  ..., 254, 254, 254],\n",
            "          [ 13,  13,  13,  ..., 253, 254, 255],\n",
            "          [ 13,  13,  13,  ..., 254, 255, 255],\n",
            "          ...,\n",
            "          [ 13,  13,  17,  ..., 204, 204, 196],\n",
            "          [ 12,  12,  13,  ..., 185, 193, 208],\n",
            "          [ 12,  13,  14,  ..., 201, 189, 194]],\n",
            "\n",
            "         [[ 11,  12,  11,  ..., 254, 254, 254],\n",
            "          [ 11,  12,  12,  ..., 253, 254, 255],\n",
            "          [ 12,  11,  12,  ..., 254, 255, 255],\n",
            "          ...,\n",
            "          [ 13,  13,  18,  ..., 196, 199, 186],\n",
            "          [ 12,  12,  14,  ..., 174, 186, 207],\n",
            "          [ 12,  14,  15,  ..., 196, 180, 188]],\n",
            "\n",
            "         [[  8,   8,   7,  ..., 254, 254, 254],\n",
            "          [  7,   8,   8,  ..., 253, 254, 255],\n",
            "          [  8,   7,   8,  ..., 254, 255, 255],\n",
            "          ...,\n",
            "          [ 10,  11,  15,  ..., 176, 179, 159],\n",
            "          [ 10,  10,  11,  ..., 140, 153, 186],\n",
            "          [ 10,  10,  10,  ..., 171, 150, 166]]]], dtype=torch.uint8), 'train_captions': tensor([[  1,  15, 175,  ...,   0,   0,   0],\n",
            "        [  1,  15, 106,  ...,   0,   0,   0],\n",
            "        [  1,   4,  52,  ...,   0,   0,   0],\n",
            "        ...,\n",
            "        [  1,   4,  33,  ...,   0,   0,   0],\n",
            "        [  1,   3,   6,  ...,   0,   0,   0],\n",
            "        [  1,   4,  24,  ...,   0,   0,   0]]), 'val_images': tensor([[[[ 49,  50,  49,  ...,  56,  59,  55],\n",
            "          [ 47,  50,  47,  ...,  59,  60,  51],\n",
            "          [ 46,  46,  47,  ...,  53,  56,  49],\n",
            "          ...,\n",
            "          [ 23,  21,  28,  ...,  84,  90,  85],\n",
            "          [ 24,  28,  45,  ...,  85,  90,  95],\n",
            "          [ 50,  71,  54,  ...,  94,  94,  86]],\n",
            "\n",
            "         [[ 59,  61,  60,  ...,  58,  62,  58],\n",
            "          [ 58,  60,  58,  ...,  63,  65,  54],\n",
            "          [ 57,  56,  58,  ...,  55,  60,  51],\n",
            "          ...,\n",
            "          [ 26,  25,  31,  ..., 107, 107, 105],\n",
            "          [ 27,  32,  49,  ..., 104, 108, 114],\n",
            "          [ 52,  76,  61,  ..., 108, 110, 105]],\n",
            "\n",
            "         [[ 45,  47,  49,  ...,  55,  57,  54],\n",
            "          [ 47,  48,  49,  ...,  58,  58,  51],\n",
            "          [ 50,  48,  49,  ...,  53,  55,  51],\n",
            "          ...,\n",
            "          [ 21,  21,  26,  ...,  45,  44,  40],\n",
            "          [ 22,  26,  38,  ...,  52,  44,  45],\n",
            "          [ 43,  59,  42,  ...,  52,  48,  42]]],\n",
            "\n",
            "\n",
            "        [[[178, 192, 196,  ..., 202, 200, 198],\n",
            "          [191, 196, 197,  ..., 200, 197, 198],\n",
            "          [192, 196, 197,  ..., 198, 195, 197],\n",
            "          ...,\n",
            "          [183, 183, 188,  ..., 159, 158, 159],\n",
            "          [181, 182, 188,  ..., 159, 159, 159],\n",
            "          [181, 186, 188,  ..., 157, 159, 160]],\n",
            "\n",
            "         [[184, 196, 203,  ..., 210, 208, 203],\n",
            "          [198, 204, 208,  ..., 211, 208, 205],\n",
            "          [203, 208, 210,  ..., 208, 206, 206],\n",
            "          ...,\n",
            "          [195, 194, 198,  ..., 158, 157, 158],\n",
            "          [191, 192, 198,  ..., 157, 157, 157],\n",
            "          [190, 196, 195,  ..., 155, 156, 156]],\n",
            "\n",
            "         [[140, 190, 200,  ..., 193, 196, 193],\n",
            "          [192, 202, 204,  ..., 199, 197, 193],\n",
            "          [198, 206, 207,  ..., 202, 197, 194],\n",
            "          ...,\n",
            "          [202, 209, 210,  ..., 140, 138, 134],\n",
            "          [196, 205, 207,  ..., 135, 134, 134],\n",
            "          [195, 201, 199,  ..., 128, 129, 129]]],\n",
            "\n",
            "\n",
            "        [[[  9,   8,   3,  ...,  67,  66,  71],\n",
            "          [  5,   4,   2,  ...,  69,  70,  67],\n",
            "          [  4,   2,   2,  ...,  68,  69,  72],\n",
            "          ...,\n",
            "          [118, 101, 108,  ...,  38,  40,  40],\n",
            "          [103, 108, 113,  ...,  39,  43,  43],\n",
            "          [ 99, 108, 112,  ...,  39,  44,  45]],\n",
            "\n",
            "         [[ 20,  21,  24,  ...,  54,  54,  61],\n",
            "          [ 13,  13,  12,  ...,  56,  59,  57],\n",
            "          [  8,   7,   8,  ...,  55,  57,  61],\n",
            "          ...,\n",
            "          [ 83,  50,  52,  ...,  27,  29,  30],\n",
            "          [ 45,  58,  89,  ...,  28,  31,  32],\n",
            "          [ 55,  93, 106,  ...,  27,  32,  33]],\n",
            "\n",
            "         [[ 59,  66,  84,  ...,  50,  51,  59],\n",
            "          [ 51,  55,  62,  ...,  51,  55,  55],\n",
            "          [ 45,  46,  49,  ...,  51,  54,  58],\n",
            "          ...,\n",
            "          [ 52,  46,  55,  ...,  51,  52,  52],\n",
            "          [ 53,  62,  82,  ...,  52,  54,  53],\n",
            "          [ 60,  87,  92,  ...,  52,  56,  56]]],\n",
            "\n",
            "\n",
            "        ...,\n",
            "\n",
            "\n",
            "        [[[102, 121, 128,  ..., 106, 113,  94],\n",
            "          [ 96, 104, 125,  ..., 125, 120, 111],\n",
            "          [ 95,  94, 100,  ..., 149, 143, 128],\n",
            "          ...,\n",
            "          [ 61,  83,  75,  ...,  28,  90, 126],\n",
            "          [ 53,  64,  61,  ...,  43,  76, 117],\n",
            "          [ 39,  42,  48,  ...,  73,  76, 100]],\n",
            "\n",
            "         [[ 99, 117, 123,  ...,  83,  97,  78],\n",
            "          [ 89,  94, 114,  ..., 109, 105,  98],\n",
            "          [ 84,  79,  83,  ..., 141, 135, 121],\n",
            "          ...,\n",
            "          [ 45,  61,  56,  ...,  32,  98, 132],\n",
            "          [ 37,  45,  46,  ...,  47,  82, 121],\n",
            "          [ 28,  31,  37,  ...,  77,  80, 104]],\n",
            "\n",
            "         [[ 93, 109, 113,  ...,  63,  81,  63],\n",
            "          [ 80,  82, 104,  ...,  89,  85,  84],\n",
            "          [ 74,  68,  72,  ..., 127, 121, 108],\n",
            "          ...,\n",
            "          [ 27,  33,  33,  ...,  34,  88, 124],\n",
            "          [ 24,  28,  30,  ...,  41,  70, 112],\n",
            "          [ 20,  23,  26,  ...,  60,  65,  95]]],\n",
            "\n",
            "\n",
            "        [[[ 28,  31,  31,  ...,   9,   7,   6],\n",
            "          [ 29,  31,  31,  ...,   9,   7,   7],\n",
            "          [ 31,  32,  32,  ...,   7,   6,   6],\n",
            "          ...,\n",
            "          [183, 170, 195,  ...,  10,   8,   8],\n",
            "          [186, 190, 198,  ...,  11,   8,   7],\n",
            "          [179, 185, 177,  ...,   9,   7,   7]],\n",
            "\n",
            "         [[ 17,  18,  18,  ...,   5,   5,   5],\n",
            "          [ 18,  18,  18,  ...,   5,   5,   6],\n",
            "          [ 18,  19,  19,  ...,   5,   5,   5],\n",
            "          ...,\n",
            "          [175, 159, 188,  ...,   7,   6,   6],\n",
            "          [177, 182, 191,  ...,   7,   6,   6],\n",
            "          [170, 175, 165,  ...,   6,   6,   6]],\n",
            "\n",
            "         [[  9,  10,  10,  ...,   6,   6,   6],\n",
            "          [  9,  10,  10,  ...,   7,   7,   8],\n",
            "          [  9,  10,  10,  ...,   8,   7,   8],\n",
            "          ...,\n",
            "          [149, 126, 158,  ...,   7,   7,   7],\n",
            "          [146, 150, 160,  ...,   7,   6,   6],\n",
            "          [138, 141, 129,  ...,   7,   6,   7]]],\n",
            "\n",
            "\n",
            "        [[[103, 103, 107,  ...,  85,  85,  78],\n",
            "          [122, 123, 120,  ...,  99, 101, 105],\n",
            "          [126, 122, 117,  ..., 111, 103, 106],\n",
            "          ...,\n",
            "          [110, 112, 117,  ..., 147, 139, 164],\n",
            "          [120, 117, 114,  ..., 175, 178, 180],\n",
            "          [133, 128, 122,  ..., 168, 177, 181]],\n",
            "\n",
            "         [[124, 125, 130,  ..., 114, 113, 105],\n",
            "          [142, 143, 140,  ..., 127, 129, 133],\n",
            "          [145, 142, 137,  ..., 138, 131, 133],\n",
            "          ...,\n",
            "          [132, 134, 139,  ..., 159, 154, 173],\n",
            "          [140, 138, 136,  ..., 182, 185, 187],\n",
            "          [151, 146, 142,  ..., 179, 186, 190]],\n",
            "\n",
            "         [[134, 132, 138,  ..., 123, 122, 111],\n",
            "          [153, 153, 152,  ..., 137, 139, 143],\n",
            "          [156, 153, 149,  ..., 150, 143, 145],\n",
            "          ...,\n",
            "          [139, 143, 147,  ..., 161, 157, 178],\n",
            "          [150, 148, 145,  ..., 184, 189, 190],\n",
            "          [159, 155, 151,  ..., 174, 183, 187]]]], dtype=torch.uint8), 'val_captions': tensor([[  1, 143, 722,  ...,   2,   0,   0],\n",
            "        [  1,  16,   3,  ...,   0,   0,   0],\n",
            "        [  1,   4,  23,  ...,   0,   0,   0],\n",
            "        ...,\n",
            "        [  1,  15, 174,  ...,   0,   0,   0],\n",
            "        [  1,  63,  11,  ...,   0,   0,   0],\n",
            "        [  1,   4, 334,  ...,   2,   0,   0]]), 'vocab': {'idx_to_token': ['<NULL>', '<START>', '<END>', '<UNK>', 'a', 'on', 'of', 'the', 'in', 'with', 'and', 'is', 'man', 'to', 'sitting', 'two', 'an', 'standing', 'people', 'are', 'at', 'next', 'white', 'woman', 'table', 'that', 'street', 'holding', 'some', 'person', 'down', 'large', 'top', 'group', 'tennis', 'field', 'it', 'plate', 'up', 'small', 'riding', 'room', 'front', 'near', 'dog', 'red', 'his', 'by', 'black', 'train', 'baseball', 'young', 'cat', 'water', 'walking', 'playing', 'sign', 'snow', 'while', 'pizza', 'has', 'bathroom', 'kitchen', 'there', 'bus', 'grass', 'food', 'blue', 'green', 'other', 'beach', 'couple', 'ball', 'building', 'bed', 'three', 'parked', 'men', 'for', 'flying', 'side', 'looking', 'wooden', 'toilet', 'game', 'road', 'boy', 'girl', 'player', 'laying', 'skateboard', 'city', 'sits', 'over', 'wearing', 'her', 'eating', 'frisbee', 'several', 'out', 'bear', 'through', 'sink', 'horse', 'outside', 'picture', 'giraffe', 'from', 'phone', 'around', 'wall', 'bench', 'air', 'each', 'brown', 'board', 'clock', 'yellow', 'window', 'laptop', 'one', 'its', 'car', 'area', 'under', 'stop', 'park', 'living', 'covered', 'cake', 'behind', 'court', 'their', 'open', 'kite', 'into', 'elephant', 'truck', 'umbrella', 'tree', 'this', 'airplane', 'very', 'sheep', 'surfboard', 'many', 'trees', 'close', 'filled', 'little', 'old', 'computer', 'skis', 'motorcycle', 'big', 'desk', 'together', 'bowl', 'light', 'sky', 'as', 'bunch', 'background', 'wave', 'chair', 'traffic', 'teddy', 'fire', 'counter', 'ocean', 'sandwich', 'plane', 'cell', 'inside', 'glass', 'giraffes', 'sidewalk', 'stands', 'child', 'boat', 'back', 'women', 'orange', 'cars', 'photo', 'bat', 'horses', 'skiing', 'couch', 'baby', 'zebras', 'fence', 'bird', 'sit', 'racket', 'hydrant', 'view', 'bananas', 'grassy', 'elephants', 'stand', 'shirt', 'middle', 'vegetables', 'hill', 'four', 'flowers', 'tie', 'tall', 'hand', 'vase', 'off', 'grazing', 'driving', 'different', 'zebra', 'bike', 'being', 'ground', 'mirror', 'full', 'hanging', 'another', 'tracks', 'slope', 'dirt', 'along', 'ready', 'mountain', 'lot', 'wine', 'station', 'talking', 'cows', 'taking', 'skate', 'stuffed', 'during', 'day', 'floor', 'swinging', 'signs', 'pink', 'herd', 'airport', 'ski', 'head', 'guy', 'glasses', 'display', 'cutting', 'above', 'image', 'fruit', 'refrigerator', 'holds', 'going', 'empty', 'cow', 'broccoli', 'wii', 'pair', 'long', 'colorful', 'beside', 'track', 'surf', 'stove', 'pole', 'parking', 'crowd', 'against', 'tower', 'luggage', 'dogs', 'snowy', 'runway', 'lots', 'hat', 'umbrellas', 'smiling', 'scissors', 'kites', 'getting', 'buildings', 'walk', 'using', 'chairs', 'animals', 'skier', 'racquet', 'posing', 'passenger', 'paper', 'corner', 'banana', 'across', 'topped', 'them', 'running', 'piece', 'night', 'lights', 'jumping', 'hot', 'hit', 'video', 'tv', 'looks', 'carrying', 'suit', 'remote', 'oven', 'home', 'doing', 'box', 'body', 'birds', 'batter', 'television', 'plates', 'house', 'children', 'camera', 'busy', 'boats', 'various', 'soccer', 'motorcycles', 'jet', 'cheese', 'bears', 'shower', 'metal', 'male', 'double', 'bedroom', 'wood', 'trick', 'skiers', 'sand', 'rides', 'traveling', 'dark', 'be', 'snowboard', 'microwave', 'lady', 'keyboard', 'items', 'he', 'drinking', 'door', 'way', 'tray', 'river', 'restaurant', 'players', 'meat', 'like', 'set', 'line', 'kids', 'cup', 'all', 'about', 'watching', 'bridge', 'brick', 'book', 'toy', 'skateboarder', 'photograph', 'made', 'kid', 'coffee', 'bread', 'boys', 'surfer', 'shown', 'row', 'ramp', 'face', 'donuts', 'cut', 'cross', 'something', 'preparing', 'market', 'lake', 'half', 'dressed', 'decker', 'who', 'tub', 'surrounded', 'suitcase', 'slice', 'oranges', 'lying', 'lush', 'knife', 'him', 'gray', 'furniture', 'forest', 'enclosure', 'bicycle', 'bath', 'scene', 'purple', 'play', 'number', 'hands', 'bottle', 'beautiful', 'swing', 'screen', 'pulling', 'past', 'leaning', 'jacket', 'female', 'country', 'carrots', 'cabinets', 'animal', 'walks', 'waiting', 'shelf', 'pan', 'older', 'making', 'look', 'leaves', 'bag', 'zoo', 'someone', 'snowboarder', 'mouth', 'meal', 'grey', 'dress', 'controller', 'base', 'intersection', 'fries', 'few', 'displayed', 'clean', 'throwing', 'sun', 'store', 'stone', 'seen', 'police', 'onto', 'decorated', 'cute', 'chocolate', 'buses', 'between', 'variety', 'silver', 'showing', 'salad', 'rocks', 'lined', 'high', 'girls', 'fruits', 'engine', 'birthday', 'attached', 'adult', 'waves', 'trying', 'slices', 'sleeping', 'skateboarding', 'pitch', 'pile', 'pictures', 'painted', 'multiple', 'lit', 'hair', 'catch', 'types', 'surfing', 'stopped', 'setting', 'placed', 'outdoor', 'mounted', 'motor', 'helmet', 'gear', 'windows', 'underneath', 'tables', 'sofa', 'seat', 'resting', 'public', 'pizzas', 'moving', 'mouse', 'lap', 'hotel', 'hitting', 'flower', 'edge', 'cats', 'brushing', 'been', 'apple', 'working', 'uniform', 'shot', 'rock', 'ride', 'performing', 'passing', 'nearby', 'mountains', 'graffiti', 'floating', 'flies', 'five', 'drink', 'coming', 'colored', 'clocks', 'case', 'carriage', 'branch', 'books', 'bathtub', 'apples', 'tarmac', 'rain', 'others', 'office', 'just', 'have', 'fly', 'eaten', 'eat', 'doughnut', 'dish', 'cloudy', 'clear', 'bright', 'watches', 'walls', 'vases', 'trunk', 'tiled', 'teeth', 'she', 'school', 'sandy', 'plant', 'perched', 'pasture', 'or', 'modern', 'military', 'donut', 'dirty', 'dinner', 'desert', 'catcher', 'bikes', 'yard', 'wet', 'watch', 'tricks', 'toppings', 'toothbrush', 'surface', 'statue', 'shaped', 'scooter', 'sandwiches', 'rail', 'plastic', 'pieces', 'path', 'neck', 'mother', 'match', 'machine', 'legs', 'having', 'gathered', 'fork', 'crowded', 'crossing', 'containing', 'church', 'cart', 'candles', 'bushes', 'boxes', 'blender', 'beer', 'alone', 'vehicles', 'vehicle', 'towards', 'sunglasses', 'stairs', 'shop', 'rice', 'reading', 'plays', 'pitcher', 'not', 'nintendo', 'foods', 'fireplace', 'fenced', 'enjoying', 'end', 'dry', 'dining', 'curb', 'computers', 'christmas', 'center', 'cellphone', 'cattle', 'catching', 'brush', 'boards', 'boarding', 'blanket', 'bicycles', 'basket', 'bags', 'wild', 'trail', 'town', 'style', 'stacked', 'smiles', 'sliced', 'served', 'sauce', 'pulled', 'professional', 'pretty', 'pots', 'platform', 'place', 'phones', 'meter', 'hillside', 'french', 'feeding', 'distance', 'control', 'chicken', 'cement', 'can', 'bowls', 'bottles', 'boarder', 'benches', 'assortment', 'towel', 'toward', 'toddler', 'tile', 'taken', 'sunny', 'striped', 'sticking', 'sinks', 'single', 'shoes', 'rests', 'railroad', 'putting', 'potatoes', 'plants', 'planes', 'pillows', 'pen', 'no', 'landing', 'jumps', 'jump', 'huge', 'hotdog', 'fridge', 'fish', 'event', 'dock', 'cream', 'collection', 'clothes', 'business', 'atop', 'antique', 'wooded', 'wire', 'transit', 'things', 'steam', 'skateboards', 'serve', 'reaching', 'pool', 'pie', 'persons', 'overhead', 'monitor', 'mid', 'guys', 'graze', 'flag', 'equipment', 'doughnuts', 'cooking', 'cooked', 'container', 'cluttered', 'away', 'arm', 'appliances', 'vest', 'type', 'trains', 'toilets', 'steps', 'square', 'spoon', 'shore', 'shade', 'sale', 'run', 'right', 'rack', 'prepares', 'polar', 'picnic', 'party', 'outdoors', 'officer', 'mound', 'ledge', 'kind', 'hay', 'gold', 'giving', 'feet', 'fancy', 'couches', 'concrete', 'closeup', 'broken', 'asian', 'among', 'adults', 'action', 'woods', 'where', 'vintage', 'trucks', 'time', 'throw', 'tan', 'takes', 'take', 'surfers', 'surfboards', 'snowboarding', 'smoke', 'serving', 'rug', 'roof', 'pushing', 'pot', 'pond', 'poles', 'pastries', 'passengers', 'pants', 'overlooking', 'nice', 'mans', 'makes', 'low', 'laptops', 'guitar', 'growing', 'go', 'glove', 'fresh', 'flat', 'family', 'doors', 'dessert', 'colors', 'bush', 'bunches', 'both', 'blurry', 'bite', 'below', 'beds', 'bar', 'after', 'work', 'winter', 'travelling', 'tow', 'throws', 'swimming', 'supplies', 'suitcases', 'subway', 'still', 'space', 'soup', 'someones', 'skies', 'show', 'sheet', 'round', 'railing', 'pulls', 'pose', 'petting', 'pepperoni', 'pedestrians', 'narrow', 'lamp', 'ketchup', 'juice', 'island', 'ice', 'himself', 'hard', 'giant', 'get', 'games', 'eyes', 'drinks', 'displaying', 'decorative', 'curtain', 'coat', 'close-up', 'chips', 'chasing', 'carrot', 'cabinet', 'backpack', 'airplanes', 'airliner'], 'token_to_idx': {'<NULL>': 0, '<START>': 1, '<END>': 2, '<UNK>': 3, 'a': 4, 'on': 5, 'of': 6, 'the': 7, 'in': 8, 'with': 9, 'and': 10, 'is': 11, 'man': 12, 'to': 13, 'sitting': 14, 'two': 15, 'an': 16, 'standing': 17, 'people': 18, 'are': 19, 'at': 20, 'next': 21, 'white': 22, 'woman': 23, 'table': 24, 'that': 25, 'street': 26, 'holding': 27, 'some': 28, 'person': 29, 'down': 30, 'large': 31, 'top': 32, 'group': 33, 'tennis': 34, 'field': 35, 'it': 36, 'plate': 37, 'up': 38, 'small': 39, 'riding': 40, 'room': 41, 'front': 42, 'near': 43, 'dog': 44, 'red': 45, 'his': 46, 'by': 47, 'black': 48, 'train': 49, 'baseball': 50, 'young': 51, 'cat': 52, 'water': 53, 'walking': 54, 'playing': 55, 'sign': 56, 'snow': 57, 'while': 58, 'pizza': 59, 'has': 60, 'bathroom': 61, 'kitchen': 62, 'there': 63, 'bus': 64, 'grass': 65, 'food': 66, 'blue': 67, 'green': 68, 'other': 69, 'beach': 70, 'couple': 71, 'ball': 72, 'building': 73, 'bed': 74, 'three': 75, 'parked': 76, 'men': 77, 'for': 78, 'flying': 79, 'side': 80, 'looking': 81, 'wooden': 82, 'toilet': 83, 'game': 84, 'road': 85, 'boy': 86, 'girl': 87, 'player': 88, 'laying': 89, 'skateboard': 90, 'city': 91, 'sits': 92, 'over': 93, 'wearing': 94, 'her': 95, 'eating': 96, 'frisbee': 97, 'several': 98, 'out': 99, 'bear': 100, 'through': 101, 'sink': 102, 'horse': 103, 'outside': 104, 'picture': 105, 'giraffe': 106, 'from': 107, 'phone': 108, 'around': 109, 'wall': 110, 'bench': 111, 'air': 112, 'each': 113, 'brown': 114, 'board': 115, 'clock': 116, 'yellow': 117, 'window': 118, 'laptop': 119, 'one': 120, 'its': 121, 'car': 122, 'area': 123, 'under': 124, 'stop': 125, 'park': 126, 'living': 127, 'covered': 128, 'cake': 129, 'behind': 130, 'court': 131, 'their': 132, 'open': 133, 'kite': 134, 'into': 135, 'elephant': 136, 'truck': 137, 'umbrella': 138, 'tree': 139, 'this': 140, 'airplane': 141, 'very': 142, 'sheep': 143, 'surfboard': 144, 'many': 145, 'trees': 146, 'close': 147, 'filled': 148, 'little': 149, 'old': 150, 'computer': 151, 'skis': 152, 'motorcycle': 153, 'big': 154, 'desk': 155, 'together': 156, 'bowl': 157, 'light': 158, 'sky': 159, 'as': 160, 'bunch': 161, 'background': 162, 'wave': 163, 'chair': 164, 'traffic': 165, 'teddy': 166, 'fire': 167, 'counter': 168, 'ocean': 169, 'sandwich': 170, 'plane': 171, 'cell': 172, 'inside': 173, 'glass': 174, 'giraffes': 175, 'sidewalk': 176, 'stands': 177, 'child': 178, 'boat': 179, 'back': 180, 'women': 181, 'orange': 182, 'cars': 183, 'photo': 184, 'bat': 185, 'horses': 186, 'skiing': 187, 'couch': 188, 'baby': 189, 'zebras': 190, 'fence': 191, 'bird': 192, 'sit': 193, 'racket': 194, 'hydrant': 195, 'view': 196, 'bananas': 197, 'grassy': 198, 'elephants': 199, 'stand': 200, 'shirt': 201, 'middle': 202, 'vegetables': 203, 'hill': 204, 'four': 205, 'flowers': 206, 'tie': 207, 'tall': 208, 'hand': 209, 'vase': 210, 'off': 211, 'grazing': 212, 'driving': 213, 'different': 214, 'zebra': 215, 'bike': 216, 'being': 217, 'ground': 218, 'mirror': 219, 'full': 220, 'hanging': 221, 'another': 222, 'tracks': 223, 'slope': 224, 'dirt': 225, 'along': 226, 'ready': 227, 'mountain': 228, 'lot': 229, 'wine': 230, 'station': 231, 'talking': 232, 'cows': 233, 'taking': 234, 'skate': 235, 'stuffed': 236, 'during': 237, 'day': 238, 'floor': 239, 'swinging': 240, 'signs': 241, 'pink': 242, 'herd': 243, 'airport': 244, 'ski': 245, 'head': 246, 'guy': 247, 'glasses': 248, 'display': 249, 'cutting': 250, 'above': 251, 'image': 252, 'fruit': 253, 'refrigerator': 254, 'holds': 255, 'going': 256, 'empty': 257, 'cow': 258, 'broccoli': 259, 'wii': 260, 'pair': 261, 'long': 262, 'colorful': 263, 'beside': 264, 'track': 265, 'surf': 266, 'stove': 267, 'pole': 268, 'parking': 269, 'crowd': 270, 'against': 271, 'tower': 272, 'luggage': 273, 'dogs': 274, 'snowy': 275, 'runway': 276, 'lots': 277, 'hat': 278, 'umbrellas': 279, 'smiling': 280, 'scissors': 281, 'kites': 282, 'getting': 283, 'buildings': 284, 'walk': 285, 'using': 286, 'chairs': 287, 'animals': 288, 'skier': 289, 'racquet': 290, 'posing': 291, 'passenger': 292, 'paper': 293, 'corner': 294, 'banana': 295, 'across': 296, 'topped': 297, 'them': 298, 'running': 299, 'piece': 300, 'night': 301, 'lights': 302, 'jumping': 303, 'hot': 304, 'hit': 305, 'video': 306, 'tv': 307, 'looks': 308, 'carrying': 309, 'suit': 310, 'remote': 311, 'oven': 312, 'home': 313, 'doing': 314, 'box': 315, 'body': 316, 'birds': 317, 'batter': 318, 'television': 319, 'plates': 320, 'house': 321, 'children': 322, 'camera': 323, 'busy': 324, 'boats': 325, 'various': 326, 'soccer': 327, 'motorcycles': 328, 'jet': 329, 'cheese': 330, 'bears': 331, 'shower': 332, 'metal': 333, 'male': 334, 'double': 335, 'bedroom': 336, 'wood': 337, 'trick': 338, 'skiers': 339, 'sand': 340, 'rides': 341, 'traveling': 342, 'dark': 343, 'be': 344, 'snowboard': 345, 'microwave': 346, 'lady': 347, 'keyboard': 348, 'items': 349, 'he': 350, 'drinking': 351, 'door': 352, 'way': 353, 'tray': 354, 'river': 355, 'restaurant': 356, 'players': 357, 'meat': 358, 'like': 359, 'set': 360, 'line': 361, 'kids': 362, 'cup': 363, 'all': 364, 'about': 365, 'watching': 366, 'bridge': 367, 'brick': 368, 'book': 369, 'toy': 370, 'skateboarder': 371, 'photograph': 372, 'made': 373, 'kid': 374, 'coffee': 375, 'bread': 376, 'boys': 377, 'surfer': 378, 'shown': 379, 'row': 380, 'ramp': 381, 'face': 382, 'donuts': 383, 'cut': 384, 'cross': 385, 'something': 386, 'preparing': 387, 'market': 388, 'lake': 389, 'half': 390, 'dressed': 391, 'decker': 392, 'who': 393, 'tub': 394, 'surrounded': 395, 'suitcase': 396, 'slice': 397, 'oranges': 398, 'lying': 399, 'lush': 400, 'knife': 401, 'him': 402, 'gray': 403, 'furniture': 404, 'forest': 405, 'enclosure': 406, 'bicycle': 407, 'bath': 408, 'scene': 409, 'purple': 410, 'play': 411, 'number': 412, 'hands': 413, 'bottle': 414, 'beautiful': 415, 'swing': 416, 'screen': 417, 'pulling': 418, 'past': 419, 'leaning': 420, 'jacket': 421, 'female': 422, 'country': 423, 'carrots': 424, 'cabinets': 425, 'animal': 426, 'walks': 427, 'waiting': 428, 'shelf': 429, 'pan': 430, 'older': 431, 'making': 432, 'look': 433, 'leaves': 434, 'bag': 435, 'zoo': 436, 'someone': 437, 'snowboarder': 438, 'mouth': 439, 'meal': 440, 'grey': 441, 'dress': 442, 'controller': 443, 'base': 444, 'intersection': 445, 'fries': 446, 'few': 447, 'displayed': 448, 'clean': 449, 'throwing': 450, 'sun': 451, 'store': 452, 'stone': 453, 'seen': 454, 'police': 455, 'onto': 456, 'decorated': 457, 'cute': 458, 'chocolate': 459, 'buses': 460, 'between': 461, 'variety': 462, 'silver': 463, 'showing': 464, 'salad': 465, 'rocks': 466, 'lined': 467, 'high': 468, 'girls': 469, 'fruits': 470, 'engine': 471, 'birthday': 472, 'attached': 473, 'adult': 474, 'waves': 475, 'trying': 476, 'slices': 477, 'sleeping': 478, 'skateboarding': 479, 'pitch': 480, 'pile': 481, 'pictures': 482, 'painted': 483, 'multiple': 484, 'lit': 485, 'hair': 486, 'catch': 487, 'types': 488, 'surfing': 489, 'stopped': 490, 'setting': 491, 'placed': 492, 'outdoor': 493, 'mounted': 494, 'motor': 495, 'helmet': 496, 'gear': 497, 'windows': 498, 'underneath': 499, 'tables': 500, 'sofa': 501, 'seat': 502, 'resting': 503, 'public': 504, 'pizzas': 505, 'moving': 506, 'mouse': 507, 'lap': 508, 'hotel': 509, 'hitting': 510, 'flower': 511, 'edge': 512, 'cats': 513, 'brushing': 514, 'been': 515, 'apple': 516, 'working': 517, 'uniform': 518, 'shot': 519, 'rock': 520, 'ride': 521, 'performing': 522, 'passing': 523, 'nearby': 524, 'mountains': 525, 'graffiti': 526, 'floating': 527, 'flies': 528, 'five': 529, 'drink': 530, 'coming': 531, 'colored': 532, 'clocks': 533, 'case': 534, 'carriage': 535, 'branch': 536, 'books': 537, 'bathtub': 538, 'apples': 539, 'tarmac': 540, 'rain': 541, 'others': 542, 'office': 543, 'just': 544, 'have': 545, 'fly': 546, 'eaten': 547, 'eat': 548, 'doughnut': 549, 'dish': 550, 'cloudy': 551, 'clear': 552, 'bright': 553, 'watches': 554, 'walls': 555, 'vases': 556, 'trunk': 557, 'tiled': 558, 'teeth': 559, 'she': 560, 'school': 561, 'sandy': 562, 'plant': 563, 'perched': 564, 'pasture': 565, 'or': 566, 'modern': 567, 'military': 568, 'donut': 569, 'dirty': 570, 'dinner': 571, 'desert': 572, 'catcher': 573, 'bikes': 574, 'yard': 575, 'wet': 576, 'watch': 577, 'tricks': 578, 'toppings': 579, 'toothbrush': 580, 'surface': 581, 'statue': 582, 'shaped': 583, 'scooter': 584, 'sandwiches': 585, 'rail': 586, 'plastic': 587, 'pieces': 588, 'path': 589, 'neck': 590, 'mother': 591, 'match': 592, 'machine': 593, 'legs': 594, 'having': 595, 'gathered': 596, 'fork': 597, 'crowded': 598, 'crossing': 599, 'containing': 600, 'church': 601, 'cart': 602, 'candles': 603, 'bushes': 604, 'boxes': 605, 'blender': 606, 'beer': 607, 'alone': 608, 'vehicles': 609, 'vehicle': 610, 'towards': 611, 'sunglasses': 612, 'stairs': 613, 'shop': 614, 'rice': 615, 'reading': 616, 'plays': 617, 'pitcher': 618, 'not': 619, 'nintendo': 620, 'foods': 621, 'fireplace': 622, 'fenced': 623, 'enjoying': 624, 'end': 625, 'dry': 626, 'dining': 627, 'curb': 628, 'computers': 629, 'christmas': 630, 'center': 631, 'cellphone': 632, 'cattle': 633, 'catching': 634, 'brush': 635, 'boards': 636, 'boarding': 637, 'blanket': 638, 'bicycles': 639, 'basket': 640, 'bags': 641, 'wild': 642, 'trail': 643, 'town': 644, 'style': 645, 'stacked': 646, 'smiles': 647, 'sliced': 648, 'served': 649, 'sauce': 650, 'pulled': 651, 'professional': 652, 'pretty': 653, 'pots': 654, 'platform': 655, 'place': 656, 'phones': 657, 'meter': 658, 'hillside': 659, 'french': 660, 'feeding': 661, 'distance': 662, 'control': 663, 'chicken': 664, 'cement': 665, 'can': 666, 'bowls': 667, 'bottles': 668, 'boarder': 669, 'benches': 670, 'assortment': 671, 'towel': 672, 'toward': 673, 'toddler': 674, 'tile': 675, 'taken': 676, 'sunny': 677, 'striped': 678, 'sticking': 679, 'sinks': 680, 'single': 681, 'shoes': 682, 'rests': 683, 'railroad': 684, 'putting': 685, 'potatoes': 686, 'plants': 687, 'planes': 688, 'pillows': 689, 'pen': 690, 'no': 691, 'landing': 692, 'jumps': 693, 'jump': 694, 'huge': 695, 'hotdog': 696, 'fridge': 697, 'fish': 698, 'event': 699, 'dock': 700, 'cream': 701, 'collection': 702, 'clothes': 703, 'business': 704, 'atop': 705, 'antique': 706, 'wooded': 707, 'wire': 708, 'transit': 709, 'things': 710, 'steam': 711, 'skateboards': 712, 'serve': 713, 'reaching': 714, 'pool': 715, 'pie': 716, 'persons': 717, 'overhead': 718, 'monitor': 719, 'mid': 720, 'guys': 721, 'graze': 722, 'flag': 723, 'equipment': 724, 'doughnuts': 725, 'cooking': 726, 'cooked': 727, 'container': 728, 'cluttered': 729, 'away': 730, 'arm': 731, 'appliances': 732, 'vest': 733, 'type': 734, 'trains': 735, 'toilets': 736, 'steps': 737, 'square': 738, 'spoon': 739, 'shore': 740, 'shade': 741, 'sale': 742, 'run': 743, 'right': 744, 'rack': 745, 'prepares': 746, 'polar': 747, 'picnic': 748, 'party': 749, 'outdoors': 750, 'officer': 751, 'mound': 752, 'ledge': 753, 'kind': 754, 'hay': 755, 'gold': 756, 'giving': 757, 'feet': 758, 'fancy': 759, 'couches': 760, 'concrete': 761, 'closeup': 762, 'broken': 763, 'asian': 764, 'among': 765, 'adults': 766, 'action': 767, 'woods': 768, 'where': 769, 'vintage': 770, 'trucks': 771, 'time': 772, 'throw': 773, 'tan': 774, 'takes': 775, 'take': 776, 'surfers': 777, 'surfboards': 778, 'snowboarding': 779, 'smoke': 780, 'serving': 781, 'rug': 782, 'roof': 783, 'pushing': 784, 'pot': 785, 'pond': 786, 'poles': 787, 'pastries': 788, 'passengers': 789, 'pants': 790, 'overlooking': 791, 'nice': 792, 'mans': 793, 'makes': 794, 'low': 795, 'laptops': 796, 'guitar': 797, 'growing': 798, 'go': 799, 'glove': 800, 'fresh': 801, 'flat': 802, 'family': 803, 'doors': 804, 'dessert': 805, 'colors': 806, 'bush': 807, 'bunches': 808, 'both': 809, 'blurry': 810, 'bite': 811, 'below': 812, 'beds': 813, 'bar': 814, 'after': 815, 'work': 816, 'winter': 817, 'travelling': 818, 'tow': 819, 'throws': 820, 'swimming': 821, 'supplies': 822, 'suitcases': 823, 'subway': 824, 'still': 825, 'space': 826, 'soup': 827, 'someones': 828, 'skies': 829, 'show': 830, 'sheet': 831, 'round': 832, 'railing': 833, 'pulls': 834, 'pose': 835, 'petting': 836, 'pepperoni': 837, 'pedestrians': 838, 'narrow': 839, 'lamp': 840, 'ketchup': 841, 'juice': 842, 'island': 843, 'ice': 844, 'himself': 845, 'hard': 846, 'giant': 847, 'get': 848, 'games': 849, 'eyes': 850, 'drinks': 851, 'displaying': 852, 'decorative': 853, 'curtain': 854, 'coat': 855, 'close-up': 856, 'chips': 857, 'chasing': 858, 'carrot': 859, 'cabinet': 860, 'backpack': 861, 'airplanes': 862, 'airliner': 863}}}\n"
          ]
        }
      ],
      "source": [
        "print(m)    #m is an dictionary"
      ]
    },
    {
      "cell_type": "code",
      "execution_count": 5,
      "metadata": {
        "colab": {
          "base_uri": "https://localhost:8080/"
        },
        "id": "n6jhyQoV0-b4",
        "outputId": "ce5986df-bccc-427b-ec09-386d8a082224"
      },
      "outputs": [
        {
          "data": {
            "text/plain": [
              "torch.Size([10000, 17])"
            ]
          },
          "execution_count": 5,
          "metadata": {},
          "output_type": "execute_result"
        }
      ],
      "source": [
        "m['train_captions'].shape"
      ]
    },
    {
      "cell_type": "code",
      "execution_count": 6,
      "metadata": {
        "colab": {
          "base_uri": "https://localhost:8080/"
        },
        "id": "qO-jbJr82gN5",
        "outputId": "793a4a68-bb43-434d-ee62-ebba89f5535b"
      },
      "outputs": [
        {
          "data": {
            "text/plain": [
              "tensor([  1,  15, 175,  19,   8, 132, 690,   4,  73,  10,  28, 146,   2,   0,\n",
              "          0,   0,   0])"
            ]
          },
          "execution_count": 6,
          "metadata": {},
          "output_type": "execute_result"
        }
      ],
      "source": [
        "m['train_captions'][0]"
      ]
    },
    {
      "cell_type": "code",
      "execution_count": 7,
      "metadata": {
        "colab": {
          "base_uri": "https://localhost:8080/"
        },
        "id": "dQIu-1pF5jux",
        "outputId": "8ca88d5a-cdd2-4014-a1d5-6043b7f92fd1"
      },
      "outputs": [
        {
          "data": {
            "text/plain": [
              "torch.Size([10000, 3, 112, 112])"
            ]
          },
          "execution_count": 7,
          "metadata": {},
          "output_type": "execute_result"
        }
      ],
      "source": [
        "m['train_images'].shape"
      ]
    },
    {
      "cell_type": "code",
      "execution_count": 8,
      "metadata": {
        "colab": {
          "base_uri": "https://localhost:8080/"
        },
        "id": "MuT0XqTW5tb0",
        "outputId": "1ea54a1b-5cf1-4c25-8f31-2562238b7dd7"
      },
      "outputs": [
        {
          "data": {
            "text/plain": [
              "{'<END>': 2,\n",
              " '<NULL>': 0,\n",
              " '<START>': 1,\n",
              " '<UNK>': 3,\n",
              " 'a': 4,\n",
              " 'about': 365,\n",
              " 'above': 251,\n",
              " 'across': 296,\n",
              " 'action': 767,\n",
              " 'adult': 474,\n",
              " 'adults': 766,\n",
              " 'after': 815,\n",
              " 'against': 271,\n",
              " 'air': 112,\n",
              " 'airliner': 863,\n",
              " 'airplane': 141,\n",
              " 'airplanes': 862,\n",
              " 'airport': 244,\n",
              " 'all': 364,\n",
              " 'alone': 608,\n",
              " 'along': 226,\n",
              " 'among': 765,\n",
              " 'an': 16,\n",
              " 'and': 10,\n",
              " 'animal': 426,\n",
              " 'animals': 288,\n",
              " 'another': 222,\n",
              " 'antique': 706,\n",
              " 'apple': 516,\n",
              " 'apples': 539,\n",
              " 'appliances': 732,\n",
              " 'are': 19,\n",
              " 'area': 123,\n",
              " 'arm': 731,\n",
              " 'around': 109,\n",
              " 'as': 160,\n",
              " 'asian': 764,\n",
              " 'assortment': 671,\n",
              " 'at': 20,\n",
              " 'atop': 705,\n",
              " 'attached': 473,\n",
              " 'away': 730,\n",
              " 'baby': 189,\n",
              " 'back': 180,\n",
              " 'background': 162,\n",
              " 'backpack': 861,\n",
              " 'bag': 435,\n",
              " 'bags': 641,\n",
              " 'ball': 72,\n",
              " 'banana': 295,\n",
              " 'bananas': 197,\n",
              " 'bar': 814,\n",
              " 'base': 444,\n",
              " 'baseball': 50,\n",
              " 'basket': 640,\n",
              " 'bat': 185,\n",
              " 'bath': 408,\n",
              " 'bathroom': 61,\n",
              " 'bathtub': 538,\n",
              " 'batter': 318,\n",
              " 'be': 344,\n",
              " 'beach': 70,\n",
              " 'bear': 100,\n",
              " 'bears': 331,\n",
              " 'beautiful': 415,\n",
              " 'bed': 74,\n",
              " 'bedroom': 336,\n",
              " 'beds': 813,\n",
              " 'been': 515,\n",
              " 'beer': 607,\n",
              " 'behind': 130,\n",
              " 'being': 217,\n",
              " 'below': 812,\n",
              " 'bench': 111,\n",
              " 'benches': 670,\n",
              " 'beside': 264,\n",
              " 'between': 461,\n",
              " 'bicycle': 407,\n",
              " 'bicycles': 639,\n",
              " 'big': 154,\n",
              " 'bike': 216,\n",
              " 'bikes': 574,\n",
              " 'bird': 192,\n",
              " 'birds': 317,\n",
              " 'birthday': 472,\n",
              " 'bite': 811,\n",
              " 'black': 48,\n",
              " 'blanket': 638,\n",
              " 'blender': 606,\n",
              " 'blue': 67,\n",
              " 'blurry': 810,\n",
              " 'board': 115,\n",
              " 'boarder': 669,\n",
              " 'boarding': 637,\n",
              " 'boards': 636,\n",
              " 'boat': 179,\n",
              " 'boats': 325,\n",
              " 'body': 316,\n",
              " 'book': 369,\n",
              " 'books': 537,\n",
              " 'both': 809,\n",
              " 'bottle': 414,\n",
              " 'bottles': 668,\n",
              " 'bowl': 157,\n",
              " 'bowls': 667,\n",
              " 'box': 315,\n",
              " 'boxes': 605,\n",
              " 'boy': 86,\n",
              " 'boys': 377,\n",
              " 'branch': 536,\n",
              " 'bread': 376,\n",
              " 'brick': 368,\n",
              " 'bridge': 367,\n",
              " 'bright': 553,\n",
              " 'broccoli': 259,\n",
              " 'broken': 763,\n",
              " 'brown': 114,\n",
              " 'brush': 635,\n",
              " 'brushing': 514,\n",
              " 'building': 73,\n",
              " 'buildings': 284,\n",
              " 'bunch': 161,\n",
              " 'bunches': 808,\n",
              " 'bus': 64,\n",
              " 'buses': 460,\n",
              " 'bush': 807,\n",
              " 'bushes': 604,\n",
              " 'business': 704,\n",
              " 'busy': 324,\n",
              " 'by': 47,\n",
              " 'cabinet': 860,\n",
              " 'cabinets': 425,\n",
              " 'cake': 129,\n",
              " 'camera': 323,\n",
              " 'can': 666,\n",
              " 'candles': 603,\n",
              " 'car': 122,\n",
              " 'carriage': 535,\n",
              " 'carrot': 859,\n",
              " 'carrots': 424,\n",
              " 'carrying': 309,\n",
              " 'cars': 183,\n",
              " 'cart': 602,\n",
              " 'case': 534,\n",
              " 'cat': 52,\n",
              " 'catch': 487,\n",
              " 'catcher': 573,\n",
              " 'catching': 634,\n",
              " 'cats': 513,\n",
              " 'cattle': 633,\n",
              " 'cell': 172,\n",
              " 'cellphone': 632,\n",
              " 'cement': 665,\n",
              " 'center': 631,\n",
              " 'chair': 164,\n",
              " 'chairs': 287,\n",
              " 'chasing': 858,\n",
              " 'cheese': 330,\n",
              " 'chicken': 664,\n",
              " 'child': 178,\n",
              " 'children': 322,\n",
              " 'chips': 857,\n",
              " 'chocolate': 459,\n",
              " 'christmas': 630,\n",
              " 'church': 601,\n",
              " 'city': 91,\n",
              " 'clean': 449,\n",
              " 'clear': 552,\n",
              " 'clock': 116,\n",
              " 'clocks': 533,\n",
              " 'close': 147,\n",
              " 'close-up': 856,\n",
              " 'closeup': 762,\n",
              " 'clothes': 703,\n",
              " 'cloudy': 551,\n",
              " 'cluttered': 729,\n",
              " 'coat': 855,\n",
              " 'coffee': 375,\n",
              " 'collection': 702,\n",
              " 'colored': 532,\n",
              " 'colorful': 263,\n",
              " 'colors': 806,\n",
              " 'coming': 531,\n",
              " 'computer': 151,\n",
              " 'computers': 629,\n",
              " 'concrete': 761,\n",
              " 'container': 728,\n",
              " 'containing': 600,\n",
              " 'control': 663,\n",
              " 'controller': 443,\n",
              " 'cooked': 727,\n",
              " 'cooking': 726,\n",
              " 'corner': 294,\n",
              " 'couch': 188,\n",
              " 'couches': 760,\n",
              " 'counter': 168,\n",
              " 'country': 423,\n",
              " 'couple': 71,\n",
              " 'court': 131,\n",
              " 'covered': 128,\n",
              " 'cow': 258,\n",
              " 'cows': 233,\n",
              " 'cream': 701,\n",
              " 'cross': 385,\n",
              " 'crossing': 599,\n",
              " 'crowd': 270,\n",
              " 'crowded': 598,\n",
              " 'cup': 363,\n",
              " 'curb': 628,\n",
              " 'curtain': 854,\n",
              " 'cut': 384,\n",
              " 'cute': 458,\n",
              " 'cutting': 250,\n",
              " 'dark': 343,\n",
              " 'day': 238,\n",
              " 'decker': 392,\n",
              " 'decorated': 457,\n",
              " 'decorative': 853,\n",
              " 'desert': 572,\n",
              " 'desk': 155,\n",
              " 'dessert': 805,\n",
              " 'different': 214,\n",
              " 'dining': 627,\n",
              " 'dinner': 571,\n",
              " 'dirt': 225,\n",
              " 'dirty': 570,\n",
              " 'dish': 550,\n",
              " 'display': 249,\n",
              " 'displayed': 448,\n",
              " 'displaying': 852,\n",
              " 'distance': 662,\n",
              " 'dock': 700,\n",
              " 'dog': 44,\n",
              " 'dogs': 274,\n",
              " 'doing': 314,\n",
              " 'donut': 569,\n",
              " 'donuts': 383,\n",
              " 'door': 352,\n",
              " 'doors': 804,\n",
              " 'double': 335,\n",
              " 'doughnut': 549,\n",
              " 'doughnuts': 725,\n",
              " 'down': 30,\n",
              " 'dress': 442,\n",
              " 'dressed': 391,\n",
              " 'drink': 530,\n",
              " 'drinking': 351,\n",
              " 'drinks': 851,\n",
              " 'driving': 213,\n",
              " 'dry': 626,\n",
              " 'during': 237,\n",
              " 'each': 113,\n",
              " 'eat': 548,\n",
              " 'eaten': 547,\n",
              " 'eating': 96,\n",
              " 'edge': 512,\n",
              " 'elephant': 136,\n",
              " 'elephants': 199,\n",
              " 'empty': 257,\n",
              " 'enclosure': 406,\n",
              " 'end': 625,\n",
              " 'engine': 471,\n",
              " 'enjoying': 624,\n",
              " 'equipment': 724,\n",
              " 'event': 699,\n",
              " 'eyes': 850,\n",
              " 'face': 382,\n",
              " 'family': 803,\n",
              " 'fancy': 759,\n",
              " 'feeding': 661,\n",
              " 'feet': 758,\n",
              " 'female': 422,\n",
              " 'fence': 191,\n",
              " 'fenced': 623,\n",
              " 'few': 447,\n",
              " 'field': 35,\n",
              " 'filled': 148,\n",
              " 'fire': 167,\n",
              " 'fireplace': 622,\n",
              " 'fish': 698,\n",
              " 'five': 529,\n",
              " 'flag': 723,\n",
              " 'flat': 802,\n",
              " 'flies': 528,\n",
              " 'floating': 527,\n",
              " 'floor': 239,\n",
              " 'flower': 511,\n",
              " 'flowers': 206,\n",
              " 'fly': 546,\n",
              " 'flying': 79,\n",
              " 'food': 66,\n",
              " 'foods': 621,\n",
              " 'for': 78,\n",
              " 'forest': 405,\n",
              " 'fork': 597,\n",
              " 'four': 205,\n",
              " 'french': 660,\n",
              " 'fresh': 801,\n",
              " 'fridge': 697,\n",
              " 'fries': 446,\n",
              " 'frisbee': 97,\n",
              " 'from': 107,\n",
              " 'front': 42,\n",
              " 'fruit': 253,\n",
              " 'fruits': 470,\n",
              " 'full': 220,\n",
              " 'furniture': 404,\n",
              " 'game': 84,\n",
              " 'games': 849,\n",
              " 'gathered': 596,\n",
              " 'gear': 497,\n",
              " 'get': 848,\n",
              " 'getting': 283,\n",
              " 'giant': 847,\n",
              " 'giraffe': 106,\n",
              " 'giraffes': 175,\n",
              " 'girl': 87,\n",
              " 'girls': 469,\n",
              " 'giving': 757,\n",
              " 'glass': 174,\n",
              " 'glasses': 248,\n",
              " 'glove': 800,\n",
              " 'go': 799,\n",
              " 'going': 256,\n",
              " 'gold': 756,\n",
              " 'graffiti': 526,\n",
              " 'grass': 65,\n",
              " 'grassy': 198,\n",
              " 'gray': 403,\n",
              " 'graze': 722,\n",
              " 'grazing': 212,\n",
              " 'green': 68,\n",
              " 'grey': 441,\n",
              " 'ground': 218,\n",
              " 'group': 33,\n",
              " 'growing': 798,\n",
              " 'guitar': 797,\n",
              " 'guy': 247,\n",
              " 'guys': 721,\n",
              " 'hair': 486,\n",
              " 'half': 390,\n",
              " 'hand': 209,\n",
              " 'hands': 413,\n",
              " 'hanging': 221,\n",
              " 'hard': 846,\n",
              " 'has': 60,\n",
              " 'hat': 278,\n",
              " 'have': 545,\n",
              " 'having': 595,\n",
              " 'hay': 755,\n",
              " 'he': 350,\n",
              " 'head': 246,\n",
              " 'helmet': 496,\n",
              " 'her': 95,\n",
              " 'herd': 243,\n",
              " 'high': 468,\n",
              " 'hill': 204,\n",
              " 'hillside': 659,\n",
              " 'him': 402,\n",
              " 'himself': 845,\n",
              " 'his': 46,\n",
              " 'hit': 305,\n",
              " 'hitting': 510,\n",
              " 'holding': 27,\n",
              " 'holds': 255,\n",
              " 'home': 313,\n",
              " 'horse': 103,\n",
              " 'horses': 186,\n",
              " 'hot': 304,\n",
              " 'hotdog': 696,\n",
              " 'hotel': 509,\n",
              " 'house': 321,\n",
              " 'huge': 695,\n",
              " 'hydrant': 195,\n",
              " 'ice': 844,\n",
              " 'image': 252,\n",
              " 'in': 8,\n",
              " 'inside': 173,\n",
              " 'intersection': 445,\n",
              " 'into': 135,\n",
              " 'is': 11,\n",
              " 'island': 843,\n",
              " 'it': 36,\n",
              " 'items': 349,\n",
              " 'its': 121,\n",
              " 'jacket': 421,\n",
              " 'jet': 329,\n",
              " 'juice': 842,\n",
              " 'jump': 694,\n",
              " 'jumping': 303,\n",
              " 'jumps': 693,\n",
              " 'just': 544,\n",
              " 'ketchup': 841,\n",
              " 'keyboard': 348,\n",
              " 'kid': 374,\n",
              " 'kids': 362,\n",
              " 'kind': 754,\n",
              " 'kitchen': 62,\n",
              " 'kite': 134,\n",
              " 'kites': 282,\n",
              " 'knife': 401,\n",
              " 'lady': 347,\n",
              " 'lake': 389,\n",
              " 'lamp': 840,\n",
              " 'landing': 692,\n",
              " 'lap': 508,\n",
              " 'laptop': 119,\n",
              " 'laptops': 796,\n",
              " 'large': 31,\n",
              " 'laying': 89,\n",
              " 'leaning': 420,\n",
              " 'leaves': 434,\n",
              " 'ledge': 753,\n",
              " 'legs': 594,\n",
              " 'light': 158,\n",
              " 'lights': 302,\n",
              " 'like': 359,\n",
              " 'line': 361,\n",
              " 'lined': 467,\n",
              " 'lit': 485,\n",
              " 'little': 149,\n",
              " 'living': 127,\n",
              " 'long': 262,\n",
              " 'look': 433,\n",
              " 'looking': 81,\n",
              " 'looks': 308,\n",
              " 'lot': 229,\n",
              " 'lots': 277,\n",
              " 'low': 795,\n",
              " 'luggage': 273,\n",
              " 'lush': 400,\n",
              " 'lying': 399,\n",
              " 'machine': 593,\n",
              " 'made': 373,\n",
              " 'makes': 794,\n",
              " 'making': 432,\n",
              " 'male': 334,\n",
              " 'man': 12,\n",
              " 'mans': 793,\n",
              " 'many': 145,\n",
              " 'market': 388,\n",
              " 'match': 592,\n",
              " 'meal': 440,\n",
              " 'meat': 358,\n",
              " 'men': 77,\n",
              " 'metal': 333,\n",
              " 'meter': 658,\n",
              " 'microwave': 346,\n",
              " 'mid': 720,\n",
              " 'middle': 202,\n",
              " 'military': 568,\n",
              " 'mirror': 219,\n",
              " 'modern': 567,\n",
              " 'monitor': 719,\n",
              " 'mother': 591,\n",
              " 'motor': 495,\n",
              " 'motorcycle': 153,\n",
              " 'motorcycles': 328,\n",
              " 'mound': 752,\n",
              " 'mountain': 228,\n",
              " 'mountains': 525,\n",
              " 'mounted': 494,\n",
              " 'mouse': 507,\n",
              " 'mouth': 439,\n",
              " 'moving': 506,\n",
              " 'multiple': 484,\n",
              " 'narrow': 839,\n",
              " 'near': 43,\n",
              " 'nearby': 524,\n",
              " 'neck': 590,\n",
              " 'next': 21,\n",
              " 'nice': 792,\n",
              " 'night': 301,\n",
              " 'nintendo': 620,\n",
              " 'no': 691,\n",
              " 'not': 619,\n",
              " 'number': 412,\n",
              " 'ocean': 169,\n",
              " 'of': 6,\n",
              " 'off': 211,\n",
              " 'office': 543,\n",
              " 'officer': 751,\n",
              " 'old': 150,\n",
              " 'older': 431,\n",
              " 'on': 5,\n",
              " 'one': 120,\n",
              " 'onto': 456,\n",
              " 'open': 133,\n",
              " 'or': 566,\n",
              " 'orange': 182,\n",
              " 'oranges': 398,\n",
              " 'other': 69,\n",
              " 'others': 542,\n",
              " 'out': 99,\n",
              " 'outdoor': 493,\n",
              " 'outdoors': 750,\n",
              " 'outside': 104,\n",
              " 'oven': 312,\n",
              " 'over': 93,\n",
              " 'overhead': 718,\n",
              " 'overlooking': 791,\n",
              " 'painted': 483,\n",
              " 'pair': 261,\n",
              " 'pan': 430,\n",
              " 'pants': 790,\n",
              " 'paper': 293,\n",
              " 'park': 126,\n",
              " 'parked': 76,\n",
              " 'parking': 269,\n",
              " 'party': 749,\n",
              " 'passenger': 292,\n",
              " 'passengers': 789,\n",
              " 'passing': 523,\n",
              " 'past': 419,\n",
              " 'pastries': 788,\n",
              " 'pasture': 565,\n",
              " 'path': 589,\n",
              " 'pedestrians': 838,\n",
              " 'pen': 690,\n",
              " 'people': 18,\n",
              " 'pepperoni': 837,\n",
              " 'perched': 564,\n",
              " 'performing': 522,\n",
              " 'person': 29,\n",
              " 'persons': 717,\n",
              " 'petting': 836,\n",
              " 'phone': 108,\n",
              " 'phones': 657,\n",
              " 'photo': 184,\n",
              " 'photograph': 372,\n",
              " 'picnic': 748,\n",
              " 'picture': 105,\n",
              " 'pictures': 482,\n",
              " 'pie': 716,\n",
              " 'piece': 300,\n",
              " 'pieces': 588,\n",
              " 'pile': 481,\n",
              " 'pillows': 689,\n",
              " 'pink': 242,\n",
              " 'pitch': 480,\n",
              " 'pitcher': 618,\n",
              " 'pizza': 59,\n",
              " 'pizzas': 505,\n",
              " 'place': 656,\n",
              " 'placed': 492,\n",
              " 'plane': 171,\n",
              " 'planes': 688,\n",
              " 'plant': 563,\n",
              " 'plants': 687,\n",
              " 'plastic': 587,\n",
              " 'plate': 37,\n",
              " 'plates': 320,\n",
              " 'platform': 655,\n",
              " 'play': 411,\n",
              " 'player': 88,\n",
              " 'players': 357,\n",
              " 'playing': 55,\n",
              " 'plays': 617,\n",
              " 'polar': 747,\n",
              " 'pole': 268,\n",
              " 'poles': 787,\n",
              " 'police': 455,\n",
              " 'pond': 786,\n",
              " 'pool': 715,\n",
              " 'pose': 835,\n",
              " 'posing': 291,\n",
              " 'pot': 785,\n",
              " 'potatoes': 686,\n",
              " 'pots': 654,\n",
              " 'prepares': 746,\n",
              " 'preparing': 387,\n",
              " 'pretty': 653,\n",
              " 'professional': 652,\n",
              " 'public': 504,\n",
              " 'pulled': 651,\n",
              " 'pulling': 418,\n",
              " 'pulls': 834,\n",
              " 'purple': 410,\n",
              " 'pushing': 784,\n",
              " 'putting': 685,\n",
              " 'rack': 745,\n",
              " 'racket': 194,\n",
              " 'racquet': 290,\n",
              " 'rail': 586,\n",
              " 'railing': 833,\n",
              " 'railroad': 684,\n",
              " 'rain': 541,\n",
              " 'ramp': 381,\n",
              " 'reaching': 714,\n",
              " 'reading': 616,\n",
              " 'ready': 227,\n",
              " 'red': 45,\n",
              " 'refrigerator': 254,\n",
              " 'remote': 311,\n",
              " 'restaurant': 356,\n",
              " 'resting': 503,\n",
              " 'rests': 683,\n",
              " 'rice': 615,\n",
              " 'ride': 521,\n",
              " 'rides': 341,\n",
              " 'riding': 40,\n",
              " 'right': 744,\n",
              " 'river': 355,\n",
              " 'road': 85,\n",
              " 'rock': 520,\n",
              " 'rocks': 466,\n",
              " 'roof': 783,\n",
              " 'room': 41,\n",
              " 'round': 832,\n",
              " 'row': 380,\n",
              " 'rug': 782,\n",
              " 'run': 743,\n",
              " 'running': 299,\n",
              " 'runway': 276,\n",
              " 'salad': 465,\n",
              " 'sale': 742,\n",
              " 'sand': 340,\n",
              " 'sandwich': 170,\n",
              " 'sandwiches': 585,\n",
              " 'sandy': 562,\n",
              " 'sauce': 650,\n",
              " 'scene': 409,\n",
              " 'school': 561,\n",
              " 'scissors': 281,\n",
              " 'scooter': 584,\n",
              " 'screen': 417,\n",
              " 'seat': 502,\n",
              " 'seen': 454,\n",
              " 'serve': 713,\n",
              " 'served': 649,\n",
              " 'serving': 781,\n",
              " 'set': 360,\n",
              " 'setting': 491,\n",
              " 'several': 98,\n",
              " 'shade': 741,\n",
              " 'shaped': 583,\n",
              " 'she': 560,\n",
              " 'sheep': 143,\n",
              " 'sheet': 831,\n",
              " 'shelf': 429,\n",
              " 'shirt': 201,\n",
              " 'shoes': 682,\n",
              " 'shop': 614,\n",
              " 'shore': 740,\n",
              " 'shot': 519,\n",
              " 'show': 830,\n",
              " 'shower': 332,\n",
              " 'showing': 464,\n",
              " 'shown': 379,\n",
              " 'side': 80,\n",
              " 'sidewalk': 176,\n",
              " 'sign': 56,\n",
              " 'signs': 241,\n",
              " 'silver': 463,\n",
              " 'single': 681,\n",
              " 'sink': 102,\n",
              " 'sinks': 680,\n",
              " 'sit': 193,\n",
              " 'sits': 92,\n",
              " 'sitting': 14,\n",
              " 'skate': 235,\n",
              " 'skateboard': 90,\n",
              " 'skateboarder': 371,\n",
              " 'skateboarding': 479,\n",
              " 'skateboards': 712,\n",
              " 'ski': 245,\n",
              " 'skier': 289,\n",
              " 'skiers': 339,\n",
              " 'skies': 829,\n",
              " 'skiing': 187,\n",
              " 'skis': 152,\n",
              " 'sky': 159,\n",
              " 'sleeping': 478,\n",
              " 'slice': 397,\n",
              " 'sliced': 648,\n",
              " 'slices': 477,\n",
              " 'slope': 224,\n",
              " 'small': 39,\n",
              " 'smiles': 647,\n",
              " 'smiling': 280,\n",
              " 'smoke': 780,\n",
              " 'snow': 57,\n",
              " 'snowboard': 345,\n",
              " 'snowboarder': 438,\n",
              " 'snowboarding': 779,\n",
              " 'snowy': 275,\n",
              " 'soccer': 327,\n",
              " 'sofa': 501,\n",
              " 'some': 28,\n",
              " 'someone': 437,\n",
              " 'someones': 828,\n",
              " 'something': 386,\n",
              " 'soup': 827,\n",
              " 'space': 826,\n",
              " 'spoon': 739,\n",
              " 'square': 738,\n",
              " 'stacked': 646,\n",
              " 'stairs': 613,\n",
              " 'stand': 200,\n",
              " 'standing': 17,\n",
              " 'stands': 177,\n",
              " 'station': 231,\n",
              " 'statue': 582,\n",
              " 'steam': 711,\n",
              " 'steps': 737,\n",
              " 'sticking': 679,\n",
              " 'still': 825,\n",
              " 'stone': 453,\n",
              " 'stop': 125,\n",
              " 'stopped': 490,\n",
              " 'store': 452,\n",
              " 'stove': 267,\n",
              " 'street': 26,\n",
              " 'striped': 678,\n",
              " 'stuffed': 236,\n",
              " 'style': 645,\n",
              " 'subway': 824,\n",
              " 'suit': 310,\n",
              " 'suitcase': 396,\n",
              " 'suitcases': 823,\n",
              " 'sun': 451,\n",
              " 'sunglasses': 612,\n",
              " 'sunny': 677,\n",
              " 'supplies': 822,\n",
              " 'surf': 266,\n",
              " 'surface': 581,\n",
              " 'surfboard': 144,\n",
              " 'surfboards': 778,\n",
              " 'surfer': 378,\n",
              " 'surfers': 777,\n",
              " 'surfing': 489,\n",
              " 'surrounded': 395,\n",
              " 'swimming': 821,\n",
              " 'swing': 416,\n",
              " 'swinging': 240,\n",
              " 'table': 24,\n",
              " 'tables': 500,\n",
              " 'take': 776,\n",
              " 'taken': 676,\n",
              " 'takes': 775,\n",
              " 'taking': 234,\n",
              " 'talking': 232,\n",
              " 'tall': 208,\n",
              " 'tan': 774,\n",
              " 'tarmac': 540,\n",
              " 'teddy': 166,\n",
              " 'teeth': 559,\n",
              " 'television': 319,\n",
              " 'tennis': 34,\n",
              " 'that': 25,\n",
              " 'the': 7,\n",
              " 'their': 132,\n",
              " 'them': 298,\n",
              " 'there': 63,\n",
              " 'things': 710,\n",
              " 'this': 140,\n",
              " 'three': 75,\n",
              " 'through': 101,\n",
              " 'throw': 773,\n",
              " 'throwing': 450,\n",
              " 'throws': 820,\n",
              " 'tie': 207,\n",
              " 'tile': 675,\n",
              " 'tiled': 558,\n",
              " 'time': 772,\n",
              " 'to': 13,\n",
              " 'toddler': 674,\n",
              " 'together': 156,\n",
              " 'toilet': 83,\n",
              " 'toilets': 736,\n",
              " 'toothbrush': 580,\n",
              " 'top': 32,\n",
              " 'topped': 297,\n",
              " 'toppings': 579,\n",
              " 'tow': 819,\n",
              " 'toward': 673,\n",
              " 'towards': 611,\n",
              " 'towel': 672,\n",
              " 'tower': 272,\n",
              " 'town': 644,\n",
              " 'toy': 370,\n",
              " 'track': 265,\n",
              " 'tracks': 223,\n",
              " 'traffic': 165,\n",
              " 'trail': 643,\n",
              " 'train': 49,\n",
              " 'trains': 735,\n",
              " 'transit': 709,\n",
              " 'traveling': 342,\n",
              " 'travelling': 818,\n",
              " 'tray': 354,\n",
              " 'tree': 139,\n",
              " 'trees': 146,\n",
              " 'trick': 338,\n",
              " 'tricks': 578,\n",
              " 'truck': 137,\n",
              " 'trucks': 771,\n",
              " 'trunk': 557,\n",
              " 'trying': 476,\n",
              " 'tub': 394,\n",
              " 'tv': 307,\n",
              " 'two': 15,\n",
              " 'type': 734,\n",
              " 'types': 488,\n",
              " 'umbrella': 138,\n",
              " 'umbrellas': 279,\n",
              " 'under': 124,\n",
              " 'underneath': 499,\n",
              " 'uniform': 518,\n",
              " 'up': 38,\n",
              " 'using': 286,\n",
              " 'variety': 462,\n",
              " 'various': 326,\n",
              " 'vase': 210,\n",
              " 'vases': 556,\n",
              " 'vegetables': 203,\n",
              " 'vehicle': 610,\n",
              " 'vehicles': 609,\n",
              " 'very': 142,\n",
              " 'vest': 733,\n",
              " 'video': 306,\n",
              " 'view': 196,\n",
              " 'vintage': 770,\n",
              " 'waiting': 428,\n",
              " 'walk': 285,\n",
              " 'walking': 54,\n",
              " 'walks': 427,\n",
              " 'wall': 110,\n",
              " 'walls': 555,\n",
              " 'watch': 577,\n",
              " 'watches': 554,\n",
              " 'watching': 366,\n",
              " 'water': 53,\n",
              " 'wave': 163,\n",
              " 'waves': 475,\n",
              " 'way': 353,\n",
              " 'wearing': 94,\n",
              " 'wet': 576,\n",
              " 'where': 769,\n",
              " 'while': 58,\n",
              " 'white': 22,\n",
              " 'who': 393,\n",
              " 'wii': 260,\n",
              " 'wild': 642,\n",
              " 'window': 118,\n",
              " 'windows': 498,\n",
              " 'wine': 230,\n",
              " 'winter': 817,\n",
              " 'wire': 708,\n",
              " 'with': 9,\n",
              " 'woman': 23,\n",
              " 'women': 181,\n",
              " 'wood': 337,\n",
              " 'wooded': 707,\n",
              " 'wooden': 82,\n",
              " 'woods': 768,\n",
              " 'work': 816,\n",
              " 'working': 517,\n",
              " 'yard': 575,\n",
              " 'yellow': 117,\n",
              " 'young': 51,\n",
              " 'zebra': 215,\n",
              " 'zebras': 190,\n",
              " 'zoo': 436}"
            ]
          },
          "execution_count": 8,
          "metadata": {},
          "output_type": "execute_result"
        }
      ],
      "source": [
        "m['vocab'][ 'token_to_idx']  #idx_to_token and  'token_to_idx'\n",
        "\n",
        "#Start is 1 and end is 2"
      ]
    },
    {
      "cell_type": "code",
      "execution_count": 9,
      "metadata": {
        "colab": {
          "base_uri": "https://localhost:8080/"
        },
        "id": "cdzxXFfv4uF-",
        "outputId": "2204f755-5abe-4c43-8d66-f77e42364bdf"
      },
      "outputs": [
        {
          "data": {
            "text/plain": [
              "863"
            ]
          },
          "execution_count": 9,
          "metadata": {},
          "output_type": "execute_result"
        }
      ],
      "source": [
        "max(m['vocab'][ 'token_to_idx'].values())  #we have 864 words in the dict including stop, start, end etc."
      ]
    },
    {
      "cell_type": "code",
      "execution_count": 10,
      "metadata": {
        "colab": {
          "base_uri": "https://localhost:8080/",
          "height": 35
        },
        "id": "3N9GONih74Vu",
        "outputId": "1d4759af-5bdc-4612-aaf3-a23fc0afd535"
      },
      "outputs": [
        {
          "data": {
            "application/vnd.google.colaboratory.intrinsic+json": {
              "type": "string"
            },
            "text/plain": [
              "'on'"
            ]
          },
          "execution_count": 10,
          "metadata": {},
          "output_type": "execute_result"
        }
      ],
      "source": [
        "m['vocab'][ 'idx_to_token'][5]   #This is the way to excess the word when we have index"
      ]
    },
    {
      "cell_type": "code",
      "execution_count": 11,
      "metadata": {
        "id": "OHJFCtG--WiK"
      },
      "outputs": [],
      "source": [
        "#Function to generate the sentence from the indexes for the given image\n",
        "\n",
        "def generate_caption(caption):\n",
        "  cc = caption.clone().cpu()\n",
        "  sentence = ''\n",
        "  for i in cc:\n",
        "    sentence += m['vocab'][ 'idx_to_token'][i] \n",
        "    sentence += ' '\n",
        "\n",
        "  return sentence\n",
        "\n",
        "\n"
      ]
    },
    {
      "cell_type": "code",
      "execution_count": 12,
      "metadata": {
        "colab": {
          "base_uri": "https://localhost:8080/",
          "height": 35
        },
        "id": "d1Wx5txT-oD5",
        "outputId": "4137ca2c-dba0-44d7-e6fa-be4186067d63"
      },
      "outputs": [
        {
          "data": {
            "application/vnd.google.colaboratory.intrinsic+json": {
              "type": "string"
            },
            "text/plain": [
              "'<START> two giraffes are in their pen a building and some trees <END> <NULL> <NULL> <NULL> <NULL> '"
            ]
          },
          "execution_count": 12,
          "metadata": {},
          "output_type": "execute_result"
        }
      ],
      "source": [
        "generate_caption(m['train_captions'][0])"
      ]
    },
    {
      "cell_type": "code",
      "execution_count": 13,
      "metadata": {
        "id": "qFbVtrzMAbuZ"
      },
      "outputs": [],
      "source": [
        "images = m['train_images']\n",
        "captions = m['train_captions']"
      ]
    },
    {
      "cell_type": "markdown",
      "metadata": {
        "id": "34dRPJzXACVS"
      },
      "source": [
        "##Visualizing the Final data"
      ]
    },
    {
      "cell_type": "code",
      "execution_count": 14,
      "metadata": {
        "colab": {
          "base_uri": "https://localhost:8080/"
        },
        "id": "flaC8wZZAGy0",
        "outputId": "78da116a-6cb4-49c9-d8d2-549571363f71"
      },
      "outputs": [
        {
          "name": "stdout",
          "output_type": "stream",
          "text": [
            "Shapes of final images:  torch.Size([10000, 3, 112, 112])\n",
            "Shapes of final captions:  torch.Size([10000, 17])\n"
          ]
        }
      ],
      "source": [
        "#Shapes of images and captions\n",
        "\n",
        "print(\"Shapes of final images: \", images.shape)\n",
        "print(\"Shapes of final captions: \", captions.shape)"
      ]
    },
    {
      "cell_type": "code",
      "execution_count": 15,
      "metadata": {
        "colab": {
          "base_uri": "https://localhost:8080/",
          "height": 320
        },
        "id": "qYIr1FEMBH9m",
        "outputId": "b6780af9-6fcd-4569-c2d8-d9121c5d3559"
      },
      "outputs": [
        {
          "name": "stdout",
          "output_type": "stream",
          "text": [
            "Image: \n"
          ]
        },
        {
          "data": {
            "image/png": "[encoded data removed]",
            "text/plain": [
              "<Figure size 432x288 with 1 Axes>"
            ]
          },
          "metadata": {
            "needs_background": "light"
          },
          "output_type": "display_data"
        },
        {
          "name": "stdout",
          "output_type": "stream",
          "text": [
            "It's captions: \n",
            "<START> a table with a blender and a glass on it <END> <NULL> <NULL> <NULL> <NULL> <NULL> \n"
          ]
        }
      ],
      "source": [
        "#Displaying one image with it's captions:\n",
        "import matplotlib.pyplot as plt \n",
        "import numpy as np\n",
        "\n",
        "idx = 10\n",
        "print(\"Image: \")\n",
        "plt.imshow((images[idx].permute(1,2,0)).numpy())\n",
        "plt.show()\n",
        "\n",
        "print(\"It's captions: \")\n",
        "print(generate_caption(captions[idx]))"
      ]
    },
    {
      "cell_type": "code",
      "execution_count": 16,
      "metadata": {
        "colab": {
          "base_uri": "https://localhost:8080/"
        },
        "id": "gIoF_CVzFzIz",
        "outputId": "93e6415b-6a4e-4076-9a8b-31e5647431f9"
      },
      "outputs": [
        {
          "name": "stdout",
          "output_type": "stream",
          "text": [
            "cuda GPU is available\n"
          ]
        }
      ],
      "source": [
        "#Converting the images into tensor\n",
        "if torch.cuda.is_available():\n",
        "  print(\"cuda GPU is available\")\n",
        "  DEVICE = 'cuda'\n",
        "else:\n",
        "  print(\"GPU is not available\")\n",
        "  DEVICE = 'cpu'"
      ]
    },
    {
      "cell_type": "code",
      "execution_count": 17,
      "metadata": {
        "colab": {
          "base_uri": "https://localhost:8080/"
        },
        "id": "P6Z2fA1RGXkR",
        "outputId": "c5342e3d-be32-4117-9e39-9c8a066d7f36"
      },
      "outputs": [
        {
          "name": "stderr",
          "output_type": "stream",
          "text": [
            "/usr/local/lib/python3.7/dist-packages/ipykernel_launcher.py:1: UserWarning: To copy construct from a tensor, it is recommended to use sourceTensor.clone().detach() or sourceTensor.clone().detach().requires_grad_(True), rather than torch.tensor(sourceTensor).\n",
            "  \"\"\"Entry point for launching an IPython kernel.\n",
            "/usr/local/lib/python3.7/dist-packages/ipykernel_launcher.py:2: UserWarning: To copy construct from a tensor, it is recommended to use sourceTensor.clone().detach() or sourceTensor.clone().detach().requires_grad_(True), rather than torch.tensor(sourceTensor).\n",
            "  \n"
          ]
        }
      ],
      "source": [
        "images = torch.tensor(images.clone(), device= DEVICE)\n",
        "captions = torch.tensor(captions.clone(), device= DEVICE)"
      ]
    },
    {
      "cell_type": "markdown",
      "metadata": {
        "id": "z-dATngYHxQ9"
      },
      "source": [
        "#Building the forward pass"
      ]
    },
    {
      "cell_type": "markdown",
      "metadata": {
        "id": "A8fg1eEkPBpr"
      },
      "source": [
        "First we will use vanilla RNN for image captioning.\n",
        "\n",
        "Credits for the photo: Professor [Justin Johnson](https://web.eecs.umich.edu/~justincj/)"
      ]
    },
    {
      "cell_type": "markdown",
      "metadata": {
        "id": "EP1WUmCnVvcP"
      },
      "source": [
        "##Vanilla RNN\n",
        "![image.png](data:image/png;base64,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)"
      ]
    },
    {
      "cell_type": "markdown",
      "metadata": {
        "id": "rmxcHRqwWeO8"
      },
      "source": [
        "##Feature Extractor\n",
        "Using VGG-19 as feature extractor"
      ]
    },
    {
      "cell_type": "code",
      "execution_count": 18,
      "metadata": {
        "colab": {
          "base_uri": "https://localhost:8080/",
          "height": 952,
          "referenced_widgets": [
            "9eeec94cca3f4ee5a7d5f5703448208c",
            "04c3b34320fd47f5bd075bb5567e2449",
            "fb435bf811a54786a0097015b0832bc4",
            "be4121626b1e4673bcdb944930d0b98d",
            "0a049a15526349e091a3acf497e7d912",
            "62adde3e11cb489a9b87f04c411590e4",
            "4968987e9ffb4e12b1bfb0cea2be2d87",
            "4c1a0c0f29fb4e4bade75d8f331d2172",
            "521b1aa3a7724699ac579cf72a2dbac9",
            "23a9c3b7a2e24d0096dd6f832ec6cf74",
            "764cbcc000b847829917e64e1030f171"
          ]
        },
        "id": "LMRUHHHYH2GF",
        "outputId": "d7b2d399-b770-484c-bae5-a02b18a7d910"
      },
      "outputs": [
        {
          "name": "stderr",
          "output_type": "stream",
          "text": [
            "Downloading: \"https://download.pytorch.org/models/vgg19-dcbb9e9d.pth\" to /root/.cache/torch/hub/checkpoints/vgg19-dcbb9e9d.pth\n"
          ]
        },
        {
          "data": {
            "application/vnd.jupyter.widget-view+json": {
              "model_id": "9eeec94cca3f4ee5a7d5f5703448208c",
              "version_major": 2,
              "version_minor": 0
            },
            "text/plain": [
              "  0%|          | 0.00/548M [00:00<?, ?B/s]"
            ]
          },
          "metadata": {},
          "output_type": "display_data"
        },
        {
          "data": {
            "text/plain": [
              "VGG(\n",
              "  (features): Sequential(\n",
              "    (0): Conv2d(3, 64, kernel_size=(3, 3), stride=(1, 1), padding=(1, 1))\n",
              "    (1): ReLU(inplace=True)\n",
              "    (2): Conv2d(64, 64, kernel_size=(3, 3), stride=(1, 1), padding=(1, 1))\n",
              "    (3): ReLU(inplace=True)\n",
              "    (4): MaxPool2d(kernel_size=2, stride=2, padding=0, dilation=1, ceil_mode=False)\n",
              "    (5): Conv2d(64, 128, kernel_size=(3, 3), stride=(1, 1), padding=(1, 1))\n",
              "    (6): ReLU(inplace=True)\n",
              "    (7): Conv2d(128, 128, kernel_size=(3, 3), stride=(1, 1), padding=(1, 1))\n",
              "    (8): ReLU(inplace=True)\n",
              "    (9): MaxPool2d(kernel_size=2, stride=2, padding=0, dilation=1, ceil_mode=False)\n",
              "    (10): Conv2d(128, 256, kernel_size=(3, 3), stride=(1, 1), padding=(1, 1))\n",
              "    (11): ReLU(inplace=True)\n",
              "    (12): Conv2d(256, 256, kernel_size=(3, 3), stride=(1, 1), padding=(1, 1))\n",
              "    (13): ReLU(inplace=True)\n",
              "    (14): Conv2d(256, 256, kernel_size=(3, 3), stride=(1, 1), padding=(1, 1))\n",
              "    (15): ReLU(inplace=True)\n",
              "    (16): Conv2d(256, 256, kernel_size=(3, 3), stride=(1, 1), padding=(1, 1))\n",
              "    (17): ReLU(inplace=True)\n",
              "    (18): MaxPool2d(kernel_size=2, stride=2, padding=0, dilation=1, ceil_mode=False)\n",
              "    (19): Conv2d(256, 512, kernel_size=(3, 3), stride=(1, 1), padding=(1, 1))\n",
              "    (20): ReLU(inplace=True)\n",
              "    (21): Conv2d(512, 512, kernel_size=(3, 3), stride=(1, 1), padding=(1, 1))\n",
              "    (22): ReLU(inplace=True)\n",
              "    (23): Conv2d(512, 512, kernel_size=(3, 3), stride=(1, 1), padding=(1, 1))\n",
              "    (24): ReLU(inplace=True)\n",
              "    (25): Conv2d(512, 512, kernel_size=(3, 3), stride=(1, 1), padding=(1, 1))\n",
              "    (26): ReLU(inplace=True)\n",
              "    (27): MaxPool2d(kernel_size=2, stride=2, padding=0, dilation=1, ceil_mode=False)\n",
              "    (28): Conv2d(512, 512, kernel_size=(3, 3), stride=(1, 1), padding=(1, 1))\n",
              "    (29): ReLU(inplace=True)\n",
              "    (30): Conv2d(512, 512, kernel_size=(3, 3), stride=(1, 1), padding=(1, 1))\n",
              "    (31): ReLU(inplace=True)\n",
              "    (32): Conv2d(512, 512, kernel_size=(3, 3), stride=(1, 1), padding=(1, 1))\n",
              "    (33): ReLU(inplace=True)\n",
              "    (34): Conv2d(512, 512, kernel_size=(3, 3), stride=(1, 1), padding=(1, 1))\n",
              "    (35): ReLU(inplace=True)\n",
              "    (36): MaxPool2d(kernel_size=2, stride=2, padding=0, dilation=1, ceil_mode=False)\n",
              "  )\n",
              "  (avgpool): AdaptiveAvgPool2d(output_size=(7, 7))\n",
              "  (classifier): Sequential(\n",
              "    (0): Linear(in_features=25088, out_features=4096, bias=True)\n",
              "    (1): ReLU(inplace=True)\n",
              "    (2): Dropout(p=0.5, inplace=False)\n",
              "    (3): Linear(in_features=4096, out_features=4096, bias=True)\n",
              "    (4): ReLU(inplace=True)\n",
              "    (5): Dropout(p=0.5, inplace=False)\n",
              "    (6): Linear(in_features=4096, out_features=1000, bias=True)\n",
              "  )\n",
              ")"
            ]
          },
          "execution_count": 18,
          "metadata": {},
          "output_type": "execute_result"
        }
      ],
      "source": [
        "#Using VGG-19 as feature extractor\n",
        "\n",
        "from torchvision.models.vgg import vgg19\n",
        "from torchvision.models.feature_extraction import get_graph_node_names\n",
        "from torchvision.models.feature_extraction import create_feature_extractor\n",
        "from torchvision.models.detection.backbone_utils import LastLevelMaxPool\n",
        "from torchvision.ops.feature_pyramid_network import FeaturePyramidNetwork\n",
        "\n",
        "\n",
        "# To assist you in designing the feature extractor you may want to print out\n",
        "# the available nodes for vgg19.\n",
        "backbone_model = vgg19(pretrained= True).to(DEVICE)\n",
        "train_nodes, eval_nodes = get_graph_node_names(vgg19())\n",
        "\n",
        "#Doing requiregrsd =False for pretrained model\n",
        "for param in backbone_model.parameters():\n",
        "    param.requires_grad = False\n",
        "\n",
        "backbone_model.requires_grad_(False)\n",
        "backbone_model.eval()  "
      ]
    },
    {
      "cell_type": "code",
      "execution_count": 19,
      "metadata": {
        "colab": {
          "base_uri": "https://localhost:8080/"
        },
        "id": "dDQfhIfwYVwQ",
        "outputId": "d4fdb0fd-65bc-44b2-8c85-f12dc5d20eda"
      },
      "outputs": [
        {
          "name": "stdout",
          "output_type": "stream",
          "text": [
            "['x', 'features.0', 'features.1', 'features.2', 'features.3', 'features.4', 'features.5', 'features.6', 'features.7', 'features.8', 'features.9', 'features.10', 'features.11', 'features.12', 'features.13', 'features.14', 'features.15', 'features.16', 'features.17', 'features.18', 'features.19', 'features.20', 'features.21', 'features.22', 'features.23', 'features.24', 'features.25', 'features.26', 'features.27', 'features.28', 'features.29', 'features.30', 'features.31', 'features.32', 'features.33', 'features.34', 'features.35', 'features.36', 'avgpool', 'flatten', 'classifier.0', 'classifier.1', 'classifier.2', 'classifier.3', 'classifier.4', 'classifier.5', 'classifier.6']\n",
            "['x', 'features.0', 'features.1', 'features.2', 'features.3', 'features.4', 'features.5', 'features.6', 'features.7', 'features.8', 'features.9', 'features.10', 'features.11', 'features.12', 'features.13', 'features.14', 'features.15', 'features.16', 'features.17', 'features.18', 'features.19', 'features.20', 'features.21', 'features.22', 'features.23', 'features.24', 'features.25', 'features.26', 'features.27', 'features.28', 'features.29', 'features.30', 'features.31', 'features.32', 'features.33', 'features.34', 'features.35', 'features.36', 'avgpool', 'flatten', 'classifier.0', 'classifier.1', 'classifier.2', 'classifier.3', 'classifier.4', 'classifier.5', 'classifier.6']\n"
          ]
        }
      ],
      "source": [
        "print(train_nodes)\n",
        "print(eval_nodes)"
      ]
    },
    {
      "cell_type": "code",
      "execution_count": 20,
      "metadata": {
        "id": "-jtEk8e8gl9D"
      },
      "outputs": [],
      "source": [
        "return_nodes = {\n",
        "    # node_name: user-specified key for output dict\n",
        "    'classifier.4': 'layer1'\n",
        "}"
      ]
    },
    {
      "cell_type": "code",
      "execution_count": 21,
      "metadata": {
        "id": "KBK_hk2pmCLX"
      },
      "outputs": [],
      "source": [
        "backbone_feature_extractor = create_feature_extractor(backbone_model, return_nodes=return_nodes).to(DEVICE)"
      ]
    },
    {
      "cell_type": "code",
      "execution_count": 22,
      "metadata": {
        "id": "x90RH5VZg-CN"
      },
      "outputs": [],
      "source": [
        "import torchvision\n",
        "images = images/255.0\n",
        "\n",
        "#Normalize\n",
        "norm = torchvision.transforms.Normalize(\n",
        "            mean=[0.485, 0.456, 0.406], std=[0.229, 0.224, 0.225]\n",
        "        )\n",
        "images = norm(images)   #Don't plot the normalized images directly using matplotlib it will clip he negative values"
      ]
    },
    {
      "cell_type": "code",
      "execution_count": 23,
      "metadata": {
        "id": "P0byl2RXkUXH"
      },
      "outputs": [],
      "source": [
        "def feature_extractor(img):  \n",
        "  with torch.no_grad():\n",
        "    out = backbone_feature_extractor(img)\n",
        "    features = out['layer1']\n",
        "  return features"
      ]
    },
    {
      "cell_type": "code",
      "execution_count": 24,
      "metadata": {
        "colab": {
          "base_uri": "https://localhost:8080/"
        },
        "id": "56U-wghUmYPB",
        "outputId": "2eda5eb4-2754-4582-8ece-b7c937f222ee"
      },
      "outputs": [
        {
          "name": "stdout",
          "output_type": "stream",
          "text": [
            "Output from the Feature extractor network (VGG19) for a single image:  torch.Size([1, 4096])\n"
          ]
        }
      ],
      "source": [
        "feature_out = feature_extractor(images[0].reshape(1, images[0].shape[0], images[0].shape[1], images[0].shape[2]))\n",
        "print(\"Output from the Feature extractor network (VGG19) for a single image: \", feature_out.shape)"
      ]
    },
    {
      "cell_type": "code",
      "execution_count": 25,
      "metadata": {
        "colab": {
          "base_uri": "https://localhost:8080/"
        },
        "id": "ZNoWdRJEpdQ8",
        "outputId": "5da58fcf-cd4d-4221-e273-871c65f703a3"
      },
      "outputs": [
        {
          "name": "stdout",
          "output_type": "stream",
          "text": [
            "torch.Size([15, 10])\n"
          ]
        }
      ],
      "source": [
        "import math\n",
        "\n",
        "#We can use this to initialize our weights and do forward pass (matrix multiplication)\n",
        "vocab_size=15\n",
        "embed_size=10\n",
        "\n",
        "W_embed = nn.Parameter(\n",
        "            torch.randn(vocab_size, embed_size).div(math.sqrt(vocab_size)) )\n",
        "print(W_embed.shape)  #Basically it will make a matrix which will be an learnable weight matrix"
      ]
    },
    {
      "cell_type": "code",
      "execution_count": 26,
      "metadata": {
        "colab": {
          "base_uri": "https://localhost:8080/"
        },
        "id": "bzPxO5p6rIGv",
        "outputId": "fdd86306-73e4-4879-c3a6-b2363fb9d12f"
      },
      "outputs": [
        {
          "data": {
            "text/plain": [
              "torch.Size([10, 10])"
            ]
          },
          "execution_count": 26,
          "metadata": {},
          "output_type": "execute_result"
        }
      ],
      "source": [
        "#We can also use this to initialize our weights and do forward pass (matrix multiplication)\n",
        "tryy = nn.Linear(vocab_size, embed_size)\n",
        "mat = torch.ones(10,15)\n",
        "tryy(mat).shape"
      ]
    },
    {
      "cell_type": "markdown",
      "metadata": {
        "id": "RVmhhiPF6fPc"
      },
      "source": [
        "# Making Vanilla RNN architecture"
      ]
    },
    {
      "cell_type": "code",
      "execution_count": 41,
      "metadata": {
        "id": "CI6FIpX46gZh"
      },
      "outputs": [],
      "source": [
        "class rnn(nn.Module):\n",
        "\n",
        "  def __init__(self, time_steps, word_size, embedding_size, feature_size, hidden_size):     #word size is the length of one hot encoded vector which goes as input to embedding layer \n",
        "    super(rnn, self).__init__()\n",
        "\n",
        "    self.word_size = word_size\n",
        "    self.time_steps = time_steps\n",
        "    self.hidden_size = hidden_size\n",
        "    self.embedding = nn.Linear(word_size, embedding_size)    #one hot encoding goes here and produces input for the next hidden layer\n",
        "    self.wi = nn.Linear(feature_size, hidden_size)           #\n",
        "    self.wx = nn.Linear(embedding_size, hidden_size)\n",
        "    self.wh = nn.Linear(hidden_size, hidden_size)\n",
        "\n",
        "    self.output = nn.Linear(hidden_size, word_size)\n",
        "    \n",
        "  def forward(self, x, features):\n",
        "    hidden = torch.rand((x.shape[1], self.hidden_size), device= DEVICE)\n",
        "    \n",
        "    output = torch.zeros((self.time_steps, x.shape[1],self.word_size ), device= DEVICE)\n",
        "\n",
        "    for i in range(self.time_steps):\n",
        "\n",
        "      #output = torch.zeros((self.time_steps, x.shape[1],self.word_size ), device= DEVICE)\n",
        "\n",
        "      #Passing the one hot encoded input x to embedding layer:\n",
        "      out = self.embedding(x[i])\n",
        "\n",
        "      #passing the all required outputs to hidden layer and get hidden output h\n",
        "      hidden = torch.tanh(self.wi(features) + self.wx(out) + self.wh(hidden))\n",
        "\n",
        "      y = self.output(hidden)\n",
        "\n",
        "      output[i] = y\n",
        "\n",
        "    return output\n",
        "\n",
        "\n",
        "  def step_forward(self,features):\n",
        "\n",
        "    input = torch.zeros(self.word_size, device= DEVICE)\n",
        "    input[1] = 1.0\n",
        "\n",
        "    hidden = torch.ones(self.hidden_size, device= DEVICE)\n",
        "    \n",
        "\n",
        "    out_f = []\n",
        "\n",
        "    for i in range(self.time_steps):\n",
        "\n",
        "      #Passing the one hot encoded input x to embedding layer:\n",
        "      out = self.embedding(input)\n",
        "      \n",
        "      #passing the all required outputs to hidden layer and get hidden output h\n",
        "      hidden = torch.tanh(self.wi(features) + self.wx(out) + self.wh(hidden))\n",
        "\n",
        "\n",
        "      y = self.output(hidden)      \n",
        "      maxindx = torch.argmax(y)\n",
        "      y[:] = 0\n",
        "      y[maxindx] = 1\n",
        "      input = y\n",
        "      out_f.append(maxindx.cpu().numpy())\n",
        "\n",
        "    return torch.tensor(np.array(out_f), device= DEVICE)\n",
        "\n",
        "\n",
        "\n",
        "\n",
        "   "
      ]
    },
    {
      "cell_type": "code",
      "execution_count": 42,
      "metadata": {
        "id": "-yCqq4wt5AJq"
      },
      "outputs": [],
      "source": [
        "RNN = rnn(time_steps=17, word_size=864, embedding_size=1000, feature_size=4096, hidden_size=2000).to(device=DEVICE)"
      ]
    },
    {
      "cell_type": "code",
      "execution_count": 43,
      "metadata": {
        "colab": {
          "base_uri": "https://localhost:8080/"
        },
        "id": "AUOaWT_CdICI",
        "outputId": "8a9d5d8b-1770-45c2-b781-9ae3c4dff028"
      },
      "outputs": [
        {
          "name": "stdout",
          "output_type": "stream",
          "text": [
            "torch.Size([10000, 17, 864])\n",
            "torch.Size([17, 10000, 864])\n",
            "tensor([[0, 1, 0,  ..., 0, 0, 0],\n",
            "        [0, 0, 0,  ..., 0, 0, 0],\n",
            "        [0, 0, 0,  ..., 0, 0, 0],\n",
            "        ...,\n",
            "        [1, 0, 0,  ..., 0, 0, 0],\n",
            "        [1, 0, 0,  ..., 0, 0, 0],\n",
            "        [1, 0, 0,  ..., 0, 0, 0]], device='cuda:0')\n"
          ]
        }
      ],
      "source": [
        "ohc = F1.one_hot(captions, num_classes=864)   #  tHIS WILL do the onw hot encoding part for me\n",
        "print(ohc.shape)\n",
        "ohcp = ohc.permute(1,0,2)\n",
        "print(ohcp.shape)\n",
        "\n",
        "print(ohcp[:,0,:])   #It works. I only have to write the training part now. Everything is almost done"
      ]
    },
    {
      "cell_type": "markdown",
      "metadata": {
        "id": "brnyiCr41XF-"
      },
      "source": [
        "#Training"
      ]
    },
    {
      "cell_type": "code",
      "execution_count": 60,
      "metadata": {
        "id": "s1_OsJpZ1a1H"
      },
      "outputs": [],
      "source": [
        "optimizer = torch.optim.Adam(RNN.parameters(), lr=0.0001)        #update the weights of the RNN\n",
        "loss_type = torch.nn.CrossEntropyLoss()\n",
        "step_lr = lr_scheduler.StepLR(optimizer, step_size= 100, gamma = 0.5)  "
      ]
    },
    {
      "cell_type": "code",
      "execution_count": 45,
      "metadata": {
        "colab": {
          "base_uri": "https://localhost:8080/"
        },
        "id": "VVvUHWOa3sQH",
        "outputId": "50f128a2-dbab-40e5-a653-9766228e6d33"
      },
      "outputs": [
        {
          "name": "stdout",
          "output_type": "stream",
          "text": [
            "torch.Size([10000, 3, 112, 112])\n",
            "torch.Size([10000, 17])\n",
            "torch.Size([17, 10000, 864])\n"
          ]
        }
      ],
      "source": [
        "print(images.shape)\n",
        "print(captions.shape)\n",
        "print(ohcp.shape)"
      ]
    },
    {
      "cell_type": "code",
      "execution_count": 46,
      "metadata": {
        "id": "qFBKlO_H-Td7"
      },
      "outputs": [],
      "source": [
        "ohc = torch.tensor(ohc.detach().cpu().numpy(), device= DEVICE, dtype= torch.float32)"
      ]
    },
    {
      "cell_type": "code",
      "execution_count": 47,
      "metadata": {
        "colab": {
          "base_uri": "https://localhost:8080/"
        },
        "id": "7XH7KJgLGXwT",
        "outputId": "714ed35c-8124-4c3e-deba-7e146601f8b4"
      },
      "outputs": [
        {
          "name": "stdout",
          "output_type": "stream",
          "text": [
            "torch.Size([10000, 17])\n",
            "torch.Size([10000, 17])\n"
          ]
        }
      ],
      "source": [
        "ohc.shape\n",
        "y_target = torch.zeros_like(captions)\n",
        "print(y_target.shape)\n",
        "\n",
        "for i in range(y_target.shape[1]-1):\n",
        "\n",
        "  y_target[:,i] = captions[:,i+1]\n",
        "\n",
        "print(y_target.shape)"
      ]
    },
    {
      "cell_type": "code",
      "execution_count": 61,
      "metadata": {
        "colab": {
          "base_uri": "https://localhost:8080/"
        },
        "id": "Djhy3Dyq2FaK",
        "outputId": "dc681215-49f0-4c37-d007-624bc60d9c8f"
      },
      "outputs": [
        {
          "name": "stdout",
          "output_type": "stream",
          "text": [
            "Epoch:  0 , loss is:  1.8070182800292969\n",
            "Epoch:  10 , loss is:  1.7045202255249023\n",
            "Epoch:  20 , loss is:  1.7676690816879272\n",
            "Epoch:  30 , loss is:  1.7577170133590698\n",
            "Epoch:  40 , loss is:  1.67191481590271\n",
            "Epoch:  50 , loss is:  1.7180030345916748\n",
            "Epoch:  60 , loss is:  1.8270399570465088\n",
            "Epoch:  70 , loss is:  1.7101229429244995\n",
            "Epoch:  80 , loss is:  1.6983802318572998\n",
            "Epoch:  90 , loss is:  1.7591432332992554\n",
            "Epoch:  100 , loss is:  1.641783356666565\n",
            "Epoch:  110 , loss is:  1.6433227062225342\n",
            "Epoch:  120 , loss is:  1.6417696475982666\n",
            "Epoch:  130 , loss is:  1.6530342102050781\n",
            "Epoch:  140 , loss is:  1.7511497735977173\n",
            "Epoch:  150 , loss is:  1.641814947128296\n",
            "Epoch:  160 , loss is:  1.531421422958374\n",
            "Epoch:  170 , loss is:  1.5703277587890625\n",
            "Epoch:  180 , loss is:  1.6775739192962646\n",
            "Epoch:  190 , loss is:  1.6070148944854736\n",
            "Epoch:  200 , loss is:  1.6774802207946777\n",
            "Epoch:  210 , loss is:  1.6491276025772095\n",
            "Epoch:  220 , loss is:  1.6530271768569946\n",
            "Epoch:  230 , loss is:  1.563711404800415\n",
            "Epoch:  240 , loss is:  1.5792187452316284\n",
            "Epoch:  250 , loss is:  1.6813592910766602\n",
            "Epoch:  260 , loss is:  1.6042448282241821\n",
            "Epoch:  270 , loss is:  1.625281810760498\n",
            "Epoch:  280 , loss is:  1.61595618724823\n",
            "Epoch:  290 , loss is:  1.7082123756408691\n",
            "Epoch:  300 , loss is:  1.574919581413269\n",
            "Epoch:  310 , loss is:  1.5401897430419922\n",
            "Epoch:  320 , loss is:  1.5742213726043701\n",
            "Epoch:  330 , loss is:  1.5381187200546265\n",
            "Epoch:  340 , loss is:  1.5474348068237305\n",
            "Epoch:  350 , loss is:  1.57298743724823\n",
            "Epoch:  360 , loss is:  1.5777630805969238\n",
            "Epoch:  370 , loss is:  1.569276213645935\n",
            "Epoch:  380 , loss is:  1.5209274291992188\n",
            "Epoch:  390 , loss is:  1.5704127550125122\n",
            "Epoch:  400 , loss is:  1.556349754333496\n",
            "Epoch:  410 , loss is:  1.471021056175232\n",
            "Epoch:  420 , loss is:  1.4660944938659668\n",
            "Epoch:  430 , loss is:  1.4901032447814941\n",
            "Epoch:  440 , loss is:  1.469534993171692\n",
            "Epoch:  450 , loss is:  1.428790807723999\n",
            "Epoch:  460 , loss is:  1.5059990882873535\n",
            "Epoch:  470 , loss is:  1.602719783782959\n",
            "Epoch:  480 , loss is:  1.5190165042877197\n",
            "Epoch:  490 , loss is:  1.4122498035430908\n",
            "Epoch:  500 , loss is:  1.5491410493850708\n",
            "Epoch:  510 , loss is:  1.4949630498886108\n",
            "Epoch:  520 , loss is:  1.4584357738494873\n",
            "Epoch:  530 , loss is:  1.4999297857284546\n",
            "Epoch:  540 , loss is:  1.427600383758545\n",
            "Epoch:  550 , loss is:  1.5032930374145508\n",
            "Epoch:  560 , loss is:  1.4108270406723022\n",
            "Epoch:  570 , loss is:  1.3966290950775146\n",
            "Epoch:  580 , loss is:  1.4112128019332886\n",
            "Epoch:  590 , loss is:  1.3954252004623413\n",
            "Epoch:  600 , loss is:  1.4366085529327393\n",
            "Epoch:  610 , loss is:  1.5698530673980713\n",
            "Epoch:  620 , loss is:  1.4632580280303955\n",
            "Epoch:  630 , loss is:  1.3727831840515137\n",
            "Epoch:  640 , loss is:  1.4418481588363647\n",
            "Epoch:  650 , loss is:  1.5019187927246094\n",
            "Epoch:  660 , loss is:  1.3486988544464111\n",
            "Epoch:  670 , loss is:  1.413795828819275\n",
            "Epoch:  680 , loss is:  1.2882620096206665\n",
            "Epoch:  690 , loss is:  1.4356911182403564\n",
            "Epoch:  700 , loss is:  1.4592283964157104\n",
            "Epoch:  710 , loss is:  1.2548149824142456\n",
            "Epoch:  720 , loss is:  1.3640179634094238\n",
            "Epoch:  730 , loss is:  1.362903356552124\n",
            "Epoch:  740 , loss is:  1.3884965181350708\n",
            "Epoch:  750 , loss is:  1.3278071880340576\n",
            "Epoch:  760 , loss is:  1.2969201803207397\n",
            "Epoch:  770 , loss is:  1.369338035583496\n",
            "Epoch:  780 , loss is:  1.407421588897705\n",
            "Epoch:  790 , loss is:  1.3388960361480713\n",
            "Epoch:  800 , loss is:  1.3343697786331177\n",
            "Epoch:  810 , loss is:  1.3359137773513794\n",
            "Epoch:  820 , loss is:  1.3392977714538574\n",
            "Epoch:  830 , loss is:  1.250213384628296\n",
            "Epoch:  840 , loss is:  1.3092244863510132\n",
            "Epoch:  850 , loss is:  1.2169889211654663\n",
            "Epoch:  860 , loss is:  1.2347725629806519\n",
            "Epoch:  870 , loss is:  1.3654874563217163\n",
            "Epoch:  880 , loss is:  1.2840896844863892\n",
            "Epoch:  890 , loss is:  1.2652835845947266\n",
            "Epoch:  900 , loss is:  1.3875774145126343\n",
            "Epoch:  910 , loss is:  1.3318482637405396\n",
            "Epoch:  920 , loss is:  1.3041179180145264\n",
            "Epoch:  930 , loss is:  1.237200379371643\n",
            "Epoch:  940 , loss is:  1.2513140439987183\n",
            "Epoch:  950 , loss is:  1.2792668342590332\n",
            "Epoch:  960 , loss is:  1.2546402215957642\n",
            "Epoch:  970 , loss is:  1.3497776985168457\n",
            "Epoch:  980 , loss is:  1.1933332681655884\n",
            "Epoch:  990 , loss is:  1.1929515600204468\n",
            "Epoch:  1000 , loss is:  1.1190868616104126\n",
            "Epoch:  1010 , loss is:  1.1170367002487183\n",
            "Epoch:  1020 , loss is:  1.2469037771224976\n",
            "Epoch:  1030 , loss is:  1.1896684169769287\n",
            "Epoch:  1040 , loss is:  1.1764479875564575\n",
            "Epoch:  1050 , loss is:  1.1920793056488037\n",
            "Epoch:  1060 , loss is:  1.1791167259216309\n",
            "Epoch:  1070 , loss is:  1.132751226425171\n",
            "Epoch:  1080 , loss is:  1.2067707777023315\n",
            "Epoch:  1090 , loss is:  1.1312097311019897\n",
            "Epoch:  1100 , loss is:  1.1345854997634888\n",
            "Epoch:  1110 , loss is:  1.1759669780731201\n",
            "Epoch:  1120 , loss is:  1.1484640836715698\n",
            "Epoch:  1130 , loss is:  1.2055838108062744\n",
            "Epoch:  1140 , loss is:  1.1415228843688965\n",
            "Epoch:  1150 , loss is:  1.1577649116516113\n",
            "Epoch:  1160 , loss is:  1.1906055212020874\n",
            "Epoch:  1170 , loss is:  1.1810909509658813\n",
            "Epoch:  1180 , loss is:  1.1362922191619873\n",
            "Epoch:  1190 , loss is:  1.180617094039917\n",
            "Epoch:  1200 , loss is:  1.1306102275848389\n",
            "Epoch:  1210 , loss is:  1.0474023818969727\n",
            "Epoch:  1220 , loss is:  1.1935042142868042\n",
            "Epoch:  1230 , loss is:  1.047156572341919\n",
            "Epoch:  1240 , loss is:  1.0105489492416382\n",
            "Epoch:  1250 , loss is:  1.0968997478485107\n",
            "Epoch:  1260 , loss is:  1.1449618339538574\n",
            "Epoch:  1270 , loss is:  0.9771141409873962\n",
            "Epoch:  1280 , loss is:  1.0306137800216675\n",
            "Epoch:  1290 , loss is:  1.056545615196228\n",
            "Epoch:  1300 , loss is:  1.0250104665756226\n",
            "Epoch:  1310 , loss is:  1.0670537948608398\n",
            "Epoch:  1320 , loss is:  1.1215085983276367\n",
            "Epoch:  1330 , loss is:  1.1341197490692139\n",
            "Epoch:  1340 , loss is:  1.1101181507110596\n",
            "Epoch:  1350 , loss is:  1.0639835596084595\n",
            "Epoch:  1360 , loss is:  1.0440289974212646\n",
            "Epoch:  1370 , loss is:  1.0786210298538208\n",
            "Epoch:  1380 , loss is:  1.0514930486679077\n",
            "Epoch:  1390 , loss is:  0.988985002040863\n",
            "Epoch:  1400 , loss is:  1.0234720706939697\n",
            "Epoch:  1410 , loss is:  1.0388567447662354\n",
            "Epoch:  1420 , loss is:  0.932371973991394\n",
            "Epoch:  1430 , loss is:  0.9849534630775452\n",
            "Epoch:  1440 , loss is:  0.9905545115470886\n",
            "Epoch:  1450 , loss is:  0.9843873977661133\n",
            "Epoch:  1460 , loss is:  0.9709745645523071\n",
            "Epoch:  1470 , loss is:  0.9703052639961243\n",
            "Epoch:  1480 , loss is:  0.914135217666626\n",
            "Epoch:  1490 , loss is:  1.0169037580490112\n",
            "Epoch:  1500 , loss is:  0.9132982492446899\n",
            "Epoch:  1510 , loss is:  1.0098767280578613\n",
            "Epoch:  1520 , loss is:  1.0340641736984253\n",
            "Epoch:  1530 , loss is:  0.8726533651351929\n",
            "Epoch:  1540 , loss is:  1.0599664449691772\n",
            "Epoch:  1550 , loss is:  0.9438488483428955\n",
            "Epoch:  1560 , loss is:  0.9094346761703491\n",
            "Epoch:  1570 , loss is:  0.9829169511795044\n",
            "Epoch:  1580 , loss is:  0.9192238450050354\n",
            "Epoch:  1590 , loss is:  0.902198851108551\n",
            "Epoch:  1600 , loss is:  0.9044118523597717\n",
            "Epoch:  1610 , loss is:  0.890784502029419\n",
            "Epoch:  1620 , loss is:  0.8604839444160461\n",
            "Epoch:  1630 , loss is:  0.9026947617530823\n",
            "Epoch:  1640 , loss is:  0.9211437106132507\n",
            "Epoch:  1650 , loss is:  0.8447102904319763\n",
            "Epoch:  1660 , loss is:  0.8049147725105286\n",
            "Epoch:  1670 , loss is:  0.8942222595214844\n",
            "Epoch:  1680 , loss is:  0.8331918716430664\n",
            "Epoch:  1690 , loss is:  0.9141476154327393\n",
            "Epoch:  1700 , loss is:  0.8565857410430908\n",
            "Epoch:  1710 , loss is:  0.900799572467804\n",
            "Epoch:  1720 , loss is:  0.8611136674880981\n",
            "Epoch:  1730 , loss is:  0.8247004151344299\n",
            "Epoch:  1740 , loss is:  0.8558037281036377\n",
            "Epoch:  1750 , loss is:  0.8366202116012573\n",
            "Epoch:  1760 , loss is:  0.7960211038589478\n",
            "Epoch:  1770 , loss is:  0.8293523192405701\n",
            "Epoch:  1780 , loss is:  0.7893883585929871\n",
            "Epoch:  1790 , loss is:  0.8131451606750488\n",
            "Epoch:  1800 , loss is:  0.7491836547851562\n",
            "Epoch:  1810 , loss is:  0.7836090326309204\n",
            "Epoch:  1820 , loss is:  0.8328842520713806\n",
            "Epoch:  1830 , loss is:  0.8063625693321228\n",
            "Epoch:  1840 , loss is:  0.7732917070388794\n",
            "Epoch:  1850 , loss is:  0.7068845629692078\n",
            "Epoch:  1860 , loss is:  0.7324348092079163\n",
            "Epoch:  1870 , loss is:  0.7944934368133545\n",
            "Epoch:  1880 , loss is:  0.873805046081543\n",
            "Epoch:  1890 , loss is:  0.7847241759300232\n",
            "Epoch:  1900 , loss is:  0.7956889867782593\n",
            "Epoch:  1910 , loss is:  0.7405043840408325\n",
            "Epoch:  1920 , loss is:  0.7771173715591431\n",
            "Epoch:  1930 , loss is:  0.7411873936653137\n",
            "Epoch:  1940 , loss is:  0.79295414686203\n",
            "Epoch:  1950 , loss is:  0.6508744359016418\n",
            "Epoch:  1960 , loss is:  0.7405620813369751\n",
            "Epoch:  1970 , loss is:  0.7349780797958374\n",
            "Epoch:  1980 , loss is:  0.7512246966362\n",
            "Epoch:  1990 , loss is:  0.7475768327713013\n",
            "Epoch:  2000 , loss is:  0.7479460835456848\n",
            "Epoch:  2010 , loss is:  0.690265417098999\n",
            "Epoch:  2020 , loss is:  0.7005804181098938\n",
            "Epoch:  2030 , loss is:  0.7208526730537415\n",
            "Epoch:  2040 , loss is:  0.7225874662399292\n",
            "Epoch:  2050 , loss is:  0.6855175495147705\n",
            "Epoch:  2060 , loss is:  0.6907194256782532\n",
            "Epoch:  2070 , loss is:  0.6704757809638977\n",
            "Epoch:  2080 , loss is:  0.6696891784667969\n",
            "Epoch:  2090 , loss is:  0.748868465423584\n",
            "Epoch:  2100 , loss is:  0.6275641322135925\n",
            "Epoch:  2110 , loss is:  0.6207292079925537\n",
            "Epoch:  2120 , loss is:  0.6852219700813293\n",
            "Epoch:  2130 , loss is:  0.668615996837616\n",
            "Epoch:  2140 , loss is:  0.7686068415641785\n",
            "Epoch:  2150 , loss is:  0.6562145352363586\n",
            "Epoch:  2160 , loss is:  0.6553648710250854\n",
            "Epoch:  2170 , loss is:  0.6260161399841309\n",
            "Epoch:  2180 , loss is:  0.5985838174819946\n",
            "Epoch:  2190 , loss is:  0.6570996046066284\n",
            "Epoch:  2200 , loss is:  0.6388550996780396\n",
            "Epoch:  2210 , loss is:  0.5983131527900696\n",
            "Epoch:  2220 , loss is:  0.6192229986190796\n",
            "Epoch:  2230 , loss is:  0.6188175082206726\n",
            "Epoch:  2240 , loss is:  0.5971831679344177\n",
            "Epoch:  2250 , loss is:  0.6506982445716858\n",
            "Epoch:  2260 , loss is:  0.5452954173088074\n",
            "Epoch:  2270 , loss is:  0.5806542038917542\n",
            "Epoch:  2280 , loss is:  0.6112901568412781\n",
            "Epoch:  2290 , loss is:  0.6118801832199097\n",
            "Epoch:  2300 , loss is:  0.6087067127227783\n",
            "Epoch:  2310 , loss is:  0.6014440655708313\n",
            "Epoch:  2320 , loss is:  0.5726233720779419\n",
            "Epoch:  2330 , loss is:  0.5776919722557068\n",
            "Epoch:  2340 , loss is:  0.4820388853549957\n",
            "Epoch:  2350 , loss is:  0.5341776609420776\n",
            "Epoch:  2360 , loss is:  0.5497509837150574\n",
            "Epoch:  2370 , loss is:  0.5127337574958801\n",
            "Epoch:  2380 , loss is:  0.5525307059288025\n",
            "Epoch:  2390 , loss is:  0.5385270714759827\n",
            "Epoch:  2400 , loss is:  0.6158127188682556\n",
            "Epoch:  2410 , loss is:  0.5891013145446777\n",
            "Epoch:  2420 , loss is:  0.5170597434043884\n",
            "Epoch:  2430 , loss is:  0.5862321257591248\n",
            "Epoch:  2440 , loss is:  0.5390190482139587\n",
            "Epoch:  2450 , loss is:  0.4959716200828552\n",
            "Epoch:  2460 , loss is:  0.5771970748901367\n",
            "Epoch:  2470 , loss is:  0.5568364858627319\n",
            "Epoch:  2480 , loss is:  0.5502293109893799\n",
            "Epoch:  2490 , loss is:  0.4924788475036621\n",
            "Epoch:  2500 , loss is:  0.5111668705940247\n",
            "Epoch:  2510 , loss is:  0.5460972189903259\n",
            "Epoch:  2520 , loss is:  0.5184614062309265\n",
            "Epoch:  2530 , loss is:  0.5257219672203064\n",
            "Epoch:  2540 , loss is:  0.5022422075271606\n",
            "Epoch:  2550 , loss is:  0.4659632742404938\n",
            "Epoch:  2560 , loss is:  0.46920642256736755\n",
            "Epoch:  2570 , loss is:  0.4813651740550995\n",
            "Epoch:  2580 , loss is:  0.5264098048210144\n",
            "Epoch:  2590 , loss is:  0.48964449763298035\n",
            "Epoch:  2600 , loss is:  0.4609054625034332\n",
            "Epoch:  2610 , loss is:  0.48639193177223206\n",
            "Epoch:  2620 , loss is:  0.4612272083759308\n",
            "Epoch:  2630 , loss is:  0.46457383036613464\n",
            "Epoch:  2640 , loss is:  0.4695655405521393\n",
            "Epoch:  2650 , loss is:  0.48414096236228943\n",
            "Epoch:  2660 , loss is:  0.47787341475486755\n",
            "Epoch:  2670 , loss is:  0.4618951082229614\n",
            "Epoch:  2680 , loss is:  0.4172002375125885\n",
            "Epoch:  2690 , loss is:  0.5004386901855469\n",
            "Epoch:  2700 , loss is:  0.46166640520095825\n",
            "Epoch:  2710 , loss is:  0.4128485321998596\n",
            "Epoch:  2720 , loss is:  0.4777602553367615\n",
            "Epoch:  2730 , loss is:  0.38260096311569214\n",
            "Epoch:  2740 , loss is:  0.4339793622493744\n",
            "Epoch:  2750 , loss is:  0.46080198884010315\n",
            "Epoch:  2760 , loss is:  0.43296220898628235\n",
            "Epoch:  2770 , loss is:  0.4536631107330322\n",
            "Epoch:  2780 , loss is:  0.43486958742141724\n",
            "Epoch:  2790 , loss is:  0.43403080105781555\n",
            "Epoch:  2800 , loss is:  0.43320807814598083\n",
            "Epoch:  2810 , loss is:  0.4078178405761719\n",
            "Epoch:  2820 , loss is:  0.36682093143463135\n",
            "Epoch:  2830 , loss is:  0.37991562485694885\n",
            "Epoch:  2840 , loss is:  0.3808556795120239\n",
            "Epoch:  2850 , loss is:  0.4042277932167053\n",
            "Epoch:  2860 , loss is:  0.35866451263427734\n",
            "Epoch:  2870 , loss is:  0.4046953618526459\n",
            "Epoch:  2880 , loss is:  0.4503086507320404\n",
            "Epoch:  2890 , loss is:  0.4176464378833771\n",
            "Epoch:  2900 , loss is:  0.4136843681335449\n",
            "Epoch:  2910 , loss is:  0.36059117317199707\n",
            "Epoch:  2920 , loss is:  0.3602522909641266\n",
            "Epoch:  2930 , loss is:  0.3704635798931122\n",
            "Epoch:  2940 , loss is:  0.3829081356525421\n",
            "Epoch:  2950 , loss is:  0.3671574592590332\n",
            "Epoch:  2960 , loss is:  0.3724014461040497\n",
            "Epoch:  2970 , loss is:  0.3334481716156006\n",
            "Epoch:  2980 , loss is:  0.3554149568080902\n",
            "Epoch:  2990 , loss is:  0.392733097076416\n"
          ]
        }
      ],
      "source": [
        "#Model Training\n",
        "loss_graph = []\n",
        "num_epochs = 3000\n",
        "num_train = images.shape[0]\n",
        "batch_size = 100\n",
        "RNN.train()\n",
        "for i in range(num_epochs):\n",
        "  random_no = torch.randint(0, num_train, (batch_size,))\n",
        "  imgf = images[random_no]\n",
        "  x_batch = ohc[random_no]\n",
        "  y_batch = y_target[random_no]\n",
        "\n",
        "  x_batch = x_batch.permute(1,0,2)\n",
        "\n",
        "  feat = feature_extractor(imgf)\n",
        "  \n",
        "  optimizer.zero_grad()\n",
        "  y_pred = RNN.forward(x_batch, feat)\n",
        "  y_pred = y_pred.permute(1,0,2)\n",
        "  \n",
        " \n",
        "  y_pred = y_pred.reshape(-1,864)\n",
        "  y_batch = y_batch.reshape(-1)\n",
        "\n",
        "\n",
        "  loss = loss_type(y_pred, y_batch )\n",
        "  loss.backward()\n",
        "  optimizer.step()\n",
        "  #step_lr.step()\n",
        "  loss_graph.append(loss.cpu().item())\n",
        "  if i%10==0:\n",
        "    print(\"Epoch: \", i, \", loss is: \", loss.cpu().item())"
      ]
    },
    {
      "cell_type": "code",
      "execution_count": 49,
      "metadata": {
        "colab": {
          "base_uri": "https://localhost:8080/",
          "height": 265
        },
        "id": "t7PylOdw7YZf",
        "outputId": "7325411d-f991-4715-9157-c5f276d29011"
      },
      "outputs": [
        {
          "data": {
            "image/png": "[encoded data removed]",
            "text/plain": [
              "<Figure size 432x288 with 1 Axes>"
            ]
          },
          "metadata": {
            "needs_background": "light"
          },
          "output_type": "display_data"
        }
      ],
      "source": [
        "plt.plot(loss_graph)\n",
        "plt.show()"
      ]
    },
    {
      "cell_type": "markdown",
      "metadata": {
        "id": "svw6CYVtK2wb"
      },
      "source": [
        "#Predictions/Inference"
      ]
    },
    {
      "cell_type": "code",
      "execution_count": 62,
      "metadata": {
        "colab": {
          "base_uri": "https://localhost:8080/",
          "height": 52
        },
        "id": "ett6rEJ_K40O",
        "outputId": "16b0e032-703d-4ee2-9fe7-19a3146503c5"
      },
      "outputs": [
        {
          "name": "stdout",
          "output_type": "stream",
          "text": [
            "Generated captions by our model: \n"
          ]
        },
        {
          "data": {
            "application/vnd.google.colaboratory.intrinsic+json": {
              "type": "string"
            },
            "text/plain": [
              "'a man riding a white surfboard on a wave in the ocean <END> <NULL> <NULL> <NULL> <NULL> '"
            ]
          },
          "execution_count": 62,
          "metadata": {},
          "output_type": "execute_result"
        }
      ],
      "source": [
        "idx = 40\n",
        "RNN.eval()\n",
        "ff1 = feature_extractor(images[idx].reshape(1, images[idx].shape[0], images[idx].shape[1], images[idx].shape[2]))\n",
        "ff1 = ff1.reshape(-1)\n",
        "temp = RNN.step_forward(ff1)\n",
        "print(\"Generated captions by our model: \")\n",
        "generate_caption(temp)"
      ]
    },
    {
      "cell_type": "code",
      "execution_count": 63,
      "metadata": {
        "colab": {
          "base_uri": "https://localhost:8080/",
          "height": 52
        },
        "id": "6G1UH7fQ65VU",
        "outputId": "e163a87d-b7ad-4d5b-8eaf-a322272a7a62"
      },
      "outputs": [
        {
          "name": "stdout",
          "output_type": "stream",
          "text": [
            "Actual captions: \n"
          ]
        },
        {
          "data": {
            "application/vnd.google.colaboratory.intrinsic+json": {
              "type": "string"
            },
            "text/plain": [
              "'<START> a man riding a white surfboard on a wave in the ocean <END> <NULL> <NULL> <NULL> '"
            ]
          },
          "execution_count": 63,
          "metadata": {},
          "output_type": "execute_result"
        }
      ],
      "source": [
        "print(\"Actual captions: \")\n",
        "generate_caption(captions[idx])"
      ]
    },
    {
      "cell_type": "markdown",
      "metadata": {
        "id": "qEuGKuL3oMBC"
      },
      "source": [
        "#Saving model:"
      ]
    },
    {
      "cell_type": "markdown",
      "metadata": {
        "id": "MmRv4I4bpMSi"
      },
      "source": [
        "##we can Save and Load the model and use it afterwards whenever we want to use it. It isn't the preferred way to save the model but it can be loaded without defining the weights."
      ]
    },
    {
      "cell_type": "code",
      "execution_count": 64,
      "metadata": {
        "id": "4w-vouEeoQTH"
      },
      "outputs": [],
      "source": [
        "path_save = '/content/drive/MyDrive/DL/model_ng.pth.tar'    #or only .pth\n",
        "torch.save(RNN, path_save)"
      ]
    },
    {
      "cell_type": "code",
      "execution_count": 65,
      "metadata": {
        "id": "AXEQOnqepBAv"
      },
      "outputs": [],
      "source": [
        "load_model = torch.load(path_save)"
      ]
    },
    {
      "cell_type": "code",
      "execution_count": 66,
      "metadata": {
        "colab": {
          "base_uri": "https://localhost:8080/",
          "height": 52
        },
        "id": "1Keh2w7WqIB-",
        "outputId": "67316fef-c7c6-4393-9684-6624e1bde4d2"
      },
      "outputs": [
        {
          "name": "stdout",
          "output_type": "stream",
          "text": [
            "Generated captions by our model: \n"
          ]
        },
        {
          "data": {
            "application/vnd.google.colaboratory.intrinsic+json": {
              "type": "string"
            },
            "text/plain": [
              "'a man riding a white surfboard on a wave in the ocean <END> <NULL> <NULL> <NULL> <NULL> '"
            ]
          },
          "execution_count": 66,
          "metadata": {},
          "output_type": "execute_result"
        }
      ],
      "source": [
        "#Inference by the loaded model:\n",
        "load_model.eval()\n",
        "idx = 40\n",
        "ff1 = feature_extractor(images[idx].reshape(1, images[idx].shape[0], images[idx].shape[1], images[idx].shape[2]))\n",
        "ff1 = ff1.reshape(-1)\n",
        "temp = load_model.step_forward(ff1)\n",
        "print(\"Generated captions by our model: \")\n",
        "generate_caption(temp)"
      ]
    }
  ],
  "metadata": {
    "accelerator": "GPU",
    "colab": {
      "collapsed_sections": [],
      "machine_shape": "hm",
      "name": "Rnn_Image_Captioning.ipynb",
      "provenance": []
    },
    "kernelspec": {
      "display_name": "Python 3",
      "name": "python3"
    },
    "language_info": {
      "name": "python"
    },
    "widgets": {
      "application/vnd.jupyter.widget-state+json": {
        "04c3b34320fd47f5bd075bb5567e2449": {
          "model_module": "@jupyter-widgets/controls",
          "model_module_version": "1.5.0",
          "model_name": "HTMLModel",
          "state": {
            "_dom_classes": [],
            "_model_module": "@jupyter-widgets/controls",
            "_model_module_version": "1.5.0",
            "_model_name": "HTMLModel",
            "_view_count": null,
            "_view_module": "@jupyter-widgets/controls",
            "_view_module_version": "1.5.0",
            "_view_name": "HTMLView",
            "description": "",
            "description_tooltip": null,
            "layout": "IPY_MODEL_62adde3e11cb489a9b87f04c411590e4",
            "placeholder": "​",
            "style": "IPY_MODEL_4968987e9ffb4e12b1bfb0cea2be2d87",
            "value": "100%"
          }
        },
        "0a049a15526349e091a3acf497e7d912": {
          "model_module": "@jupyter-widgets/base",
          "model_module_version": "1.2.0",
          "model_name": "LayoutModel",
          "state": {
            "_model_module": "@jupyter-widgets/base",
            "_model_module_version": "1.2.0",
            "_model_name": "LayoutModel",
            "_view_count": null,
            "_view_module": "@jupyter-widgets/base",
            "_view_module_version": "1.2.0",
            "_view_name": "LayoutView",
            "align_content": null,
            "align_items": null,
            "align_self": null,
            "border": null,
            "bottom": null,
            "display": null,
            "flex": null,
            "flex_flow": null,
            "grid_area": null,
            "grid_auto_columns": null,
            "grid_auto_flow": null,
            "grid_auto_rows": null,
            "grid_column": null,
            "grid_gap": null,
            "grid_row": null,
            "grid_template_areas": null,
            "grid_template_columns": null,
            "grid_template_rows": null,
            "height": null,
            "justify_content": null,
            "justify_items": null,
            "left": null,
            "margin": null,
            "max_height": null,
            "max_width": null,
            "min_height": null,
            "min_width": null,
            "object_fit": null,
            "object_position": null,
            "order": null,
            "overflow": null,
            "overflow_x": null,
            "overflow_y": null,
            "padding": null,
            "right": null,
            "top": null,
            "visibility": null,
            "width": null
          }
        },
        "23a9c3b7a2e24d0096dd6f832ec6cf74": {
          "model_module": "@jupyter-widgets/base",
          "model_module_version": "1.2.0",
          "model_name": "LayoutModel",
          "state": {
            "_model_module": "@jupyter-widgets/base",
            "_model_module_version": "1.2.0",
            "_model_name": "LayoutModel",
            "_view_count": null,
            "_view_module": "@jupyter-widgets/base",
            "_view_module_version": "1.2.0",
            "_view_name": "LayoutView",
            "align_content": null,
            "align_items": null,
            "align_self": null,
            "border": null,
            "bottom": null,
            "display": null,
            "flex": null,
            "flex_flow": null,
            "grid_area": null,
            "grid_auto_columns": null,
            "grid_auto_flow": null,
            "grid_auto_rows": null,
            "grid_column": null,
            "grid_gap": null,
            "grid_row": null,
            "grid_template_areas": null,
            "grid_template_columns": null,
            "grid_template_rows": null,
            "height": null,
            "justify_content": null,
            "justify_items": null,
            "left": null,
            "margin": null,
            "max_height": null,
            "max_width": null,
            "min_height": null,
            "min_width": null,
            "object_fit": null,
            "object_position": null,
            "order": null,
            "overflow": null,
            "overflow_x": null,
            "overflow_y": null,
            "padding": null,
            "right": null,
            "top": null,
            "visibility": null,
            "width": null
          }
        },
        "4968987e9ffb4e12b1bfb0cea2be2d87": {
          "model_module": "@jupyter-widgets/controls",
          "model_module_version": "1.5.0",
          "model_name": "DescriptionStyleModel",
          "state": {
            "_model_module": "@jupyter-widgets/controls",
            "_model_module_version": "1.5.0",
            "_model_name": "DescriptionStyleModel",
            "_view_count": null,
            "_view_module": "@jupyter-widgets/base",
            "_view_module_version": "1.2.0",
            "_view_name": "StyleView",
            "description_width": ""
          }
        },
        "4c1a0c0f29fb4e4bade75d8f331d2172": {
          "model_module": "@jupyter-widgets/base",
          "model_module_version": "1.2.0",
          "model_name": "LayoutModel",
          "state": {
            "_model_module": "@jupyter-widgets/base",
            "_model_module_version": "1.2.0",
            "_model_name": "LayoutModel",
            "_view_count": null,
            "_view_module": "@jupyter-widgets/base",
            "_view_module_version": "1.2.0",
            "_view_name": "LayoutView",
            "align_content": null,
            "align_items": null,
            "align_self": null,
            "border": null,
            "bottom": null,
            "display": null,
            "flex": null,
            "flex_flow": null,
            "grid_area": null,
            "grid_auto_columns": null,
            "grid_auto_flow": null,
            "grid_auto_rows": null,
            "grid_column": null,
            "grid_gap": null,
            "grid_row": null,
            "grid_template_areas": null,
            "grid_template_columns": null,
            "grid_template_rows": null,
            "height": null,
            "justify_content": null,
            "justify_items": null,
            "left": null,
            "margin": null,
            "max_height": null,
            "max_width": null,
            "min_height": null,
            "min_width": null,
            "object_fit": null,
            "object_position": null,
            "order": null,
            "overflow": null,
            "overflow_x": null,
            "overflow_y": null,
            "padding": null,
            "right": null,
            "top": null,
            "visibility": null,
            "width": null
          }
        },
        "521b1aa3a7724699ac579cf72a2dbac9": {
          "model_module": "@jupyter-widgets/controls",
          "model_module_version": "1.5.0",
          "model_name": "ProgressStyleModel",
          "state": {
            "_model_module": "@jupyter-widgets/controls",
            "_model_module_version": "1.5.0",
            "_model_name": "ProgressStyleModel",
            "_view_count": null,
            "_view_module": "@jupyter-widgets/base",
            "_view_module_version": "1.2.0",
            "_view_name": "StyleView",
            "bar_color": null,
            "description_width": ""
          }
        },
        "62adde3e11cb489a9b87f04c411590e4": {
          "model_module": "@jupyter-widgets/base",
          "model_module_version": "1.2.0",
          "model_name": "LayoutModel",
          "state": {
            "_model_module": "@jupyter-widgets/base",
            "_model_module_version": "1.2.0",
            "_model_name": "LayoutModel",
            "_view_count": null,
            "_view_module": "@jupyter-widgets/base",
            "_view_module_version": "1.2.0",
            "_view_name": "LayoutView",
            "align_content": null,
            "align_items": null,
            "align_self": null,
            "border": null,
            "bottom": null,
            "display": null,
            "flex": null,
            "flex_flow": null,
            "grid_area": null,
            "grid_auto_columns": null,
            "grid_auto_flow": null,
            "grid_auto_rows": null,
            "grid_column": null,
            "grid_gap": null,
            "grid_row": null,
            "grid_template_areas": null,
            "grid_template_columns": null,
            "grid_template_rows": null,
            "height": null,
            "justify_content": null,
            "justify_items": null,
            "left": null,
            "margin": null,
            "max_height": null,
            "max_width": null,
            "min_height": null,
            "min_width": null,
            "object_fit": null,
            "object_position": null,
            "order": null,
            "overflow": null,
            "overflow_x": null,
            "overflow_y": null,
            "padding": null,
            "right": null,
            "top": null,
            "visibility": null,
            "width": null
          }
        },
        "764cbcc000b847829917e64e1030f171": {
          "model_module": "@jupyter-widgets/controls",
          "model_module_version": "1.5.0",
          "model_name": "DescriptionStyleModel",
          "state": {
            "_model_module": "@jupyter-widgets/controls",
            "_model_module_version": "1.5.0",
            "_model_name": "DescriptionStyleModel",
            "_view_count": null,
            "_view_module": "@jupyter-widgets/base",
            "_view_module_version": "1.2.0",
            "_view_name": "StyleView",
            "description_width": ""
          }
        },
        "9eeec94cca3f4ee5a7d5f5703448208c": {
          "model_module": "@jupyter-widgets/controls",
          "model_module_version": "1.5.0",
          "model_name": "HBoxModel",
          "state": {
            "_dom_classes": [],
            "_model_module": "@jupyter-widgets/controls",
            "_model_module_version": "1.5.0",
            "_model_name": "HBoxModel",
            "_view_count": null,
            "_view_module": "@jupyter-widgets/controls",
            "_view_module_version": "1.5.0",
            "_view_name": "HBoxView",
            "box_style": "",
            "children": [
              "IPY_MODEL_04c3b34320fd47f5bd075bb5567e2449",
              "IPY_MODEL_fb435bf811a54786a0097015b0832bc4",
              "IPY_MODEL_be4121626b1e4673bcdb944930d0b98d"
            ],
            "layout": "IPY_MODEL_0a049a15526349e091a3acf497e7d912"
          }
        },
        "be4121626b1e4673bcdb944930d0b98d": {
          "model_module": "@jupyter-widgets/controls",
          "model_module_version": "1.5.0",
          "model_name": "HTMLModel",
          "state": {
            "_dom_classes": [],
            "_model_module": "@jupyter-widgets/controls",
            "_model_module_version": "1.5.0",
            "_model_name": "HTMLModel",
            "_view_count": null,
            "_view_module": "@jupyter-widgets/controls",
            "_view_module_version": "1.5.0",
            "_view_name": "HTMLView",
            "description": "",
            "description_tooltip": null,
            "layout": "IPY_MODEL_23a9c3b7a2e24d0096dd6f832ec6cf74",
            "placeholder": "​",
            "style": "IPY_MODEL_764cbcc000b847829917e64e1030f171",
            "value": " 548M/548M [00:10&lt;00:00, 35.3MB/s]"
          }
        },
        "fb435bf811a54786a0097015b0832bc4": {
          "model_module": "@jupyter-widgets/controls",
          "model_module_version": "1.5.0",
          "model_name": "FloatProgressModel",
          "state": {
            "_dom_classes": [],
            "_model_module": "@jupyter-widgets/controls",
            "_model_module_version": "1.5.0",
            "_model_name": "FloatProgressModel",
            "_view_count": null,
            "_view_module": "@jupyter-widgets/controls",
            "_view_module_version": "1.5.0",
            "_view_name": "ProgressView",
            "bar_style": "success",
            "description": "",
            "description_tooltip": null,
            "layout": "IPY_MODEL_4c1a0c0f29fb4e4bade75d8f331d2172",
            "max": 574673361,
            "min": 0,
            "orientation": "horizontal",
            "style": "IPY_MODEL_521b1aa3a7724699ac579cf72a2dbac9",
            "value": 574673361
          }
        }
      }
    }
  },
  "nbformat": 4,
  "nbformat_minor": 0
}
