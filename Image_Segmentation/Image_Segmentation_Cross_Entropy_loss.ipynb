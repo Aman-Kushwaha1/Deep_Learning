{
  "cells": [
    {
      "cell_type": "markdown",
      "metadata": {
        "id": "EqF695iDc6ey"
      },
      "source": [
        "#Importing essential Libraries"
      ]
    },
    {
      "cell_type": "code",
      "execution_count": 5,
      "metadata": {
        "id": "V4juIs0OrJk_"
      },
      "outputs": [],
      "source": [
        "import torch\n",
        "import torch.nn as nn\n",
        "import torchvision.transforms.functional as TF\n",
        "from torch.optim import lr_scheduler\n",
        "import numpy as np\n",
        "#Importing some essential Libraries:\n",
        "import torch\n",
        "import torch.nn as nn\n",
        "import torchvision.transforms.functional as TF\n",
        "from torch.optim import lr_scheduler\n",
        "from matplotlib import image\n",
        "import numpy as np\n",
        "import matplotlib.pyplot as plt\n",
        "import os\n",
        "import cv2\n",
        "import imageio\n",
        "import torchvision.transforms.functional as F\n",
        "import torch.nn.functional as F1\n",
        "import torchvision"
      ]
    },
    {
      "cell_type": "markdown",
      "metadata": {
        "id": "cJdIipeFc0JX"
      },
      "source": [
        "#Loading Data"
      ]
    },
    {
      "cell_type": "code",
      "execution_count": 3,
      "metadata": {
        "colab": {
          "base_uri": "https://localhost:8080/"
        },
        "id": "I0BcfvQ3792l",
        "outputId": "a963e504-3660-44dc-e6b9-a0b4f8b79cc8"
      },
      "outputs": [
        {
          "name": "stdout",
          "output_type": "stream",
          "text": [
            "Mounted at /content/drive\n"
          ]
        }
      ],
      "source": [
        "from google.colab import drive\n",
        "\n",
        "drive.mount(\"/content/drive\")"
      ]
    },
    {
      "cell_type": "code",
      "execution_count": null,
      "metadata": {
        "colab": {
          "base_uri": "https://localhost:8080/"
        },
        "id": "C0DcHzEk7-V0",
        "outputId": "a85aeb62-6743-4347-abba-078fb152fa18"
      },
      "outputs": [
        {
          "name": "stdout",
          "output_type": "stream",
          "text": [
            "Loading Training Images...\n",
            "1000\n",
            "2000\n",
            "3000\n",
            "4000\n",
            "5000\n",
            "Loading Training Masks...\n",
            "1000\n",
            "2000\n",
            "3000\n",
            "4000\n",
            "5000\n",
            "Training images shape:  (5088, 220, 220, 3)\n",
            "Training Masks shape:  (5088, 220, 220)\n"
          ]
        }
      ],
      "source": [
        "from matplotlib import image\n",
        "import numpy as np\n",
        "import matplotlib.pyplot as plt\n",
        "import os\n",
        "import cv2\n",
        "import imageio\n",
        "\n",
        "image_path = '/content/drive/MyDrive/DL/Datasets/train'\n",
        "\n",
        "image_data = []\n",
        "image_masks = []\n",
        "\n",
        "#Loading images\n",
        "print(\"Loading Training Images...\")\n",
        "\n",
        "filenames = [os.path.join(image_path, img) for img in os.listdir(image_path)]\n",
        "filenames.sort()\n",
        "count=0\n",
        "for img in filenames:\n",
        "  count += 1\n",
        "  image_arr = cv2.imread(img)  #One image of dim (W, H, 3)\n",
        "\n",
        "  #Resizing\n",
        "  new_image = cv2.resize(image_arr, (220,220))  \n",
        "  new_image = cv2.cvtColor(new_image, cv2.COLOR_BGR2RGB) \n",
        "  image_data.append(new_image)\n",
        "  if count%1000 ==0:\n",
        "    print(count)\n",
        "  \n",
        "images = np.array(image_data)\n",
        "\n",
        "\n",
        "\n",
        "#Loading Masks\n",
        "image_mask_path = '/content/drive/MyDrive/DL/Datasets/train_masks'\n",
        "print(\"Loading Training Masks...\")\n",
        "filenames = [os.path.join(image_mask_path, img) for img in os.listdir(image_mask_path)]\n",
        "filenames.sort()\n",
        "count = 0\n",
        "for img in filenames:\n",
        "  count += 1\n",
        "  image_arr = imageio.imread(img)  #One image of dim (W, H, 3)\n",
        "  \n",
        "  #Resizing\n",
        "  new_image = cv2.resize(image_arr, (220,220))  \n",
        "  image_masks.append(new_image)\n",
        "  if count%1000 ==0:\n",
        "    print(count) \n",
        "  \n",
        "images = np.array(image_data)\n",
        "masks = np.array(image_masks)\n",
        "\n",
        "print(\"Training images shape: \" ,images.shape)     \n",
        "print(\"Training Masks shape: \",masks.shape)      #Labels are grayscale Images"
      ]
    },
    {
      "cell_type": "code",
      "execution_count": null,
      "metadata": {
        "id": "770M4vr16Q2w"
      },
      "outputs": [],
      "source": [
        "masks[masks<100] = 0\n",
        "masks[masks>=100] = 1.0\n"
      ]
    },
    {
      "cell_type": "code",
      "execution_count": 7,
      "metadata": {
        "id": "qnivLyYbT5dw"
      },
      "outputs": [],
      "source": [
        "#For faster Loading above loaded images are saved as numpy array. \n",
        "load_path_images = '/content/drive/MyDrive/DL/Datasets/images_carvana.npy'\n",
        "load_path_masks = '/content/drive/MyDrive/DL/Datasets/masks_carvana.npy'\n",
        "images = np.load(load_path_images)\n",
        "masks = np.load(load_path_masks)"
      ]
    },
    {
      "cell_type": "markdown",
      "metadata": {
        "id": "nyD7KZp9LNEE"
      },
      "source": [
        "Visualizing some images:"
      ]
    },
    {
      "cell_type": "code",
      "execution_count": 8,
      "metadata": {
        "colab": {
          "base_uri": "https://localhost:8080/",
          "height": 557
        },
        "id": "H3V1ySK-LL-p",
        "outputId": "f2f9c0c1-2538-4b5b-9421-1634b077b5dc"
      },
      "outputs": [
        {
          "name": "stdout",
          "output_type": "stream",
          "text": [
            "Image\n"
          ]
        },
        {
          "data": {
            "image/png": "[encoded data removed]",
            "text/plain": [
              "<Figure size 432x288 with 1 Axes>"
            ]
          },
          "metadata": {
            "needs_background": "light"
          },
          "output_type": "display_data"
        },
        {
          "name": "stdout",
          "output_type": "stream",
          "text": [
            "It's Mask\n"
          ]
        },
        {
          "data": {
            "image/png": "[encoded data removed]",
            "text/plain": [
              "<Figure size 432x288 with 1 Axes>"
            ]
          },
          "metadata": {
            "needs_background": "light"
          },
          "output_type": "display_data"
        }
      ],
      "source": [
        "plt.figure(1)\n",
        "print(\"Image\")\n",
        "plt.imshow(images[100], cmap= 'gray')\n",
        "plt.show()\n",
        "plt.figure(2)\n",
        "print(\"It's Mask\")\n",
        "plt.imshow(masks[100], cmap= 'gray')\n",
        "plt.show()"
      ]
    },
    {
      "cell_type": "markdown",
      "metadata": {
        "id": "ZUHZnu02b3dg"
      },
      "source": [
        "Checking if GPU is available"
      ]
    },
    {
      "cell_type": "code",
      "execution_count": 9,
      "metadata": {
        "colab": {
          "base_uri": "https://localhost:8080/"
        },
        "id": "jzMueuQcLDl6",
        "outputId": "22b9437a-c90c-4cff-c24d-1accd9f312be"
      },
      "outputs": [
        {
          "name": "stdout",
          "output_type": "stream",
          "text": [
            "cuda GPU is available\n"
          ]
        }
      ],
      "source": [
        "#Converting the images into tensor\n",
        "if torch.cuda.is_available():\n",
        "  print(\"cuda GPU is available\")\n",
        "  DEVICE = 'cuda'\n",
        "else:\n",
        "  print(\"GPU is not available\")\n",
        "  DEVICE = 'cpu'"
      ]
    },
    {
      "cell_type": "code",
      "execution_count": 10,
      "metadata": {
        "id": "ScbaRRDCUG0y"
      },
      "outputs": [],
      "source": [
        "#validation dataset\n",
        "val = images[5050:5080,:,:,:]\n",
        "val_mask = masks[5050:5080,:,:]"
      ]
    },
    {
      "cell_type": "code",
      "execution_count": 11,
      "metadata": {
        "colab": {
          "base_uri": "https://localhost:8080/"
        },
        "id": "YgchYwtPY3Ay",
        "outputId": "a0f89e24-206c-443e-b628-8a5917711536"
      },
      "outputs": [
        {
          "name": "stdout",
          "output_type": "stream",
          "text": [
            "Val shape:  (30, 220, 220, 3)\n",
            "Val mask shape:  (30, 220, 220)\n"
          ]
        }
      ],
      "source": [
        "print(\"Val shape: \", val.shape)\n",
        "print(\"Val mask shape: \", val_mask.shape)"
      ]
    },
    {
      "cell_type": "code",
      "execution_count": 12,
      "metadata": {
        "id": "pATHFfzFUHeY"
      },
      "outputs": [],
      "source": [
        "#Train Dataset\n",
        "images = images[0:5050]\n",
        "masks = masks[0:5050]"
      ]
    },
    {
      "cell_type": "code",
      "execution_count": 13,
      "metadata": {
        "colab": {
          "base_uri": "https://localhost:8080/"
        },
        "id": "UtbEwj-aZByp",
        "outputId": "a95c1582-929c-474b-cf98-1af4265de422"
      },
      "outputs": [
        {
          "name": "stdout",
          "output_type": "stream",
          "text": [
            "training images shape:  (5050, 220, 220, 3)\n",
            "training masks shape:  (5050, 220, 220)\n"
          ]
        }
      ],
      "source": [
        "print(\"training images shape: \", images.shape)\n",
        "print(\"training masks shape: \", masks.shape)"
      ]
    },
    {
      "cell_type": "markdown",
      "metadata": {
        "id": "KjQwb1RmbbYN"
      },
      "source": [
        "Transferring the Images to GPU"
      ]
    },
    {
      "cell_type": "code",
      "execution_count": 14,
      "metadata": {
        "id": "eJVyIeuoLFQi"
      },
      "outputs": [],
      "source": [
        "images = torch.tensor(images, device = DEVICE)\n",
        "masks = torch.tensor(masks, device = DEVICE)"
      ]
    },
    {
      "cell_type": "markdown",
      "metadata": {
        "id": "i294zC3vfEM4"
      },
      "source": [
        "Normalize the image"
      ]
    },
    {
      "cell_type": "code",
      "execution_count": 15,
      "metadata": {
        "id": "NrUI7Bmfe4Gv"
      },
      "outputs": [],
      "source": [
        "images = images.float()\n",
        "mean = (torch.mean(images))\n",
        "images = images/ mean"
      ]
    },
    {
      "cell_type": "code",
      "execution_count": 16,
      "metadata": {
        "id": "FX2ukprGUN5F"
      },
      "outputs": [],
      "source": [
        "val = torch.tensor(val, device = DEVICE)\n",
        "val_mask = torch.tensor(val_mask, device = DEVICE)\n",
        "val = val.float()\n",
        "val = val/ mean"
      ]
    },
    {
      "cell_type": "markdown",
      "metadata": {
        "id": "s-FxIoLhgPu_"
      },
      "source": [
        "Reshaping the Image for network to work on"
      ]
    },
    {
      "cell_type": "code",
      "execution_count": 17,
      "metadata": {
        "id": "HmCj31wmgYrd"
      },
      "outputs": [],
      "source": [
        "#changing image dimension to that which is accepted by the the model\n",
        "images = images.permute(0,3,1,2)"
      ]
    },
    {
      "cell_type": "code",
      "execution_count": 18,
      "metadata": {
        "id": "tskE41mhUYTL"
      },
      "outputs": [],
      "source": [
        "val = val.permute(0,3,1,2)"
      ]
    },
    {
      "cell_type": "code",
      "execution_count": 19,
      "metadata": {
        "id": "eG9q2kErc6vY"
      },
      "outputs": [],
      "source": [
        "import torchvision.transforms.functional as TF"
      ]
    },
    {
      "cell_type": "markdown",
      "metadata": {
        "id": "VubZxHHwswlJ"
      },
      "source": [
        "#Creating Unet Netowk architecture\n",
        "\n",
        "##Paper: https://arxiv.org/abs/1505.04597\n",
        "There is some changes as compared to orignal Unet architectures to improve the performance"
      ]
    },
    {
      "cell_type": "code",
      "execution_count": 20,
      "metadata": {
        "id": "jniFcowksgC2"
      },
      "outputs": [],
      "source": [
        "class unet(nn.Module):\n",
        "\n",
        "  def __init__(self, in_channels, out_channels):     #Features is the dimension of Height and Width of the image\n",
        "    super(unet, self).__init__()\n",
        "    self.conv1 = nn.Sequential(\n",
        "            nn.Conv2d(in_channels, 64, 3, 1, 1, bias=False),\n",
        "            nn.BatchNorm2d(64),\n",
        "            nn.ReLU(inplace=True),\n",
        "            nn.Conv2d(64, 64, 3, 1, 1, bias=False),\n",
        "            nn.BatchNorm2d(64),\n",
        "            nn.ReLU(inplace=True),\n",
        "        )\n",
        "    self.pool1 = nn.MaxPool2d(kernel_size=2, stride=2)\n",
        "\n",
        "    self.conv2 = nn.Sequential(\n",
        "            nn.Conv2d(64, 128, 3, 1, 1, bias=False),\n",
        "            nn.BatchNorm2d(128),\n",
        "            nn.ReLU(inplace=True),\n",
        "            nn.Conv2d(128, 128, 3, 1, 1, bias=False),\n",
        "            nn.BatchNorm2d(128),\n",
        "            nn.ReLU(inplace=True),\n",
        "        )\n",
        "    self.pool2 = nn.MaxPool2d(kernel_size=2, stride=2)\n",
        "\n",
        "    self.conv3 = nn.Sequential(\n",
        "            nn.Conv2d(128, 256, 3, 1, 1, bias=False),\n",
        "            nn.BatchNorm2d(256),\n",
        "            nn.ReLU(inplace=True),\n",
        "            nn.Conv2d(256, 256, 3, 1, 1, bias=False),\n",
        "            nn.BatchNorm2d(256),\n",
        "            nn.ReLU(inplace=True),\n",
        "        )\n",
        "    self.pool3 = nn.MaxPool2d(kernel_size=2, stride=2)\n",
        "\n",
        "    self.conv4 = nn.Sequential(\n",
        "            nn.Conv2d(256, 512, 3, 1, 1, bias=False),\n",
        "            nn.BatchNorm2d(512),\n",
        "            nn.ReLU(inplace=True),\n",
        "            nn.Conv2d(512, 512, 3, 1, 1, bias=False),\n",
        "            nn.BatchNorm2d(512),\n",
        "            nn.ReLU(inplace=True),\n",
        "        )\n",
        "    self.pool4 = nn.MaxPool2d(kernel_size=2, stride=2)\n",
        "\n",
        "    self.conv5 = nn.Sequential(\n",
        "            nn.Conv2d(512, 1024, 3, 1, 1, bias=False),\n",
        "            nn.BatchNorm2d(1024),\n",
        "            nn.ReLU(inplace=True),\n",
        "            nn.Conv2d(1024, 1024, 3, 1, 1, bias=False),\n",
        "            nn.BatchNorm2d(1024),\n",
        "            nn.ReLU(inplace=True),\n",
        "        )\n",
        "\n",
        "    #upsampling layers\n",
        "    self.up1 = nn.ConvTranspose2d( 1024, 512, kernel_size=2, stride=2, )\n",
        "    self.conv6 = nn.Sequential(\n",
        "            nn.Conv2d(1024, 512, 3, 1, 1, bias=False),\n",
        "            nn.BatchNorm2d(512),\n",
        "            nn.ReLU(inplace=True),\n",
        "            nn.Conv2d(512, 512, 3, 1, 1, bias=False),\n",
        "            nn.BatchNorm2d(512),\n",
        "            nn.ReLU(inplace=True),\n",
        "        )\n",
        "    \n",
        "    self.up2 = nn.ConvTranspose2d( 512, 256, kernel_size=2, stride=2, )\n",
        "    self.conv7 = nn.Sequential(\n",
        "            nn.Conv2d(512, 256, 3, 1, 1, bias=False),\n",
        "            nn.BatchNorm2d(256),\n",
        "            nn.ReLU(inplace=True),\n",
        "            nn.Conv2d(256, 256, 3, 1, 1, bias=False),\n",
        "            nn.BatchNorm2d(256),\n",
        "            nn.ReLU(inplace=True),\n",
        "        )\n",
        "    \n",
        "    self.up3 = nn.ConvTranspose2d( 256, 128, kernel_size=2, stride=2, )\n",
        "    self.conv8 = nn.Sequential(\n",
        "            nn.Conv2d(256, 128, 3, 1, 1, bias=False),\n",
        "            nn.BatchNorm2d(128),\n",
        "            nn.ReLU(inplace=True),\n",
        "            nn.Conv2d(128, 128, 3, 1, 1, bias=False),\n",
        "            nn.BatchNorm2d(128),\n",
        "            nn.ReLU(inplace=True),\n",
        "        )\n",
        "    \n",
        "    self.up4 = nn.ConvTranspose2d( 128, 64, kernel_size=2, stride=2, )\n",
        "    self.conv9 = nn.Sequential(\n",
        "            nn.Conv2d(128, 64, 3, 1, 1, bias=False),\n",
        "            nn.BatchNorm2d(64),\n",
        "            nn.ReLU(inplace=True),\n",
        "            nn.Conv2d(64, 64, 3, 1, 1, bias=False),\n",
        "            nn.BatchNorm2d(64),\n",
        "            nn.ReLU(inplace=True),\n",
        "        )\n",
        "    self.conv_final = nn.Conv2d(64, out_channels, 3, 1, 1)               #output channel is the no of classes\n",
        "    \n",
        "  def forward(self, input):\n",
        "\n",
        "    #Downsampling Part\n",
        "    out = self.conv1(input)\n",
        "    out_1 = out\n",
        "    out = self.pool1(out)       #()\n",
        "\n",
        "    out = self.conv2(out)\n",
        "    out_2 = out\n",
        "    out = self.pool2(out)\n",
        "\n",
        "    out = self.conv3(out)\n",
        "    out_3 = out\n",
        "    out = self.pool3(out)\n",
        "    \n",
        "    out = self.conv4(out)\n",
        "    out_4 = out\n",
        "    out = self.pool4(out)\n",
        "    \n",
        "    out = self.conv5(out)\n",
        "    \n",
        "    #Upsampling part\n",
        "    out = self.up1(out) \n",
        "    if out_4.shape != out.shape:\n",
        "      out = TF.resize(out, size= [out_4.shape[2], out_4.shape[3]])\n",
        "    out = torch.cat((out_4, out), dim = 1)\n",
        "    out = self.conv6(out)\n",
        "\n",
        "    out = self.up2(out)  \n",
        "    if out_3.shape != out.shape:\n",
        "      out = TF.resize(out, size= [out_3.shape[2], out_3.shape[3]]) \n",
        "    out = torch.cat((out_3, out), dim = 1)\n",
        "    out = self.conv7(out)\n",
        "\n",
        "    out = self.up3(out) \n",
        "    if out_2.shape != out.shape:\n",
        "      out = TF.resize(out, size= [out_2.shape[2], out_2.shape[3]])    \n",
        "    out = torch.cat((out_2, out), dim = 1)\n",
        "    out = self.conv8(out)\n",
        "\n",
        "    out = self.up4(out) \n",
        "    if out_1.shape != out.shape:\n",
        "      out = TF.resize(out, size= [out_1.shape[2], out_1.shape[3]])    \n",
        "    out = torch.cat((out_1, out), dim = 1)\n",
        "    out = self.conv9(out)\n",
        "\n",
        "    out = self.conv_final(out)\n",
        "\n",
        "    return out\n",
        "\n",
        "\n",
        "\n"
      ]
    },
    {
      "cell_type": "code",
      "execution_count": 21,
      "metadata": {
        "id": "GNFc9sdxVTe4"
      },
      "outputs": [],
      "source": [
        "model = unet(3,2).to(device = DEVICE)"
      ]
    },
    {
      "cell_type": "code",
      "execution_count": 22,
      "metadata": {
        "colab": {
          "base_uri": "https://localhost:8080/"
        },
        "id": "CyJ4-bajD7C1",
        "outputId": "e1ac2258-eb74-46fb-c83b-8541f4a2893c"
      },
      "outputs": [
        {
          "data": {
            "text/plain": [
              "torch.Size([1, 2, 220, 220])"
            ]
          },
          "execution_count": 22,
          "metadata": {},
          "output_type": "execute_result"
        }
      ],
      "source": [
        "model(images[0].reshape(1, images[0].shape[0], images[0].shape[1], images[0].shape[2])).shape"
      ]
    },
    {
      "cell_type": "code",
      "execution_count": 23,
      "metadata": {
        "id": "ilR7A8_ZWGaM"
      },
      "outputs": [],
      "source": [
        "optimizer = torch.optim.Adam(model.parameters(), lr=0.001)        #update the weights of the model \n",
        "loss_type = torch.nn.CrossEntropyLoss()\n",
        "step_lr = lr_scheduler.StepLR(optimizer, step_size= 100, gamma = 0.9)   #Every 100 epochs our learning rate will be multiplied by gamma"
      ]
    },
    {
      "cell_type": "code",
      "execution_count": 24,
      "metadata": {
        "colab": {
          "base_uri": "https://localhost:8080/"
        },
        "id": "oFAyUCpq5HYG",
        "outputId": "2bd0ee01-3123-4475-866f-9be3a8143c2e"
      },
      "outputs": [
        {
          "data": {
            "text/plain": [
              "array([0, 1], dtype=uint8)"
            ]
          },
          "execution_count": 24,
          "metadata": {},
          "output_type": "execute_result"
        }
      ],
      "source": [
        "np.unique(masks[70].cpu().numpy())"
      ]
    },
    {
      "cell_type": "code",
      "execution_count": null,
      "metadata": {
        "id": "6D3K7BNMWETW"
      },
      "outputs": [],
      "source": []
    },
    {
      "cell_type": "markdown",
      "metadata": {
        "id": "RhVUo_3rFYS2"
      },
      "source": [
        "#Training the model using pytorch dataloader and other pytorch tools"
      ]
    },
    {
      "cell_type": "code",
      "execution_count": 25,
      "metadata": {
        "id": "HFG9rymGGNXZ"
      },
      "outputs": [],
      "source": [
        "from torch.utils.data import Dataset, DataLoader     #Importing Dataloader"
      ]
    },
    {
      "cell_type": "code",
      "execution_count": 26,
      "metadata": {
        "id": "68r-RvdSFhTD"
      },
      "outputs": [],
      "source": [
        "class CustomImageDataset(Dataset):    #Making the class that takes the index and gives the images and it's corrosponding masks\n",
        "    def __init__(self, images, masks):\n",
        "        self.images = images\n",
        "        self.masks = masks\n",
        "\n",
        "    def __len__(self):\n",
        "        return images.shape[0]\n",
        "\n",
        "    def __getitem__(self, idx):\n",
        "        x_batch = self.images[idx]\n",
        "        y_batch = self.masks[idx]\n",
        "        return x_batch, y_batch"
      ]
    },
    {
      "cell_type": "code",
      "execution_count": 27,
      "metadata": {
        "id": "_F7EatvxFpMv"
      },
      "outputs": [],
      "source": [
        "data = CustomImageDataset(images, masks)  #data is the object for the class that takes index and gives data and it's mask"
      ]
    },
    {
      "cell_type": "code",
      "execution_count": 28,
      "metadata": {
        "id": "c9rh2D-pFvyW"
      },
      "outputs": [],
      "source": [
        "batchsize = 14\n",
        "dataloader = DataLoader(dataset= data, batch_size= batchsize, shuffle= True)"
      ]
    },
    {
      "cell_type": "code",
      "execution_count": 29,
      "metadata": {
        "colab": {
          "base_uri": "https://localhost:8080/"
        },
        "id": "JuZi0enDWLKC",
        "outputId": "1b8e2585-15a4-46aa-c746-1b089dfc3f19"
      },
      "outputs": [
        {
          "name": "stdout",
          "output_type": "stream",
          "text": [
            "Looking in indexes: https://pypi.org/simple, https://us-python.pkg.dev/colab-wheels/public/simple/\n",
            "Collecting torchmetrics\n",
            "  Downloading torchmetrics-0.9.1-py3-none-any.whl (419 kB)\n",
            "\u001b[K     |████████████████████████████████| 419 kB 5.2 MB/s \n",
            "\u001b[?25hRequirement already satisfied: packaging in /usr/local/lib/python3.7/dist-packages (from torchmetrics) (21.3)\n",
            "Requirement already satisfied: torch>=1.3.1 in /usr/local/lib/python3.7/dist-packages (from torchmetrics) (1.11.0+cu113)\n",
            "Requirement already satisfied: typing-extensions in /usr/local/lib/python3.7/dist-packages (from torchmetrics) (4.1.1)\n",
            "Requirement already satisfied: numpy>=1.17.2 in /usr/local/lib/python3.7/dist-packages (from torchmetrics) (1.21.6)\n",
            "Requirement already satisfied: pyparsing!=3.0.5,>=2.0.2 in /usr/local/lib/python3.7/dist-packages (from packaging->torchmetrics) (3.0.9)\n",
            "Installing collected packages: torchmetrics\n",
            "Successfully installed torchmetrics-0.9.1\n"
          ]
        }
      ],
      "source": [
        "pip install torchmetrics"
      ]
    },
    {
      "cell_type": "code",
      "execution_count": 30,
      "metadata": {
        "id": "3Pxv-IrOWL9g"
      },
      "outputs": [],
      "source": [
        "from torchmetrics import JaccardIndex\n",
        "jaccard = JaccardIndex(num_classes=2).to(DEVICE)"
      ]
    },
    {
      "cell_type": "markdown",
      "metadata": {
        "id": "9NF7KQmiGt46"
      },
      "source": [
        "##Training Network"
      ]
    },
    {
      "cell_type": "code",
      "execution_count": 31,
      "metadata": {
        "colab": {
          "base_uri": "https://localhost:8080/"
        },
        "id": "peRtuBthGbbB",
        "outputId": "64f2a37f-0c23-4f97-8928-d8668c5dbfa4"
      },
      "outputs": [
        {
          "name": "stdout",
          "output_type": "stream",
          "text": [
            "Jaccard index before epoch  0  is:  0.11273189634084702\n",
            "Epoch:  1 , loss is:  0.02038935199379921\n",
            "Jaccard index before epoch  1  is:  0.9842565059661865\n",
            "Epoch:  2 , loss is:  0.012509026564657688\n",
            "Jaccard index before epoch  2  is:  0.9870830178260803\n",
            "Epoch:  3 , loss is:  0.010384872555732727\n",
            "Jaccard index before epoch  3  is:  0.9877358078956604\n",
            "Epoch:  4 , loss is:  0.00766232842579484\n",
            "Jaccard index before epoch  4  is:  0.9911600947380066\n",
            "Epoch:  5 , loss is:  0.007368347141891718\n",
            "Jaccard index before epoch  5  is:  0.991329550743103\n",
            "Epoch:  6 , loss is:  0.008263489231467247\n",
            "Jaccard index before epoch  6  is:  0.9930188655853271\n",
            "Epoch:  7 , loss is:  0.006465842481702566\n",
            "Jaccard index before epoch  7  is:  0.992862343788147\n",
            "Epoch:  8 , loss is:  0.006197026465088129\n",
            "Jaccard index before epoch  8  is:  0.9926159977912903\n",
            "Epoch:  9 , loss is:  0.004778584931045771\n",
            "Jaccard index before epoch  9  is:  0.8871115446090698\n",
            "Epoch:  10 , loss is:  0.008962105959653854\n"
          ]
        }
      ],
      "source": [
        "#Model Training\n",
        "loss_graph = []\n",
        "num_epochs = 10   #Here each epoch means that at each epoch the model will train once over the entire datset using sgd on small batches\n",
        "\n",
        "\n",
        "for j in range(num_epochs):\n",
        "\n",
        "  with torch.no_grad():\n",
        "    model.eval()\n",
        "    pred = model(val)\n",
        "    pred = pred.argmax(axis= 1)\n",
        "    print(\"Jaccard index before epoch \", j, \" is: \", jaccard(pred, val_mask).cpu().item())\n",
        "\n",
        "  model.train()\n",
        "  for i, (x_batch, y_batch) in enumerate(dataloader):\n",
        "\n",
        "    optimizer.zero_grad()\n",
        "    y_pred = model(x_batch)\n",
        "    y_pred = y_pred.permute(0,2,3,1)\n",
        "    y_pred = y_pred.reshape(-1,2)\n",
        "    y_batch = y_batch.reshape(-1)\n",
        "  \n",
        "    loss = loss_type(y_pred, y_batch)\n",
        "    loss.backward()\n",
        "    optimizer.step()\n",
        "    loss_graph.append(loss.cpu().item())\n",
        "\n",
        "    #schedular step\n",
        "    #step_lr.step()\n",
        "\n",
        "  print(\"Epoch: \", j+1, \", loss is: \", loss.cpu().item())\n",
        "  #print(\"Learning rate is: \", optimizer.state_dict()['param_groups'][0]['lr'])"
      ]
    },
    {
      "cell_type": "code",
      "execution_count": 32,
      "metadata": {
        "colab": {
          "base_uri": "https://localhost:8080/",
          "height": 265
        },
        "id": "7bcDsC_eV6d_",
        "outputId": "542897b6-46a3-4b18-9575-363750f12f3d"
      },
      "outputs": [
        {
          "data": {
            "image/png": "[encoded data removed]",
            "text/plain": [
              "<Figure size 432x288 with 1 Axes>"
            ]
          },
          "metadata": {
            "needs_background": "light"
          },
          "output_type": "display_data"
        }
      ],
      "source": [
        "#Loss Graph\n",
        "plt.plot(loss_graph)  \n",
        "plt.show()"
      ]
    },
    {
      "cell_type": "markdown",
      "metadata": {
        "id": "Hfic1DoYV892"
      },
      "source": [
        "#Final result from the Trained Model: "
      ]
    },
    {
      "cell_type": "markdown",
      "metadata": {
        "id": "k3rkBIJZeNcd"
      },
      "source": [
        "Prediction on seen data (Training data)"
      ]
    },
    {
      "cell_type": "code",
      "execution_count": 34,
      "metadata": {
        "colab": {
          "base_uri": "https://localhost:8080/",
          "height": 557
        },
        "id": "Vm_3lCDXV959",
        "outputId": "24f06763-d614-47b5-ac6c-93c5f8b29d8b"
      },
      "outputs": [
        {
          "name": "stdout",
          "output_type": "stream",
          "text": [
            "Predicted segmentation mask\n"
          ]
        },
        {
          "data": {
            "image/png": "[encoded data removed]",
            "text/plain": [
              "<Figure size 432x288 with 1 Axes>"
            ]
          },
          "metadata": {
            "needs_background": "light"
          },
          "output_type": "display_data"
        },
        {
          "name": "stdout",
          "output_type": "stream",
          "text": [
            "Actual mask\n"
          ]
        },
        {
          "data": {
            "image/png": "[encoded data removed]",
            "text/plain": [
              "<Figure size 432x288 with 1 Axes>"
            ]
          },
          "metadata": {
            "needs_background": "light"
          },
          "output_type": "display_data"
        }
      ],
      "source": [
        "model.eval()\n",
        "y = model(images[111].reshape(1,images.shape[1], images.shape[2], images.shape[3]))\n",
        "y = y.argmax(axis= 1)\n",
        "y = y.reshape(220,220)\n",
        "plt.figure(3)\n",
        "print(\"Predicted segmentation mask\")\n",
        "plt.imshow(np.array(y.detach().cpu().numpy()), cmap= 'gray')\n",
        "plt.show()\n",
        "\n",
        "plt.figure(4)\n",
        "print(\"Actual mask\")\n",
        "plt.imshow(np.array(masks[111].clone().cpu()), cmap= 'gray')\n",
        "plt.show()"
      ]
    },
    {
      "cell_type": "markdown",
      "metadata": {
        "id": "3B5fPaUVeOsC"
      },
      "source": [
        "Prediction on unseen data (Validation data)"
      ]
    },
    {
      "cell_type": "code",
      "execution_count": 35,
      "metadata": {
        "colab": {
          "base_uri": "https://localhost:8080/",
          "height": 557
        },
        "id": "K0idz5fjeIwE",
        "outputId": "ebdfaa3e-6b85-457e-9ee1-6d4bd9845a13"
      },
      "outputs": [
        {
          "name": "stdout",
          "output_type": "stream",
          "text": [
            "Predicted segmentation mask\n"
          ]
        },
        {
          "data": {
            "image/png": "[encoded data removed]",
            "text/plain": [
              "<Figure size 432x288 with 1 Axes>"
            ]
          },
          "metadata": {
            "needs_background": "light"
          },
          "output_type": "display_data"
        },
        {
          "name": "stdout",
          "output_type": "stream",
          "text": [
            "Actual mask\n"
          ]
        },
        {
          "data": {
            "image/png": "[encoded data removed]",
            "text/plain": [
              "<Figure size 432x288 with 1 Axes>"
            ]
          },
          "metadata": {
            "needs_background": "light"
          },
          "output_type": "display_data"
        }
      ],
      "source": [
        "model.eval()\n",
        "y = model(val[11].reshape(1,val.shape[1], val.shape[2], val.shape[3]))\n",
        "y = y.argmax(axis= 1)\n",
        "y = y.reshape(220,220)\n",
        "plt.figure(3)\n",
        "print(\"Predicted segmentation mask\")\n",
        "plt.imshow(np.array(y.detach().cpu().numpy()), cmap= 'gray')\n",
        "plt.show()\n",
        "\n",
        "plt.figure(4)\n",
        "print(\"Actual mask\")\n",
        "plt.imshow(np.array(val_mask[11].clone().cpu()), cmap= 'gray')\n",
        "plt.show()"
      ]
    }
  ],
  "metadata": {
    "accelerator": "GPU",
    "colab": {
      "collapsed_sections": [],
      "machine_shape": "hm",
      "name": "Image_Segmentation.ipynb",
      "provenance": []
    },
    "kernelspec": {
      "display_name": "Python 3",
      "name": "python3"
    },
    "language_info": {
      "name": "python"
    }
  },
  "nbformat": 4,
  "nbformat_minor": 0
}
