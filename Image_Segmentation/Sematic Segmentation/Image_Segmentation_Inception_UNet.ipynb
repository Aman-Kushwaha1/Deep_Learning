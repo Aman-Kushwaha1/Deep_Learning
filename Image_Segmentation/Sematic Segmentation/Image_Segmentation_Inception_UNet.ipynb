{
  "cells": [
    {
      "cell_type": "markdown",
      "metadata": {
        "id": "EqF695iDc6ey"
      },
      "source": [
        "#Importing essential Libraries"
      ]
    },
    {
      "cell_type": "code",
      "execution_count": null,
      "metadata": {
        "id": "V4juIs0OrJk_"
      },
      "outputs": [],
      "source": [
        "import torch\n",
        "import torch.nn as nn\n",
        "import torchvision.transforms.functional as TF\n",
        "from torch.optim import lr_scheduler"
      ]
    },
    {
      "cell_type": "markdown",
      "metadata": {
        "id": "cJdIipeFc0JX"
      },
      "source": [
        "#Loading Data"
      ]
    },
    {
      "cell_type": "code",
      "execution_count": null,
      "metadata": {
        "id": "xKCwiiXBc5HA"
      },
      "outputs": [],
      "source": [
        "%load_ext autoreload\n",
        "%autoreload 2"
      ]
    },
    {
      "cell_type": "code",
      "execution_count": null,
      "metadata": {
        "colab": {
          "base_uri": "https://localhost:8080/"
        },
        "id": "I0BcfvQ3792l",
        "outputId": "9081f7db-09ac-4e74-9faf-7cedd19f63c5"
      },
      "outputs": [
        {
          "output_type": "stream",
          "name": "stdout",
          "text": [
            "Mounted at /content/drive\n"
          ]
        }
      ],
      "source": [
        "from google.colab import drive\n",
        "\n",
        "drive.mount(\"/content/drive\")"
      ]
    },
    {
      "cell_type": "code",
      "execution_count": null,
      "metadata": {
        "colab": {
          "base_uri": "https://localhost:8080/"
        },
        "id": "C0DcHzEk7-V0",
        "outputId": "7caf5773-182b-4a8e-ee18-8a1287a38cd4"
      },
      "outputs": [
        {
          "output_type": "stream",
          "name": "stdout",
          "text": [
            "Loading Training Images...\n",
            "1000\n",
            "Loading Training Masks...\n",
            "1000\n",
            "Training images shape:  (1000, 240, 240, 3)\n",
            "Training Masks shape:  (1000, 240, 240)\n"
          ]
        }
      ],
      "source": [
        "from matplotlib import image\n",
        "import numpy as np\n",
        "import matplotlib.pyplot as plt\n",
        "import os\n",
        "import cv2\n",
        "import imageio\n",
        "\n",
        "image_path = '/content/drive/MyDrive/DL/Datasets/train'\n",
        "\n",
        "image_data = []\n",
        "image_masks = []\n",
        "\n",
        "#Loading images\n",
        "print(\"Loading Training Images...\")\n",
        "\n",
        "filenames = [os.path.join(image_path, img) for img in os.listdir(image_path)]\n",
        "filenames.sort()\n",
        "count=0\n",
        "for img in filenames:\n",
        "  count += 1\n",
        "  image_arr = cv2.imread(img)  #One image of dim (W, H, 3)\n",
        "\n",
        "  #Resizing\n",
        "  new_image = cv2.resize(image_arr, (240,240))  \n",
        "  new_image = cv2.cvtColor(new_image, cv2.COLOR_BGR2RGB) \n",
        "  image_data.append(new_image)\n",
        "  if count%1000 ==0:\n",
        "    print(count)\n",
        "    break\n",
        "  \n",
        "images = np.array(image_data)\n",
        "\n",
        "\n",
        "\n",
        "#Loading Masks\n",
        "image_mask_path = '/content/drive/MyDrive/DL/Datasets/train_masks'\n",
        "print(\"Loading Training Masks...\")\n",
        "filenames = [os.path.join(image_mask_path, img) for img in os.listdir(image_mask_path)]\n",
        "filenames.sort()\n",
        "count = 0\n",
        "for img in filenames:\n",
        "  count += 1\n",
        "  image_arr = imageio.imread(img)  #One image of dim (W, H, 3)\n",
        "  \n",
        "  #Resizing\n",
        "  new_image = cv2.resize(image_arr, (240,240))  \n",
        "  image_masks.append(new_image)\n",
        "  if count%1000 ==0:\n",
        "    print(count) \n",
        "    break\n",
        "  \n",
        "images = np.array(image_data)\n",
        "masks = np.array(image_masks)\n",
        "\n",
        "print(\"Training images shape: \" ,images.shape)     \n",
        "print(\"Training Masks shape: \",masks.shape)      #Labels are grayscale Images"
      ]
    },
    {
      "cell_type": "code",
      "source": [
        "masks[masks<70] = 0\n",
        "masks[masks>=70] = 1.0\n"
      ],
      "metadata": {
        "id": "770M4vr16Q2w"
      },
      "execution_count": null,
      "outputs": []
    },
    {
      "cell_type": "code",
      "source": [
        "np.save('images.npy', images)\n",
        "np.save('masks.npy', masks)"
      ],
      "metadata": {
        "id": "BkIlka_0nIV9"
      },
      "execution_count": null,
      "outputs": []
    },
    {
      "cell_type": "markdown",
      "metadata": {
        "id": "nyD7KZp9LNEE"
      },
      "source": [
        "Visualizing some images:"
      ]
    },
    {
      "cell_type": "code",
      "execution_count": null,
      "metadata": {
        "colab": {
          "base_uri": "https://localhost:8080/",
          "height": 556
        },
        "id": "H3V1ySK-LL-p",
        "outputId": "15fa0b01-90a3-4c55-d239-5f29b2aa0b0d"
      },
      "outputs": [
        {
          "output_type": "stream",
          "name": "stdout",
          "text": [
            "Image\n"
          ]
        },
        {
          "output_type": "display_data",
          "data": {
            "text/plain": [
              "<Figure size 432x288 with 1 Axes>"
            ],
            "image/png": "[encoded data removed]"
          },
          "metadata": {
            "needs_background": "light"
          }
        },
        {
          "output_type": "stream",
          "name": "stdout",
          "text": [
            "It's Mask\n"
          ]
        },
        {
          "output_type": "display_data",
          "data": {
            "text/plain": [
              "<Figure size 432x288 with 1 Axes>"
            ],
            "image/png": "[encoded data removed]"
          },
          "metadata": {
            "needs_background": "light"
          }
        }
      ],
      "source": [
        "plt.figure(1)\n",
        "print(\"Image\")\n",
        "plt.imshow(images[100], cmap= 'gray')\n",
        "plt.show()\n",
        "plt.figure(2)\n",
        "print(\"It's Mask\")\n",
        "plt.imshow(masks[100], cmap= 'gray')\n",
        "plt.show()"
      ]
    },
    {
      "cell_type": "markdown",
      "metadata": {
        "id": "ZUHZnu02b3dg"
      },
      "source": [
        "Checking if GPU is available"
      ]
    },
    {
      "cell_type": "code",
      "execution_count": null,
      "metadata": {
        "colab": {
          "base_uri": "https://localhost:8080/"
        },
        "id": "jzMueuQcLDl6",
        "outputId": "4ce99f1e-2792-4d0c-8dce-867e18bb96ce"
      },
      "outputs": [
        {
          "output_type": "stream",
          "name": "stdout",
          "text": [
            "cuda GPU is available\n"
          ]
        }
      ],
      "source": [
        "#Converting the images into tensor\n",
        "if torch.cuda.is_available():\n",
        "  print(\"cuda GPU is available\")\n",
        "  DEVICE = 'cuda'\n",
        "else:\n",
        "  print(\"GPU is not available\")\n",
        "  DEVICE = 'cpu'"
      ]
    },
    {
      "cell_type": "markdown",
      "metadata": {
        "id": "KjQwb1RmbbYN"
      },
      "source": [
        "Transferring the Images to GPU"
      ]
    },
    {
      "cell_type": "code",
      "execution_count": null,
      "metadata": {
        "id": "eJVyIeuoLFQi"
      },
      "outputs": [],
      "source": [
        "images = torch.tensor(images, device = DEVICE)\n",
        "masks = torch.tensor(masks, device = DEVICE)"
      ]
    },
    {
      "cell_type": "markdown",
      "metadata": {
        "id": "i294zC3vfEM4"
      },
      "source": [
        "Normalize the image"
      ]
    },
    {
      "cell_type": "code",
      "execution_count": null,
      "metadata": {
        "id": "NrUI7Bmfe4Gv"
      },
      "outputs": [],
      "source": [
        "images = images.float()\n",
        "mean = (torch.mean(images))\n",
        "images = images/ mean"
      ]
    },
    {
      "cell_type": "markdown",
      "metadata": {
        "id": "s-FxIoLhgPu_"
      },
      "source": [
        "Reshaping the Image for network to work on"
      ]
    },
    {
      "cell_type": "code",
      "execution_count": null,
      "metadata": {
        "id": "HmCj31wmgYrd"
      },
      "outputs": [],
      "source": [
        "#changing image dimension to that which is accepted by the the model\n",
        "images = images.permute(0,3,1,2)"
      ]
    },
    {
      "cell_type": "code",
      "source": [
        "import torchvision.transforms.functional as TF"
      ],
      "metadata": {
        "id": "eG9q2kErc6vY"
      },
      "execution_count": null,
      "outputs": []
    },
    {
      "cell_type": "markdown",
      "metadata": {
        "id": "VubZxHHwswlJ"
      },
      "source": [
        "#Creating Unet Netowk architecture\n",
        "\n",
        "##Paper: https://arxiv.org/abs/1505.04597\n",
        "There is some changes as compared to orignal Unet architectures to improve the performance"
      ]
    },
    {
      "cell_type": "code",
      "execution_count": null,
      "metadata": {
        "id": "jniFcowksgC2"
      },
      "outputs": [],
      "source": [
        "class unet(nn.Module):\n",
        "\n",
        "  def __init__(self, in_channels, out_channels):     #Features is the dimension of Height and Width of the image\n",
        "    super(unet, self).__init__()\n",
        "    self.conv1_1 = nn.Sequential(\n",
        "            nn.Conv2d(in_channels, 16, 1, 1, 0),\n",
        "            nn.ReLU(inplace=True),\n",
        "            nn.Conv2d(16, 16, 3, 1, 1),\n",
        "            nn.ReLU(inplace=True),\n",
        "        )\n",
        "    self.conv1_2 = nn.Sequential(\n",
        "            nn.Conv2d(in_channels, 16, 3, 1, 1),\n",
        "            nn.ReLU(inplace=True),\n",
        "            nn.Conv2d(16, 16, 3, 1, 1),\n",
        "            nn.ReLU(inplace=True),\n",
        "        )\n",
        "    self.conv1_3 = nn.Sequential(\n",
        "            nn.Conv2d(in_channels, 16, 5, 1, 2),\n",
        "            nn.ReLU(inplace=True),\n",
        "            nn.Conv2d(16, 16, 5, 1, 2),\n",
        "            nn.ReLU(inplace=True),\n",
        "        )\n",
        "    self.conv1_4 = nn.Sequential(\n",
        "            nn.Conv2d(in_channels, 16, 1, 1, 0),\n",
        "            nn.ReLU(inplace=True),\n",
        "        )\n",
        "    self.pool1 = nn.MaxPool2d(kernel_size=2, stride=2)\n",
        "\n",
        "\n",
        "    self.conv2_1 = nn.Sequential(\n",
        "            nn.Conv2d(64, 32, 1, 1, 0),\n",
        "            nn.ReLU(inplace=True),\n",
        "            nn.Conv2d(32, 32, 3, 1, 1),\n",
        "            nn.ReLU(inplace=True),\n",
        "        )\n",
        "    self.conv2_2 = nn.Sequential(\n",
        "            nn.Conv2d(64, 32, 3, 1, 1),\n",
        "            nn.ReLU(inplace=True),\n",
        "            nn.Conv2d(32, 32, 3, 1, 1),\n",
        "            nn.ReLU(inplace=True),\n",
        "        )\n",
        "    self.conv2_3 = nn.Sequential(\n",
        "            nn.Conv2d(64, 32, 5, 1, 2),\n",
        "            nn.ReLU(inplace=True),\n",
        "            nn.Conv2d(32, 32, 5, 1, 2),\n",
        "            nn.ReLU(inplace=True),\n",
        "        )\n",
        "    self.conv2_4 = nn.Sequential(\n",
        "            nn.Conv2d(64, 32, 1, 1, 0),\n",
        "            nn.ReLU(inplace=True),\n",
        "        )\n",
        "    self.pool2 = nn.MaxPool2d(kernel_size=2, stride=2)\n",
        "\n",
        "    self.conv3_1 = nn.Sequential(\n",
        "            nn.Conv2d(128, 64, 1, 1, 0),\n",
        "            nn.ReLU(inplace=True),\n",
        "            nn.Conv2d(64, 64, 3, 1, 1),\n",
        "            nn.ReLU(inplace=True),\n",
        "        )\n",
        "    self.conv3_2 = nn.Sequential(\n",
        "            nn.Conv2d(128, 64, 3, 1, 1),\n",
        "            nn.ReLU(inplace=True),\n",
        "            nn.Conv2d(64, 64, 3, 1, 1),\n",
        "            nn.ReLU(inplace=True),\n",
        "        )\n",
        "    self.conv3_3 = nn.Sequential(\n",
        "            nn.Conv2d(128, 64, 5, 1, 2),\n",
        "            nn.ReLU(inplace=True),\n",
        "            nn.Conv2d(64, 64, 5, 1, 2),\n",
        "            nn.ReLU(inplace=True),\n",
        "        )\n",
        "    self.conv3_4 = nn.Sequential(\n",
        "            nn.Conv2d(128, 64, 1, 1, 0),\n",
        "            nn.ReLU(inplace=True),\n",
        "        )\n",
        "    self.pool3 = nn.MaxPool2d(kernel_size=2, stride=2)\n",
        "\n",
        "    self.conv4_1 = nn.Sequential(\n",
        "            nn.Conv2d(256, 128, 1, 1, 0),\n",
        "            nn.ReLU(inplace=True),\n",
        "            nn.Conv2d(128, 128, 3, 1, 1),\n",
        "            nn.ReLU(inplace=True),\n",
        "        )\n",
        "    self.conv4_2 = nn.Sequential(\n",
        "            nn.Conv2d(256, 128, 3, 1, 1),\n",
        "            nn.ReLU(inplace=True),\n",
        "            nn.Conv2d(128, 128, 3, 1, 1),\n",
        "            nn.ReLU(inplace=True),\n",
        "        )\n",
        "    self.conv4_3 = nn.Sequential(\n",
        "            nn.Conv2d(256, 128, 5, 1, 2),\n",
        "            nn.ReLU(inplace=True),\n",
        "            nn.Conv2d(128, 128, 5, 1, 2),\n",
        "            nn.ReLU(inplace=True),\n",
        "        )\n",
        "    self.conv4_4 = nn.Sequential(\n",
        "            nn.Conv2d(256, 128, 1, 1, 0),\n",
        "            nn.ReLU(inplace=True),\n",
        "        )\n",
        "    self.pool4 = nn.MaxPool2d(kernel_size=2, stride=2)\n",
        "\n",
        "    self.conv5 = nn.Sequential(\n",
        "            nn.Conv2d(512, 1024, 3, 1, 1, bias=False),\n",
        "            nn.BatchNorm2d(1024),\n",
        "            nn.ReLU(inplace=True),\n",
        "            nn.Conv2d(1024, 1024, 3, 1, 1, bias=False),\n",
        "            nn.BatchNorm2d(1024),\n",
        "            nn.ReLU(inplace=True),\n",
        "        )\n",
        "\n",
        "    #upsampling layers\n",
        "    self.up1 = nn.ConvTranspose2d( 1024, 512, kernel_size=2, stride=2, )\n",
        "    self.conv6 = nn.Sequential(\n",
        "            nn.Conv2d(1024, 512, 3, 1, 1, bias=False),\n",
        "            nn.BatchNorm2d(512),\n",
        "            nn.ReLU(inplace=True),\n",
        "            nn.Conv2d(512, 512, 3, 1, 1, bias=False),\n",
        "            nn.BatchNorm2d(512),\n",
        "            nn.ReLU(inplace=True),\n",
        "        )\n",
        "    \n",
        "    self.up2 = nn.ConvTranspose2d( 512, 256, kernel_size=2, stride=2, )\n",
        "    self.conv7 = nn.Sequential(\n",
        "            nn.Conv2d(512, 256, 3, 1, 1, bias=False),\n",
        "            nn.BatchNorm2d(256),\n",
        "            nn.ReLU(inplace=True),\n",
        "            nn.Conv2d(256, 256, 3, 1, 1, bias=False),\n",
        "            nn.BatchNorm2d(256),\n",
        "            nn.ReLU(inplace=True),\n",
        "        )\n",
        "    \n",
        "    self.up3 = nn.ConvTranspose2d( 256, 128, kernel_size=2, stride=2, )\n",
        "    self.conv8 = nn.Sequential(\n",
        "            nn.Conv2d(256, 128, 3, 1, 1, bias=False),\n",
        "            nn.BatchNorm2d(128),\n",
        "            nn.ReLU(inplace=True),\n",
        "            nn.Conv2d(128, 128, 3, 1, 1, bias=False),\n",
        "            nn.BatchNorm2d(128),\n",
        "            nn.ReLU(inplace=True),\n",
        "        )\n",
        "    \n",
        "    self.up4 = nn.ConvTranspose2d( 128, 64, kernel_size=2, stride=2, )\n",
        "    self.conv9 = nn.Sequential(\n",
        "            nn.Conv2d(128, 64, 3, 1, 1, bias=False),\n",
        "            nn.BatchNorm2d(64),\n",
        "            nn.ReLU(inplace=True),\n",
        "            nn.Conv2d(64, 64, 3, 1, 1, bias=False),\n",
        "            nn.BatchNorm2d(64),\n",
        "            nn.ReLU(inplace=True),\n",
        "        )\n",
        "    self.conv_final = nn.Conv2d(64, out_channels, 3, 1, 1)               #output channel is the no of classes\n",
        "    \n",
        "  def forward(self, input):\n",
        "\n",
        "    #Downsampling Part\n",
        "    out1_1 = self.conv1_1(input)   #These are added inception blocks:\n",
        "    out1_2 = self.conv1_2(input)\n",
        "    out1_3 = self.conv1_3(input)\n",
        "    out1_4 = self.conv1_4(input)\n",
        "    \n",
        "    out =  torch.cat((out1_1, out1_2, out1_3, out1_4), dim = 1)\n",
        "\n",
        "    out_1 = out\n",
        "    out = self.pool1(out)       #()\n",
        "\n",
        "    out2_1 = self.conv2_1(out)\n",
        "    out2_2 = self.conv2_2(out)\n",
        "    out2_3 = self.conv2_3(out)\n",
        "    out2_4 = self.conv2_4(out)\n",
        "    out = torch.cat((out2_1, out2_2, out2_3, out2_4), dim = 1)\n",
        "\n",
        "    out_2 = out\n",
        "    out = self.pool2(out)\n",
        "\n",
        "    out3_1 = self.conv3_1(out)\n",
        "    out3_2 = self.conv3_2(out)\n",
        "    out3_3 = self.conv3_3(out)\n",
        "    out3_4 = self.conv3_4(out)\n",
        "    out = torch.cat((out3_1, out3_2, out3_3, out3_4), dim = 1)\n",
        "\n",
        "    out_3 = out\n",
        "    out = self.pool3(out)\n",
        "    \n",
        "    out4_1 = self.conv4_1(out)\n",
        "    out4_2 = self.conv4_2(out)\n",
        "    out4_3 = self.conv4_3(out)\n",
        "    out4_4 = self.conv4_4(out)\n",
        "    out = torch.cat((out4_1, out4_2, out4_3, out4_4), dim = 1)\n",
        "\n",
        "    out_4 = out\n",
        "    out = self.pool4(out)\n",
        "    \n",
        "    out = self.conv5(out)\n",
        "    \n",
        "    \n",
        "    #Upsampling part\n",
        "    out = self.up1(out) \n",
        "    if out_4.shape != out.shape:\n",
        "      out = TF.resize(out, size= [out_4.shape[2], out_4.shape[3]])\n",
        "    out = torch.cat((out_4, out), dim = 1)\n",
        "    out = self.conv6(out)\n",
        "\n",
        "    \n",
        "    out = self.up2(out)  \n",
        "    if out_3.shape != out.shape:\n",
        "      out = TF.resize(out, size= [out_3.shape[2], out_3.shape[3]]) \n",
        "    out = torch.cat((out_3, out), dim = 1)\n",
        "    out = self.conv7(out)\n",
        "\n",
        "    out = self.up3(out) \n",
        "    if out_2.shape != out.shape:\n",
        "      out = TF.resize(out, size= [out_2.shape[2], out_2.shape[3]])    \n",
        "    out = torch.cat((out_2, out), dim = 1)\n",
        "    out = self.conv8(out)\n",
        "    \n",
        "    out = self.up4(out) \n",
        "    if out_1.shape != out.shape:\n",
        "      out = TF.resize(out, size= [out_1.shape[2], out_1.shape[3]])    \n",
        "    out = torch.cat((out_1, out), dim = 1)\n",
        "    out = self.conv9(out)\n",
        "    \n",
        "    out = self.conv_final(out)\n",
        "\n",
        "    return out\n",
        "\n",
        "    #Using transpose convolutions insted of Bilinear interpolation used in orignal paper\n",
        "\n",
        "\n"
      ]
    },
    {
      "cell_type": "code",
      "execution_count": null,
      "metadata": {
        "id": "GNFc9sdxVTe4"
      },
      "outputs": [],
      "source": [
        "model = unet(3,2).to(device = DEVICE)"
      ]
    },
    {
      "cell_type": "code",
      "execution_count": null,
      "metadata": {
        "colab": {
          "base_uri": "https://localhost:8080/"
        },
        "id": "CyJ4-bajD7C1",
        "outputId": "bc03a784-4b37-46dc-d90f-334e57555b91"
      },
      "outputs": [
        {
          "output_type": "execute_result",
          "data": {
            "text/plain": [
              "torch.Size([1, 2, 240, 240])"
            ]
          },
          "metadata": {},
          "execution_count": 51
        }
      ],
      "source": [
        "model(images[0].reshape(1, images[0].shape[0], images[0].shape[1], images[0].shape[2])).shape"
      ]
    },
    {
      "cell_type": "code",
      "execution_count": null,
      "metadata": {
        "id": "ilR7A8_ZWGaM"
      },
      "outputs": [],
      "source": [
        "optimizer = torch.optim.Adam(model.parameters(), lr=0.001)        #update the weights of the model \n",
        "loss_type = torch.nn.CrossEntropyLoss()\n",
        "#loss_type = nn.L1Loss()\n",
        "step_lr = lr_scheduler.StepLR(optimizer, step_size= 100, gamma = 0.9)   #Every 100 epochs our learning rate will be multiplied by gamma"
      ]
    },
    {
      "cell_type": "code",
      "source": [
        "np.unique(masks[70].cpu().numpy())"
      ],
      "metadata": {
        "colab": {
          "base_uri": "https://localhost:8080/"
        },
        "id": "oFAyUCpq5HYG",
        "outputId": "3070eeb6-1608-4cfa-e5fe-939a3a590837"
      },
      "execution_count": null,
      "outputs": [
        {
          "output_type": "execute_result",
          "data": {
            "text/plain": [
              "array([0, 1], dtype=uint8)"
            ]
          },
          "metadata": {},
          "execution_count": 53
        }
      ]
    },
    {
      "cell_type": "code",
      "execution_count": 54,
      "metadata": {
        "colab": {
          "base_uri": "https://localhost:8080/"
        },
        "id": "bGD9XzX6gw_G",
        "outputId": "5f402ea5-6348-40f3-9b68-dd7c91b70eb1"
      },
      "outputs": [
        {
          "output_type": "stream",
          "name": "stdout",
          "text": [
            "Epoch:  1 , loss is:  0.8144357800483704\n",
            "Epoch:  11 , loss is:  0.2941611409187317\n",
            "Epoch:  21 , loss is:  0.1452307105064392\n",
            "Epoch:  31 , loss is:  0.10453078895807266\n",
            "Epoch:  41 , loss is:  0.0894843339920044\n",
            "Epoch:  51 , loss is:  0.06422480195760727\n",
            "Epoch:  61 , loss is:  0.06801410764455795\n",
            "Epoch:  71 , loss is:  0.06213550642132759\n",
            "Epoch:  81 , loss is:  0.061299100518226624\n",
            "Epoch:  91 , loss is:  0.0600113607943058\n",
            "Epoch:  101 , loss is:  0.045223161578178406\n",
            "Epoch:  111 , loss is:  0.05819855257868767\n",
            "Epoch:  121 , loss is:  0.048031702637672424\n",
            "Epoch:  131 , loss is:  0.02991309016942978\n",
            "Epoch:  141 , loss is:  0.030863892287015915\n",
            "Epoch:  151 , loss is:  0.03275875374674797\n",
            "Epoch:  161 , loss is:  0.03184833750128746\n",
            "Epoch:  171 , loss is:  0.027065478265285492\n",
            "Epoch:  181 , loss is:  0.023712052032351494\n",
            "Epoch:  191 , loss is:  0.028816549107432365\n",
            "Epoch:  201 , loss is:  0.023386653512716293\n",
            "Epoch:  211 , loss is:  0.03555310517549515\n",
            "Epoch:  221 , loss is:  0.022780826315283775\n",
            "Epoch:  231 , loss is:  0.023876361548900604\n",
            "Epoch:  241 , loss is:  0.020903287455439568\n",
            "Epoch:  251 , loss is:  0.021459683775901794\n",
            "Epoch:  261 , loss is:  0.020898504182696342\n",
            "Epoch:  271 , loss is:  0.023580428212881088\n",
            "Epoch:  281 , loss is:  0.022149506956338882\n",
            "Epoch:  291 , loss is:  0.021734490990638733\n",
            "Epoch:  301 , loss is:  0.01765124686062336\n",
            "Epoch:  311 , loss is:  0.018196020275354385\n",
            "Epoch:  321 , loss is:  0.0209564957767725\n",
            "Epoch:  331 , loss is:  0.016798971220850945\n",
            "Epoch:  341 , loss is:  0.02000284567475319\n",
            "Epoch:  351 , loss is:  0.017180103808641434\n",
            "Epoch:  361 , loss is:  0.017474019899964333\n",
            "Epoch:  371 , loss is:  0.015836020931601524\n",
            "Epoch:  381 , loss is:  0.01416858285665512\n",
            "Epoch:  391 , loss is:  0.020095638930797577\n",
            "Epoch:  401 , loss is:  0.019802648574113846\n",
            "Epoch:  411 , loss is:  0.0160039272159338\n",
            "Epoch:  421 , loss is:  0.015189355239272118\n",
            "Epoch:  431 , loss is:  0.01534553337842226\n",
            "Epoch:  441 , loss is:  0.014814198948442936\n",
            "Epoch:  451 , loss is:  0.014941747300326824\n",
            "Epoch:  461 , loss is:  0.013814493082463741\n",
            "Epoch:  471 , loss is:  0.013829695992171764\n",
            "Epoch:  481 , loss is:  0.01619698479771614\n",
            "Epoch:  491 , loss is:  0.015295369550585747\n",
            "Epoch:  501 , loss is:  0.014134681783616543\n",
            "Epoch:  511 , loss is:  0.017396634444594383\n",
            "Epoch:  521 , loss is:  0.015042535029351711\n",
            "Epoch:  531 , loss is:  0.012629721313714981\n",
            "Epoch:  541 , loss is:  0.01347255427390337\n",
            "Epoch:  551 , loss is:  0.013334223069250584\n",
            "Epoch:  561 , loss is:  0.011312161572277546\n",
            "Epoch:  571 , loss is:  0.015586125664412975\n",
            "Epoch:  581 , loss is:  0.01131346169859171\n",
            "Epoch:  591 , loss is:  0.011300469748675823\n",
            "Epoch:  601 , loss is:  0.012350336648523808\n",
            "Epoch:  611 , loss is:  0.012118710204958916\n",
            "Epoch:  621 , loss is:  0.011281369253993034\n",
            "Epoch:  631 , loss is:  0.013460524380207062\n",
            "Epoch:  641 , loss is:  0.013482821173965931\n",
            "Epoch:  651 , loss is:  0.0124392444267869\n",
            "Epoch:  661 , loss is:  0.010642506182193756\n",
            "Epoch:  671 , loss is:  0.010336115024983883\n",
            "Epoch:  681 , loss is:  0.01084341574460268\n",
            "Epoch:  691 , loss is:  0.012035522609949112\n",
            "Epoch:  701 , loss is:  0.013640434481203556\n",
            "Epoch:  711 , loss is:  0.011155094020068645\n",
            "Epoch:  721 , loss is:  0.010037709958851337\n",
            "Epoch:  731 , loss is:  0.010801678523421288\n",
            "Epoch:  741 , loss is:  0.01006394810974598\n",
            "Epoch:  751 , loss is:  0.010048518888652325\n",
            "Epoch:  761 , loss is:  0.010053420439362526\n",
            "Epoch:  771 , loss is:  0.014328548684716225\n",
            "Epoch:  781 , loss is:  0.01103359367698431\n",
            "Epoch:  791 , loss is:  0.011189623735845089\n",
            "Epoch:  801 , loss is:  0.009997360408306122\n",
            "Epoch:  811 , loss is:  0.012292809784412384\n",
            "Epoch:  821 , loss is:  0.011067706160247326\n",
            "Epoch:  831 , loss is:  0.011708542704582214\n",
            "Epoch:  841 , loss is:  0.011740123853087425\n",
            "Epoch:  851 , loss is:  0.00827859714627266\n",
            "Epoch:  861 , loss is:  0.010433669202029705\n",
            "Epoch:  871 , loss is:  0.009531885385513306\n",
            "Epoch:  881 , loss is:  0.009542815387248993\n",
            "Epoch:  891 , loss is:  0.00847521424293518\n",
            "Epoch:  901 , loss is:  0.009546945802867413\n",
            "Epoch:  911 , loss is:  0.009172472171485424\n",
            "Epoch:  921 , loss is:  0.010157361626625061\n",
            "Epoch:  931 , loss is:  0.010789035819470882\n",
            "Epoch:  941 , loss is:  0.008829962462186813\n",
            "Epoch:  951 , loss is:  0.009273535571992397\n",
            "Epoch:  961 , loss is:  0.010404846630990505\n",
            "Epoch:  971 , loss is:  0.009008207358419895\n",
            "Epoch:  981 , loss is:  0.008531197905540466\n",
            "Epoch:  991 , loss is:  0.012274837121367455\n"
          ]
        }
      ],
      "source": [
        "#Model Training\n",
        "CUDA_LAUNCH_BLOCKING=1\n",
        "loss_graph = []\n",
        "num_epochs = 1000\n",
        "num_train = images.shape[0]\n",
        "batch_size = 20\n",
        "for i in range(num_epochs):\n",
        "  random_no = torch.randint(0, num_train, (batch_size,))\n",
        "  x_batch = images[random_no]\n",
        "  y_batch = masks[random_no]\n",
        "\n",
        "  model.train()\n",
        "  optimizer.zero_grad()\n",
        "  y_pred = model(x_batch)\n",
        "  y_pred = y_pred.permute(0,2,3,1)\n",
        "  y_pred = y_pred.reshape(-1,2)\n",
        "  y_batch = y_batch.reshape(-1)\n",
        "  \n",
        "  loss = loss_type(y_pred, y_batch)\n",
        "  loss.backward()\n",
        "  optimizer.step()\n",
        "\n",
        "  #schedular step\n",
        "  #step_lr.step()\n",
        "\n",
        "  loss_graph.append(loss.cpu().item())\n",
        "  if i%10==0:\n",
        "    print(\"Epoch: \", i+1, \", loss is: \", loss.cpu().item())\n",
        "    #print(\"Learning rate is: \", optimizer.state_dict()['param_groups'][0]['lr'])"
      ]
    },
    {
      "cell_type": "code",
      "execution_count": 55,
      "metadata": {
        "colab": {
          "base_uri": "https://localhost:8080/",
          "height": 265
        },
        "id": "dnt9L7Hh45G-",
        "outputId": "8623aea2-20e9-4992-b9e1-177bcc6d67aa"
      },
      "outputs": [
        {
          "output_type": "display_data",
          "data": {
            "text/plain": [
              "<Figure size 432x288 with 1 Axes>"
            ],
            "image/png": "[encoded data removed]"
          },
          "metadata": {
            "needs_background": "light"
          }
        }
      ],
      "source": [
        "#Loss Graph\n",
        "plt.plot(loss_graph)\n",
        "plt.show()"
      ]
    },
    {
      "cell_type": "markdown",
      "metadata": {
        "id": "cwiQn26VEwQu"
      },
      "source": [
        "#Final result from the Trained Model: "
      ]
    },
    {
      "cell_type": "code",
      "execution_count": 57,
      "metadata": {
        "colab": {
          "base_uri": "https://localhost:8080/",
          "height": 556
        },
        "id": "8ogDB2Bxp-Sb",
        "outputId": "9b876285-6fd3-4b71-e36a-eb7c23553c73"
      },
      "outputs": [
        {
          "output_type": "stream",
          "name": "stdout",
          "text": [
            "Predicted segmentation mask\n"
          ]
        },
        {
          "output_type": "display_data",
          "data": {
            "text/plain": [
              "<Figure size 432x288 with 1 Axes>"
            ],
            "image/png": "[encoded data removed]"
          },
          "metadata": {
            "needs_background": "light"
          }
        },
        {
          "output_type": "stream",
          "name": "stdout",
          "text": [
            "Actual mask\n"
          ]
        },
        {
          "output_type": "display_data",
          "data": {
            "text/plain": [
              "<Figure size 432x288 with 1 Axes>"
            ],
            "image/png": "[encoded data removed]"
          },
          "metadata": {
            "needs_background": "light"
          }
        }
      ],
      "source": [
        "y = model(images[111].reshape(1,images.shape[1], images.shape[2], images.shape[3]))\n",
        "y = y.argmax(axis= 1)\n",
        "y = y.reshape(240,240)\n",
        "plt.figure(3)\n",
        "print(\"Predicted segmentation mask\")\n",
        "plt.imshow(np.array(y.detach().cpu().numpy()), cmap= 'gray')\n",
        "plt.show()\n",
        "\n",
        "plt.figure(4)\n",
        "print(\"Actual mask\")\n",
        "plt.imshow(np.array(masks[111].clone().cpu()), cmap= 'gray')\n",
        "plt.show()"
      ]
    },
    {
      "cell_type": "markdown",
      "metadata": {
        "id": "GslVd4dQE52O"
      },
      "source": [
        "#Saving the weights of the trined Model:\n"
      ]
    },
    {
      "cell_type": "code",
      "execution_count": 61,
      "metadata": {
        "colab": {
          "base_uri": "https://localhost:8080/"
        },
        "id": "5g_315VAFEdZ",
        "outputId": "89118f9a-0b90-4046-f9d7-679b379e716e"
      },
      "outputs": [
        {
          "output_type": "stream",
          "name": "stdout",
          "text": [
            "Model Saved \n"
          ]
        }
      ],
      "source": [
        "save_model = {'state_dict': model.state_dict(), 'optimizer': optimizer.state_dict()}\n",
        "path_save = '\\content\\drive\\MyDrive\\DL\\model_unet.pth'\n",
        "torch.save(save_model, path_save)\n",
        "print(\"Model Saved \")"
      ]
    },
    {
      "cell_type": "markdown",
      "metadata": {
        "id": "phQ6rysJI5Ke"
      },
      "source": [
        "#Loading the trained model and using it to detect masks"
      ]
    },
    {
      "cell_type": "code",
      "execution_count": 62,
      "metadata": {
        "colab": {
          "base_uri": "https://localhost:8080/"
        },
        "id": "L_39COKgI26c",
        "outputId": "47b1d91b-d539-4916-dc4a-87db14de7577"
      },
      "outputs": [
        {
          "output_type": "execute_result",
          "data": {
            "text/plain": [
              "<All keys matched successfully>"
            ]
          },
          "metadata": {},
          "execution_count": 62
        }
      ],
      "source": [
        "load_path = '/content/drive/MyDrive/DL/model_unet.pth'\n",
        "load = torch.load(load_path)\n",
        "model_load = unet(3, 2).to(device = DEVICE)\n",
        "model_load.load_state_dict(load['state_dict'])"
      ]
    },
    {
      "cell_type": "code",
      "execution_count": 70,
      "metadata": {
        "colab": {
          "base_uri": "https://localhost:8080/",
          "height": 556
        },
        "id": "GBwPfDiuO6i7",
        "outputId": "c5277bf2-5635-49dd-ce3a-c7f77f372cd0"
      },
      "outputs": [
        {
          "output_type": "stream",
          "name": "stdout",
          "text": [
            "Predicted segmentation mask\n"
          ]
        },
        {
          "output_type": "display_data",
          "data": {
            "text/plain": [
              "<Figure size 432x288 with 1 Axes>"
            ],
            "image/png": "[encoded data removed]"
          },
          "metadata": {
            "needs_background": "light"
          }
        },
        {
          "output_type": "stream",
          "name": "stdout",
          "text": [
            "Actual mask\n"
          ]
        },
        {
          "output_type": "display_data",
          "data": {
            "text/plain": [
              "<Figure size 432x288 with 1 Axes>"
            ],
            "image/png": "[encoded data removed]"
          },
          "metadata": {
            "needs_background": "light"
          }
        }
      ],
      "source": [
        "y = model_load(images[59].reshape(1,images.shape[1], images.shape[2], images.shape[3]))\n",
        "y = y.argmax(axis= 1)\n",
        "y = y.reshape(240,240)\n",
        "plt.figure(3)\n",
        "print(\"Predicted segmentation mask\")\n",
        "plt.imshow(np.array(y.detach().cpu().numpy()), cmap='gray')\n",
        "plt.show()\n",
        "\n",
        "plt.figure(4)\n",
        "print(\"Actual mask\")\n",
        "plt.imshow(np.array(masks[59].clone().cpu()), cmap='gray')\n",
        "plt.show()"
      ]
    },
    {
      "cell_type": "markdown",
      "metadata": {
        "id": "RhVUo_3rFYS2"
      },
      "source": [
        "#Training the model using pytorch dataloader and other pytorch tools"
      ]
    },
    {
      "cell_type": "code",
      "execution_count": 64,
      "metadata": {
        "id": "HFG9rymGGNXZ"
      },
      "outputs": [],
      "source": [
        "from torch.utils.data import Dataset, DataLoader     #Importing Dataloader"
      ]
    },
    {
      "cell_type": "code",
      "execution_count": 65,
      "metadata": {
        "id": "68r-RvdSFhTD"
      },
      "outputs": [],
      "source": [
        "class CustomImageDataset(Dataset):    #Making the class that takes the index and gives the images and it's corrosponding masks\n",
        "    def __init__(self, images, masks):\n",
        "        self.images = images\n",
        "        self.masks = masks\n",
        "\n",
        "    def __len__(self):\n",
        "        return images.shape[0]\n",
        "\n",
        "    def __getitem__(self, idx):\n",
        "        x_batch = self.images[idx]\n",
        "        y_batch = self.masks[idx]\n",
        "        return x_batch, y_batch"
      ]
    },
    {
      "cell_type": "code",
      "execution_count": 66,
      "metadata": {
        "id": "_F7EatvxFpMv"
      },
      "outputs": [],
      "source": [
        "data = CustomImageDataset(images, masks)  #data is the object for the class that takes index and gives data and it's mask"
      ]
    },
    {
      "cell_type": "code",
      "execution_count": 67,
      "metadata": {
        "id": "c9rh2D-pFvyW"
      },
      "outputs": [],
      "source": [
        "batchsize = 10\n",
        "dataloader = DataLoader(dataset= data, batch_size= batchsize, shuffle= True)"
      ]
    },
    {
      "cell_type": "code",
      "execution_count": 68,
      "metadata": {
        "id": "aBakTIWOF0wa"
      },
      "outputs": [],
      "source": [
        "dataiter = iter(dataloader)\n",
        "data = dataiter.next()\n",
        "x,y = data"
      ]
    },
    {
      "cell_type": "code",
      "execution_count": 69,
      "metadata": {
        "colab": {
          "base_uri": "https://localhost:8080/"
        },
        "id": "RA7Zk_K5GWpd",
        "outputId": "dd2294b9-c5aa-4059-f37e-c51a5d543a39"
      },
      "outputs": [
        {
          "output_type": "stream",
          "name": "stdout",
          "text": [
            "torch.Size([10, 3, 240, 240])\n",
            "torch.Size([10, 240, 240])\n"
          ]
        }
      ],
      "source": [
        "print(x.shape)\n",
        "print(y.shape)"
      ]
    },
    {
      "cell_type": "markdown",
      "metadata": {
        "id": "9NF7KQmiGt46"
      },
      "source": [
        "##Training Network"
      ]
    },
    {
      "cell_type": "code",
      "execution_count": null,
      "metadata": {
        "colab": {
          "base_uri": "https://localhost:8080/"
        },
        "id": "peRtuBthGbbB",
        "outputId": "54c19388-580d-4bae-bb26-f1bfca8697a4"
      },
      "outputs": [
        {
          "output_type": "stream",
          "name": "stdout",
          "text": [
            "Epoch:  1 , loss is:  0.023185502737760544\n",
            "Epoch:  2 , loss is:  0.013393141329288483\n",
            "Epoch:  3 , loss is:  0.010374952107667923\n",
            "Epoch:  4 , loss is:  0.010474203154444695\n",
            "Epoch:  5 , loss is:  0.01356545276939869\n",
            "Epoch:  6 , loss is:  0.009080937132239342\n",
            "Epoch:  7 , loss is:  0.008351595140993595\n",
            "Epoch:  8 , loss is:  0.017220960929989815\n"
          ]
        }
      ],
      "source": [
        "#Model Training\n",
        "loss_graph = []\n",
        "num_epochs = 8   #Here each epoch means that at each epoch the model will train once over the entire datset using sgd on small batches\n",
        "\n",
        "model.train()\n",
        "for j in range(num_epochs):\n",
        "\n",
        "  for i, (x_batch, y_batch) in enumerate(dataloader):\n",
        "\n",
        "    optimizer.zero_grad()\n",
        "    y_pred = model(x_batch)\n",
        "    y_pred = y_pred.permute(0,2,3,1)\n",
        "    y_pred = y_pred.reshape(-1,2)\n",
        "    y_batch = y_batch.reshape(-1)\n",
        "  \n",
        "    loss = loss_type(y_pred, y_batch)\n",
        "    loss.backward()\n",
        "    optimizer.step()\n",
        "\n",
        "    #schedular step\n",
        "    #step_lr.step()\n",
        "\n",
        "  print(\"Epoch: \", j+1, \", loss is: \", loss.cpu().item())\n",
        "  #print(\"Learning rate is: \", optimizer.state_dict()['param_groups'][0]['lr'])"
      ]
    }
  ],
  "metadata": {
    "accelerator": "GPU",
    "colab": {
      "collapsed_sections": [],
      "machine_shape": "hm",
      "name": "Image_Segmentation_Inception_Unet.ipynb",
      "provenance": []
    },
    "kernelspec": {
      "display_name": "Python 3",
      "name": "python3"
    },
    "language_info": {
      "name": "python"
    }
  },
  "nbformat": 4,
  "nbformat_minor": 0
}