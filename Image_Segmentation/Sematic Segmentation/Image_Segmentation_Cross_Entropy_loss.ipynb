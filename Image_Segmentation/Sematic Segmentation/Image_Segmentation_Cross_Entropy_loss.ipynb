{
  "cells": [
    {
      "cell_type": "markdown",
      "metadata": {
        "id": "EqF695iDc6ey"
      },
      "source": [
        "#Importing essential Libraries"
      ]
    },
    {
      "cell_type": "code",
      "execution_count": 1,
      "metadata": {
        "id": "V4juIs0OrJk_"
      },
      "outputs": [],
      "source": [
        "import torch\n",
        "import torch.nn as nn\n",
        "import torchvision.transforms.functional as TF\n",
        "from torch.optim import lr_scheduler"
      ]
    },
    {
      "cell_type": "markdown",
      "metadata": {
        "id": "cJdIipeFc0JX"
      },
      "source": [
        "#Loading Data"
      ]
    },
    {
      "cell_type": "code",
      "execution_count": 2,
      "metadata": {
        "id": "xKCwiiXBc5HA"
      },
      "outputs": [],
      "source": [
        "%load_ext autoreload\n",
        "%autoreload 2"
      ]
    },
    {
      "cell_type": "code",
      "execution_count": 3,
      "metadata": {
        "colab": {
          "base_uri": "https://localhost:8080/"
        },
        "id": "I0BcfvQ3792l",
        "outputId": "97629338-453b-4e9a-d001-f185cd11758b"
      },
      "outputs": [
        {
          "output_type": "stream",
          "name": "stdout",
          "text": [
            "Mounted at /content/drive\n"
          ]
        }
      ],
      "source": [
        "from google.colab import drive\n",
        "\n",
        "drive.mount(\"/content/drive\")"
      ]
    },
    {
      "cell_type": "code",
      "execution_count": 4,
      "metadata": {
        "colab": {
          "base_uri": "https://localhost:8080/"
        },
        "id": "C0DcHzEk7-V0",
        "outputId": "a85aeb62-6743-4347-abba-078fb152fa18"
      },
      "outputs": [
        {
          "output_type": "stream",
          "name": "stdout",
          "text": [
            "Loading Training Images...\n",
            "1000\n",
            "2000\n",
            "3000\n",
            "4000\n",
            "5000\n",
            "Loading Training Masks...\n",
            "1000\n",
            "2000\n",
            "3000\n",
            "4000\n",
            "5000\n",
            "Training images shape:  (5088, 220, 220, 3)\n",
            "Training Masks shape:  (5088, 220, 220)\n"
          ]
        }
      ],
      "source": [
        "from matplotlib import image\n",
        "import numpy as np\n",
        "import matplotlib.pyplot as plt\n",
        "import os\n",
        "import cv2\n",
        "import imageio\n",
        "\n",
        "image_path = '/content/drive/MyDrive/DL/Datasets/train'\n",
        "\n",
        "image_data = []\n",
        "image_masks = []\n",
        "\n",
        "#Loading images\n",
        "print(\"Loading Training Images...\")\n",
        "\n",
        "filenames = [os.path.join(image_path, img) for img in os.listdir(image_path)]\n",
        "filenames.sort()\n",
        "count=0\n",
        "for img in filenames:\n",
        "  count += 1\n",
        "  image_arr = cv2.imread(img)  #One image of dim (W, H, 3)\n",
        "\n",
        "  #Resizing\n",
        "  new_image = cv2.resize(image_arr, (220,220))  \n",
        "  new_image = cv2.cvtColor(new_image, cv2.COLOR_BGR2RGB) \n",
        "  image_data.append(new_image)\n",
        "  if count%1000 ==0:\n",
        "    print(count)\n",
        "  \n",
        "images = np.array(image_data)\n",
        "\n",
        "\n",
        "\n",
        "#Loading Masks\n",
        "image_mask_path = '/content/drive/MyDrive/DL/Datasets/train_masks'\n",
        "print(\"Loading Training Masks...\")\n",
        "filenames = [os.path.join(image_mask_path, img) for img in os.listdir(image_mask_path)]\n",
        "filenames.sort()\n",
        "count = 0\n",
        "for img in filenames:\n",
        "  count += 1\n",
        "  image_arr = imageio.imread(img)  #One image of dim (W, H, 3)\n",
        "  \n",
        "  #Resizing\n",
        "  new_image = cv2.resize(image_arr, (220,220))  \n",
        "  image_masks.append(new_image)\n",
        "  if count%1000 ==0:\n",
        "    print(count) \n",
        "  \n",
        "images = np.array(image_data)\n",
        "masks = np.array(image_masks)\n",
        "\n",
        "print(\"Training images shape: \" ,images.shape)     \n",
        "print(\"Training Masks shape: \",masks.shape)      #Labels are grayscale Images"
      ]
    },
    {
      "cell_type": "code",
      "source": [
        "masks[masks<100] = 0\n",
        "masks[masks>=100] = 1.0\n"
      ],
      "metadata": {
        "id": "770M4vr16Q2w"
      },
      "execution_count": 5,
      "outputs": []
    },
    {
      "cell_type": "code",
      "source": [
        "np.save('images.npy', images)\n",
        "np.save('masks.npy', masks)"
      ],
      "metadata": {
        "id": "BkIlka_0nIV9"
      },
      "execution_count": 7,
      "outputs": []
    },
    {
      "cell_type": "markdown",
      "metadata": {
        "id": "nyD7KZp9LNEE"
      },
      "source": [
        "Visualizing some images:"
      ]
    },
    {
      "cell_type": "code",
      "execution_count": 8,
      "metadata": {
        "colab": {
          "base_uri": "https://localhost:8080/",
          "height": 557
        },
        "id": "H3V1ySK-LL-p",
        "outputId": "8e2d1f7d-5af0-4e58-8d61-1f1a7ed271ca"
      },
      "outputs": [
        {
          "output_type": "stream",
          "name": "stdout",
          "text": [
            "Image\n"
          ]
        },
        {
          "output_type": "display_data",
          "data": {
            "text/plain": [
              "<Figure size 432x288 with 1 Axes>"
            ],
            "image/png": "[encoded data removed]"
          },
          "metadata": {
            "needs_background": "light"
          }
        },
        {
          "output_type": "stream",
          "name": "stdout",
          "text": [
            "It's Mask\n"
          ]
        },
        {
          "output_type": "display_data",
          "data": {
            "text/plain": [
              "<Figure size 432x288 with 1 Axes>"
            ],
            "image/png": "[encoded data removed]"
          },
          "metadata": {
            "needs_background": "light"
          }
        }
      ],
      "source": [
        "plt.figure(1)\n",
        "print(\"Image\")\n",
        "plt.imshow(images[100], cmap= 'gray')\n",
        "plt.show()\n",
        "plt.figure(2)\n",
        "print(\"It's Mask\")\n",
        "plt.imshow(masks[100], cmap= 'gray')\n",
        "plt.show()"
      ]
    },
    {
      "cell_type": "markdown",
      "metadata": {
        "id": "ZUHZnu02b3dg"
      },
      "source": [
        "Checking if GPU is available"
      ]
    },
    {
      "cell_type": "code",
      "execution_count": 9,
      "metadata": {
        "colab": {
          "base_uri": "https://localhost:8080/"
        },
        "id": "jzMueuQcLDl6",
        "outputId": "f5c2ae7d-d148-4cb5-b35d-e6d7c8bc1e1f"
      },
      "outputs": [
        {
          "output_type": "stream",
          "name": "stdout",
          "text": [
            "cuda GPU is available\n"
          ]
        }
      ],
      "source": [
        "#Converting the images into tensor\n",
        "if torch.cuda.is_available():\n",
        "  print(\"cuda GPU is available\")\n",
        "  DEVICE = 'cuda'\n",
        "else:\n",
        "  print(\"GPU is not available\")\n",
        "  DEVICE = 'cpu'"
      ]
    },
    {
      "cell_type": "markdown",
      "metadata": {
        "id": "KjQwb1RmbbYN"
      },
      "source": [
        "Transferring the Images to GPU"
      ]
    },
    {
      "cell_type": "code",
      "execution_count": 10,
      "metadata": {
        "id": "eJVyIeuoLFQi"
      },
      "outputs": [],
      "source": [
        "images = torch.tensor(images, device = DEVICE)\n",
        "masks = torch.tensor(masks, device = DEVICE)"
      ]
    },
    {
      "cell_type": "markdown",
      "metadata": {
        "id": "i294zC3vfEM4"
      },
      "source": [
        "Normalize the image"
      ]
    },
    {
      "cell_type": "code",
      "execution_count": 11,
      "metadata": {
        "id": "NrUI7Bmfe4Gv"
      },
      "outputs": [],
      "source": [
        "images = images.float()\n",
        "mean = (torch.mean(images))\n",
        "images = images/ mean"
      ]
    },
    {
      "cell_type": "markdown",
      "metadata": {
        "id": "s-FxIoLhgPu_"
      },
      "source": [
        "Reshaping the Image for network to work on"
      ]
    },
    {
      "cell_type": "code",
      "execution_count": 12,
      "metadata": {
        "id": "HmCj31wmgYrd"
      },
      "outputs": [],
      "source": [
        "#changing image dimension to that which is accepted by the the model\n",
        "images = images.permute(0,3,1,2)"
      ]
    },
    {
      "cell_type": "code",
      "source": [
        "x = torch.ones(10,50,50,50, device= DEVICE)"
      ],
      "metadata": {
        "id": "QLVFLvnuZk52"
      },
      "execution_count": 10,
      "outputs": []
    },
    {
      "cell_type": "code",
      "source": [
        "x.shape"
      ],
      "metadata": {
        "colab": {
          "base_uri": "https://localhost:8080/"
        },
        "id": "iyoNkqK0bcJy",
        "outputId": "cf51da22-eb07-47f3-d7aa-b006a4841a1e"
      },
      "execution_count": 11,
      "outputs": [
        {
          "output_type": "execute_result",
          "data": {
            "text/plain": [
              "torch.Size([10, 50, 50, 50])"
            ]
          },
          "metadata": {},
          "execution_count": 11
        }
      ]
    },
    {
      "cell_type": "code",
      "source": [
        "import torchvision.transforms.functional as TF\n",
        "y = TF.resize(x, size=[55,52])"
      ],
      "metadata": {
        "id": "leEDLeYcbeam"
      },
      "execution_count": 12,
      "outputs": []
    },
    {
      "cell_type": "code",
      "source": [
        "y.shape"
      ],
      "metadata": {
        "id": "MKxw0q5scMyW"
      },
      "execution_count": null,
      "outputs": []
    },
    {
      "cell_type": "code",
      "source": [
        "y[0,0,54]"
      ],
      "metadata": {
        "id": "U8_YQXpDcReF"
      },
      "execution_count": null,
      "outputs": []
    },
    {
      "cell_type": "code",
      "source": [
        "import torchvision.transforms.functional as TF"
      ],
      "metadata": {
        "id": "eG9q2kErc6vY"
      },
      "execution_count": 13,
      "outputs": []
    },
    {
      "cell_type": "markdown",
      "metadata": {
        "id": "VubZxHHwswlJ"
      },
      "source": [
        "#Creating Unet Netowk architecture\n",
        "\n",
        "##Paper: https://arxiv.org/abs/1505.04597\n",
        "There is some changes as compared to orignal Unet architectures to improve the performance"
      ]
    },
    {
      "cell_type": "code",
      "execution_count": 14,
      "metadata": {
        "id": "jniFcowksgC2"
      },
      "outputs": [],
      "source": [
        "class unet(nn.Module):\n",
        "\n",
        "  def __init__(self, in_channels, out_channels):     #Features is the dimension of Height and Width of the image\n",
        "    super(unet, self).__init__()\n",
        "    self.conv1 = nn.Sequential(\n",
        "            nn.Conv2d(in_channels, 64, 3, 1, 1, bias=False),\n",
        "            nn.BatchNorm2d(64),\n",
        "            nn.ReLU(inplace=True),\n",
        "            nn.Conv2d(64, 64, 3, 1, 1, bias=False),\n",
        "            nn.BatchNorm2d(64),\n",
        "            nn.ReLU(inplace=True),\n",
        "        )\n",
        "    self.pool1 = nn.MaxPool2d(kernel_size=2, stride=2)\n",
        "\n",
        "    self.conv2 = nn.Sequential(\n",
        "            nn.Conv2d(64, 128, 3, 1, 1, bias=False),\n",
        "            nn.BatchNorm2d(128),\n",
        "            nn.ReLU(inplace=True),\n",
        "            nn.Conv2d(128, 128, 3, 1, 1, bias=False),\n",
        "            nn.BatchNorm2d(128),\n",
        "            nn.ReLU(inplace=True),\n",
        "        )\n",
        "    self.pool2 = nn.MaxPool2d(kernel_size=2, stride=2)\n",
        "\n",
        "    self.conv3 = nn.Sequential(\n",
        "            nn.Conv2d(128, 256, 3, 1, 1, bias=False),\n",
        "            nn.BatchNorm2d(256),\n",
        "            nn.ReLU(inplace=True),\n",
        "            nn.Conv2d(256, 256, 3, 1, 1, bias=False),\n",
        "            nn.BatchNorm2d(256),\n",
        "            nn.ReLU(inplace=True),\n",
        "        )\n",
        "    self.pool3 = nn.MaxPool2d(kernel_size=2, stride=2)\n",
        "\n",
        "    self.conv4 = nn.Sequential(\n",
        "            nn.Conv2d(256, 512, 3, 1, 1, bias=False),\n",
        "            nn.BatchNorm2d(512),\n",
        "            nn.ReLU(inplace=True),\n",
        "            nn.Conv2d(512, 512, 3, 1, 1, bias=False),\n",
        "            nn.BatchNorm2d(512),\n",
        "            nn.ReLU(inplace=True),\n",
        "        )\n",
        "    self.pool4 = nn.MaxPool2d(kernel_size=2, stride=2)\n",
        "\n",
        "    self.conv5 = nn.Sequential(\n",
        "            nn.Conv2d(512, 1024, 3, 1, 1, bias=False),\n",
        "            nn.BatchNorm2d(1024),\n",
        "            nn.ReLU(inplace=True),\n",
        "            nn.Conv2d(1024, 1024, 3, 1, 1, bias=False),\n",
        "            nn.BatchNorm2d(1024),\n",
        "            nn.ReLU(inplace=True),\n",
        "        )\n",
        "\n",
        "    #upsampling layers\n",
        "    self.up1 = nn.ConvTranspose2d( 1024, 512, kernel_size=2, stride=2, )\n",
        "    self.conv6 = nn.Sequential(\n",
        "            nn.Conv2d(1024, 512, 3, 1, 1, bias=False),\n",
        "            nn.BatchNorm2d(512),\n",
        "            nn.ReLU(inplace=True),\n",
        "            nn.Conv2d(512, 512, 3, 1, 1, bias=False),\n",
        "            nn.BatchNorm2d(512),\n",
        "            nn.ReLU(inplace=True),\n",
        "        )\n",
        "    \n",
        "    self.up2 = nn.ConvTranspose2d( 512, 256, kernel_size=2, stride=2, )\n",
        "    self.conv7 = nn.Sequential(\n",
        "            nn.Conv2d(512, 256, 3, 1, 1, bias=False),\n",
        "            nn.BatchNorm2d(256),\n",
        "            nn.ReLU(inplace=True),\n",
        "            nn.Conv2d(256, 256, 3, 1, 1, bias=False),\n",
        "            nn.BatchNorm2d(256),\n",
        "            nn.ReLU(inplace=True),\n",
        "        )\n",
        "    \n",
        "    self.up3 = nn.ConvTranspose2d( 256, 128, kernel_size=2, stride=2, )\n",
        "    self.conv8 = nn.Sequential(\n",
        "            nn.Conv2d(256, 128, 3, 1, 1, bias=False),\n",
        "            nn.BatchNorm2d(128),\n",
        "            nn.ReLU(inplace=True),\n",
        "            nn.Conv2d(128, 128, 3, 1, 1, bias=False),\n",
        "            nn.BatchNorm2d(128),\n",
        "            nn.ReLU(inplace=True),\n",
        "        )\n",
        "    \n",
        "    self.up4 = nn.ConvTranspose2d( 128, 64, kernel_size=2, stride=2, )\n",
        "    self.conv9 = nn.Sequential(\n",
        "            nn.Conv2d(128, 64, 3, 1, 1, bias=False),\n",
        "            nn.BatchNorm2d(64),\n",
        "            nn.ReLU(inplace=True),\n",
        "            nn.Conv2d(64, 64, 3, 1, 1, bias=False),\n",
        "            nn.BatchNorm2d(64),\n",
        "            nn.ReLU(inplace=True),\n",
        "        )\n",
        "    self.conv_final = nn.Conv2d(64, out_channels, 3, 1, 1)               #output channel is the no of classes\n",
        "    \n",
        "  def forward(self, input):\n",
        "\n",
        "    #Downsampling Part\n",
        "    out = self.conv1(input)\n",
        "    out_1 = out\n",
        "    out = self.pool1(out)       #()\n",
        "\n",
        "    out = self.conv2(out)\n",
        "    out_2 = out\n",
        "    out = self.pool2(out)\n",
        "\n",
        "    out = self.conv3(out)\n",
        "    out_3 = out\n",
        "    out = self.pool3(out)\n",
        "    \n",
        "    out = self.conv4(out)\n",
        "    out_4 = out\n",
        "    out = self.pool4(out)\n",
        "    \n",
        "    out = self.conv5(out)\n",
        "    \n",
        "    #Upsampling part\n",
        "    out = self.up1(out) \n",
        "    if out_4.shape != out.shape:\n",
        "      out = TF.resize(out, size= [out_4.shape[2], out_4.shape[3]])\n",
        "    out = torch.cat((out_4, out), dim = 1)\n",
        "    out = self.conv6(out)\n",
        "\n",
        "    out = self.up2(out)  \n",
        "    if out_3.shape != out.shape:\n",
        "      out = TF.resize(out, size= [out_3.shape[2], out_3.shape[3]]) \n",
        "    out = torch.cat((out_3, out), dim = 1)\n",
        "    out = self.conv7(out)\n",
        "\n",
        "    out = self.up3(out) \n",
        "    if out_2.shape != out.shape:\n",
        "      out = TF.resize(out, size= [out_2.shape[2], out_2.shape[3]])    \n",
        "    out = torch.cat((out_2, out), dim = 1)\n",
        "    out = self.conv8(out)\n",
        "\n",
        "    out = self.up4(out) \n",
        "    if out_1.shape != out.shape:\n",
        "      out = TF.resize(out, size= [out_1.shape[2], out_1.shape[3]])    \n",
        "    out = torch.cat((out_1, out), dim = 1)\n",
        "    out = self.conv9(out)\n",
        "\n",
        "    out = self.conv_final(out)\n",
        "\n",
        "    return out\n",
        "\n",
        "    #Using transpose convolutions insted of Bilinear interpolation used in orignal paper\n",
        "\n",
        "\n"
      ]
    },
    {
      "cell_type": "code",
      "execution_count": 15,
      "metadata": {
        "id": "GNFc9sdxVTe4"
      },
      "outputs": [],
      "source": [
        "model = unet(3,2).to(device = DEVICE)"
      ]
    },
    {
      "cell_type": "code",
      "execution_count": 16,
      "metadata": {
        "colab": {
          "base_uri": "https://localhost:8080/"
        },
        "id": "CyJ4-bajD7C1",
        "outputId": "a8dbc6ff-eca0-4377-bfff-c9d231491644"
      },
      "outputs": [
        {
          "output_type": "execute_result",
          "data": {
            "text/plain": [
              "torch.Size([1, 2, 220, 220])"
            ]
          },
          "metadata": {},
          "execution_count": 16
        }
      ],
      "source": [
        "model(images[0].reshape(1, images[0].shape[0], images[0].shape[1], images[0].shape[2])).shape"
      ]
    },
    {
      "cell_type": "code",
      "execution_count": 17,
      "metadata": {
        "id": "ilR7A8_ZWGaM"
      },
      "outputs": [],
      "source": [
        "optimizer = torch.optim.Adam(model.parameters(), lr=0.001)        #update the weights of the model \n",
        "loss_type = torch.nn.CrossEntropyLoss()\n",
        "#loss_type = nn.L1Loss()\n",
        "step_lr = lr_scheduler.StepLR(optimizer, step_size= 100, gamma = 0.9)   #Every 100 epochs our learning rate will be multiplied by gamma"
      ]
    },
    {
      "cell_type": "code",
      "source": [
        "np.unique(masks[70].cpu().numpy())"
      ],
      "metadata": {
        "colab": {
          "base_uri": "https://localhost:8080/"
        },
        "id": "oFAyUCpq5HYG",
        "outputId": "bf3d6b8b-76ff-4c95-ba88-18a62231bdbb"
      },
      "execution_count": 20,
      "outputs": [
        {
          "output_type": "execute_result",
          "data": {
            "text/plain": [
              "array([0, 1], dtype=uint8)"
            ]
          },
          "metadata": {},
          "execution_count": 20
        }
      ]
    },
    {
      "cell_type": "code",
      "execution_count": 19,
      "metadata": {
        "colab": {
          "base_uri": "https://localhost:8080/"
        },
        "id": "bGD9XzX6gw_G",
        "outputId": "b3f97f7c-3937-42d3-eef0-391263f87b44"
      },
      "outputs": [
        {
          "output_type": "stream",
          "name": "stdout",
          "text": [
            "Epoch:  1 , loss is:  0.30907800793647766\n",
            "Epoch:  11 , loss is:  0.08717972785234451\n",
            "Epoch:  21 , loss is:  0.05392221361398697\n",
            "Epoch:  31 , loss is:  0.04132302477955818\n",
            "Epoch:  41 , loss is:  0.04611244425177574\n",
            "Epoch:  51 , loss is:  0.03811280056834221\n",
            "Epoch:  61 , loss is:  0.029749387875199318\n",
            "Epoch:  71 , loss is:  0.04084526002407074\n",
            "Epoch:  81 , loss is:  0.04249558970332146\n",
            "Epoch:  91 , loss is:  0.026171527802944183\n",
            "Epoch:  101 , loss is:  0.02465352788567543\n",
            "Epoch:  111 , loss is:  0.03460787609219551\n",
            "Epoch:  121 , loss is:  0.026784803718328476\n",
            "Epoch:  131 , loss is:  0.021889900788664818\n",
            "Epoch:  141 , loss is:  0.023625483736395836\n",
            "Epoch:  151 , loss is:  0.023667246103286743\n",
            "Epoch:  161 , loss is:  0.01959170028567314\n",
            "Epoch:  171 , loss is:  0.022460956126451492\n",
            "Epoch:  181 , loss is:  0.019055217504501343\n",
            "Epoch:  191 , loss is:  0.017703980207443237\n",
            "Epoch:  201 , loss is:  0.021112563088536263\n",
            "Epoch:  211 , loss is:  0.015311106108129025\n",
            "Epoch:  221 , loss is:  0.018344901502132416\n",
            "Epoch:  231 , loss is:  0.01823909766972065\n",
            "Epoch:  241 , loss is:  0.020766129717230797\n",
            "Epoch:  251 , loss is:  0.019837873056530952\n",
            "Epoch:  261 , loss is:  0.022624535486102104\n",
            "Epoch:  271 , loss is:  0.018621252849698067\n",
            "Epoch:  281 , loss is:  0.017959846183657646\n",
            "Epoch:  291 , loss is:  0.016097690910100937\n",
            "Epoch:  301 , loss is:  0.02042970433831215\n",
            "Epoch:  311 , loss is:  0.016046494245529175\n",
            "Epoch:  321 , loss is:  0.01564113236963749\n",
            "Epoch:  331 , loss is:  0.017507456243038177\n",
            "Epoch:  341 , loss is:  0.015324577689170837\n",
            "Epoch:  351 , loss is:  0.014029276557266712\n",
            "Epoch:  361 , loss is:  0.014499327167868614\n",
            "Epoch:  371 , loss is:  0.014598733745515347\n",
            "Epoch:  381 , loss is:  0.014995016157627106\n",
            "Epoch:  391 , loss is:  0.012665275484323502\n",
            "Epoch:  401 , loss is:  0.01236405037343502\n",
            "Epoch:  411 , loss is:  0.012108874507248402\n",
            "Epoch:  421 , loss is:  0.016218271106481552\n",
            "Epoch:  431 , loss is:  0.011118238791823387\n",
            "Epoch:  441 , loss is:  0.018486883491277695\n",
            "Epoch:  451 , loss is:  0.016467247158288956\n",
            "Epoch:  461 , loss is:  0.014610089361667633\n",
            "Epoch:  471 , loss is:  0.013302404433488846\n",
            "Epoch:  481 , loss is:  0.016525881364941597\n",
            "Epoch:  491 , loss is:  0.014678951352834702\n",
            "Epoch:  501 , loss is:  0.02622188627719879\n",
            "Epoch:  511 , loss is:  0.016343705356121063\n",
            "Epoch:  521 , loss is:  0.02259114570915699\n",
            "Epoch:  531 , loss is:  0.013887345790863037\n",
            "Epoch:  541 , loss is:  0.012353874742984772\n",
            "Epoch:  551 , loss is:  0.013082080520689487\n",
            "Epoch:  561 , loss is:  0.0133985485881567\n",
            "Epoch:  571 , loss is:  0.012470130808651447\n",
            "Epoch:  581 , loss is:  0.016080588102340698\n",
            "Epoch:  591 , loss is:  0.018080804497003555\n",
            "Epoch:  601 , loss is:  0.010870915837585926\n",
            "Epoch:  611 , loss is:  0.010426688008010387\n",
            "Epoch:  621 , loss is:  0.01503243762999773\n",
            "Epoch:  631 , loss is:  0.012352390214800835\n",
            "Epoch:  641 , loss is:  0.012654516845941544\n",
            "Epoch:  651 , loss is:  0.01039293222129345\n",
            "Epoch:  661 , loss is:  0.010443327948451042\n",
            "Epoch:  671 , loss is:  0.012401646934449673\n",
            "Epoch:  681 , loss is:  0.010023020207881927\n",
            "Epoch:  691 , loss is:  0.011837107129395008\n",
            "Epoch:  701 , loss is:  0.011906632222235203\n",
            "Epoch:  711 , loss is:  0.010172941721975803\n",
            "Epoch:  721 , loss is:  0.00918916892260313\n",
            "Epoch:  731 , loss is:  0.008505003526806831\n",
            "Epoch:  741 , loss is:  0.00971235055476427\n",
            "Epoch:  751 , loss is:  0.008971236646175385\n",
            "Epoch:  761 , loss is:  0.01028644759207964\n",
            "Epoch:  771 , loss is:  0.011031454429030418\n",
            "Epoch:  781 , loss is:  0.00833082478493452\n",
            "Epoch:  791 , loss is:  0.00913281086832285\n",
            "Epoch:  801 , loss is:  0.008814135566353798\n",
            "Epoch:  811 , loss is:  0.009892377071082592\n",
            "Epoch:  821 , loss is:  0.0084353256970644\n",
            "Epoch:  831 , loss is:  0.009419508278369904\n",
            "Epoch:  841 , loss is:  0.009856194257736206\n",
            "Epoch:  851 , loss is:  0.008716530166566372\n",
            "Epoch:  861 , loss is:  0.012645028531551361\n",
            "Epoch:  871 , loss is:  0.008571045473217964\n",
            "Epoch:  881 , loss is:  0.010434109717607498\n",
            "Epoch:  891 , loss is:  0.008798706345260143\n",
            "Epoch:  901 , loss is:  0.008592906408011913\n",
            "Epoch:  911 , loss is:  0.008496863767504692\n",
            "Epoch:  921 , loss is:  0.009137983433902264\n",
            "Epoch:  931 , loss is:  0.009512633085250854\n",
            "Epoch:  941 , loss is:  0.00678012240678072\n",
            "Epoch:  951 , loss is:  0.008341250941157341\n",
            "Epoch:  961 , loss is:  0.008410845883190632\n",
            "Epoch:  971 , loss is:  0.0077675417996943\n",
            "Epoch:  981 , loss is:  0.010470502078533173\n",
            "Epoch:  991 , loss is:  0.008048327639698982\n"
          ]
        }
      ],
      "source": [
        "#Model Training\n",
        "CUDA_LAUNCH_BLOCKING=1\n",
        "loss_graph = []\n",
        "num_epochs = 1000\n",
        "num_train = images.shape[0]\n",
        "batch_size = 20\n",
        "for i in range(num_epochs):\n",
        "  random_no = torch.randint(0, num_train, (batch_size,))\n",
        "  x_batch = images[random_no]\n",
        "  y_batch = masks[random_no]\n",
        "\n",
        "  model.train()\n",
        "  optimizer.zero_grad()\n",
        "  y_pred = model(x_batch)\n",
        "  y_pred = y_pred.permute(0,2,3,1)\n",
        "  y_pred = y_pred.reshape(-1,2)\n",
        "  y_batch = y_batch.reshape(-1)\n",
        "  \n",
        "  loss = loss_type(y_pred, y_batch)\n",
        "  loss.backward()\n",
        "  optimizer.step()\n",
        "\n",
        "  #schedular step\n",
        "  #step_lr.step()\n",
        "\n",
        "  loss_graph.append(loss.cpu().item())\n",
        "  if i%10==0:\n",
        "    print(\"Epoch: \", i+1, \", loss is: \", loss.cpu().item())\n",
        "    #print(\"Learning rate is: \", optimizer.state_dict()['param_groups'][0]['lr'])"
      ]
    },
    {
      "cell_type": "code",
      "execution_count": 20,
      "metadata": {
        "colab": {
          "base_uri": "https://localhost:8080/",
          "height": 265
        },
        "id": "dnt9L7Hh45G-",
        "outputId": "10263208-a63e-4ce8-8bd3-657417ca25ab"
      },
      "outputs": [
        {
          "output_type": "display_data",
          "data": {
            "text/plain": [
              "<Figure size 432x288 with 1 Axes>"
            ],
            "image/png": "[encoded data removed]"
          },
          "metadata": {
            "needs_background": "light"
          }
        }
      ],
      "source": [
        "#Loss Graph\n",
        "plt.plot(loss_graph)\n",
        "plt.show()"
      ]
    },
    {
      "cell_type": "markdown",
      "metadata": {
        "id": "cwiQn26VEwQu"
      },
      "source": [
        "#Final result from the Trained Model: "
      ]
    },
    {
      "cell_type": "code",
      "execution_count": 21,
      "metadata": {
        "colab": {
          "base_uri": "https://localhost:8080/",
          "height": 557
        },
        "id": "8ogDB2Bxp-Sb",
        "outputId": "e66d8006-10f6-43dc-ec1d-3de9f934ff8a"
      },
      "outputs": [
        {
          "output_type": "stream",
          "name": "stdout",
          "text": [
            "Predicted segmentation mask\n"
          ]
        },
        {
          "output_type": "display_data",
          "data": {
            "text/plain": [
              "<Figure size 432x288 with 1 Axes>"
            ],
            "image/png": "[encoded data removed]"
          },
          "metadata": {
            "needs_background": "light"
          }
        },
        {
          "output_type": "stream",
          "name": "stdout",
          "text": [
            "Actual mask\n"
          ]
        },
        {
          "output_type": "display_data",
          "data": {
            "text/plain": [
              "<Figure size 432x288 with 1 Axes>"
            ],
            "image/png": "[encoded data removed]"
          },
          "metadata": {
            "needs_background": "light"
          }
        }
      ],
      "source": [
        "y = model(images[111].reshape(1,images.shape[1], images.shape[2], images.shape[3]))\n",
        "y = y.argmax(axis= 1)\n",
        "y = y.reshape(220,220)\n",
        "plt.figure(3)\n",
        "print(\"Predicted segmentation mask\")\n",
        "plt.imshow(np.array(y.detach().cpu().numpy()), cmap= 'gray')\n",
        "plt.show()\n",
        "\n",
        "plt.figure(4)\n",
        "print(\"Actual mask\")\n",
        "plt.imshow(np.array(masks[111].clone().cpu()), cmap= 'gray')\n",
        "plt.show()"
      ]
    },
    {
      "cell_type": "markdown",
      "metadata": {
        "id": "GslVd4dQE52O"
      },
      "source": [
        "#Saving the weights of the trined Model:\n"
      ]
    },
    {
      "cell_type": "code",
      "execution_count": 25,
      "metadata": {
        "colab": {
          "base_uri": "https://localhost:8080/"
        },
        "id": "5g_315VAFEdZ",
        "outputId": "1f43f430-cbf9-4339-c3de-bc1553134f1c"
      },
      "outputs": [
        {
          "output_type": "stream",
          "name": "stdout",
          "text": [
            "Model Saved \n"
          ]
        }
      ],
      "source": [
        "save_model = {'state_dict': model.state_dict(), 'optimizer': optimizer.state_dict()}\n",
        "path_save = '/content/drive/MyDrive/DL/model_unet.pth'\n",
        "torch.save(save_model, path_save)\n",
        "print(\"Model Saved \")"
      ]
    },
    {
      "cell_type": "markdown",
      "metadata": {
        "id": "phQ6rysJI5Ke"
      },
      "source": [
        "#Loading the trained model and using it to detect masks"
      ]
    },
    {
      "cell_type": "code",
      "execution_count": 28,
      "metadata": {
        "colab": {
          "base_uri": "https://localhost:8080/"
        },
        "id": "L_39COKgI26c",
        "outputId": "be046734-a8b5-4460-cfd4-5dbe2ed03288"
      },
      "outputs": [
        {
          "output_type": "execute_result",
          "data": {
            "text/plain": [
              "<All keys matched successfully>"
            ]
          },
          "metadata": {},
          "execution_count": 28
        }
      ],
      "source": [
        "load_path = '\\content\\drive\\MyDrive\\DL\\model_unet.pth'\n",
        "load = torch.load(load_path)\n",
        "model_load = unet(3, 2).to(device = DEVICE)\n",
        "model_load.load_state_dict(load['state_dict'])"
      ]
    },
    {
      "cell_type": "code",
      "execution_count": 32,
      "metadata": {
        "colab": {
          "base_uri": "https://localhost:8080/",
          "height": 557
        },
        "id": "GBwPfDiuO6i7",
        "outputId": "fe692448-c07e-44ed-831d-f2755c77d052"
      },
      "outputs": [
        {
          "output_type": "stream",
          "name": "stdout",
          "text": [
            "Predicted segmentation mask\n"
          ]
        },
        {
          "output_type": "display_data",
          "data": {
            "text/plain": [
              "<Figure size 432x288 with 1 Axes>"
            ],
            "image/png": "[encoded data removed]"
          },
          "metadata": {
            "needs_background": "light"
          }
        },
        {
          "output_type": "stream",
          "name": "stdout",
          "text": [
            "Actual mask\n"
          ]
        },
        {
          "output_type": "display_data",
          "data": {
            "text/plain": [
              "<Figure size 432x288 with 1 Axes>"
            ],
            "image/png": "[encoded data removed]"
          },
          "metadata": {
            "needs_background": "light"
          }
        }
      ],
      "source": [
        "y = model_load(images[30].reshape(1,images.shape[1], images.shape[2], images.shape[3]))\n",
        "y = y.argmax(axis= 1)\n",
        "y = y.reshape(220,220)\n",
        "plt.figure(3)\n",
        "print(\"Predicted segmentation mask\")\n",
        "plt.imshow(np.array(y.detach().cpu().numpy()), cmap='gray')\n",
        "plt.show()\n",
        "\n",
        "plt.figure(4)\n",
        "print(\"Actual mask\")\n",
        "plt.imshow(np.array(masks[30].clone().cpu()), cmap='gray')\n",
        "plt.show()"
      ]
    },
    {
      "cell_type": "markdown",
      "metadata": {
        "id": "RhVUo_3rFYS2"
      },
      "source": [
        "#Training the model using pytorch dataloader and other pytorch tools"
      ]
    },
    {
      "cell_type": "code",
      "execution_count": 33,
      "metadata": {
        "id": "HFG9rymGGNXZ"
      },
      "outputs": [],
      "source": [
        "from torch.utils.data import Dataset, DataLoader     #Importing Dataloader"
      ]
    },
    {
      "cell_type": "code",
      "execution_count": 34,
      "metadata": {
        "id": "68r-RvdSFhTD"
      },
      "outputs": [],
      "source": [
        "class CustomImageDataset(Dataset):    #Making the class that takes the index and gives the images and it's corrosponding masks\n",
        "    def __init__(self, images, masks):\n",
        "        self.images = images\n",
        "        self.masks = masks\n",
        "\n",
        "    def __len__(self):\n",
        "        return images.shape[0]\n",
        "\n",
        "    def __getitem__(self, idx):\n",
        "        x_batch = self.images[idx]\n",
        "        y_batch = self.masks[idx]\n",
        "        return x_batch, y_batch"
      ]
    },
    {
      "cell_type": "code",
      "execution_count": 35,
      "metadata": {
        "id": "_F7EatvxFpMv"
      },
      "outputs": [],
      "source": [
        "data = CustomImageDataset(images, masks)  #data is the object for the class that takes index and gives data and it's mask"
      ]
    },
    {
      "cell_type": "code",
      "execution_count": 36,
      "metadata": {
        "id": "c9rh2D-pFvyW"
      },
      "outputs": [],
      "source": [
        "batchsize = 10\n",
        "dataloader = DataLoader(dataset= data, batch_size= batchsize, shuffle= True)"
      ]
    },
    {
      "cell_type": "code",
      "execution_count": 37,
      "metadata": {
        "id": "aBakTIWOF0wa"
      },
      "outputs": [],
      "source": [
        "dataiter = iter(dataloader)\n",
        "data = dataiter.next()\n",
        "x,y = data"
      ]
    },
    {
      "cell_type": "code",
      "execution_count": 38,
      "metadata": {
        "colab": {
          "base_uri": "https://localhost:8080/"
        },
        "id": "RA7Zk_K5GWpd",
        "outputId": "d9394bf0-5434-4bc5-ef9e-36057b1e86e8"
      },
      "outputs": [
        {
          "output_type": "stream",
          "name": "stdout",
          "text": [
            "torch.Size([10, 3, 220, 220])\n",
            "torch.Size([10, 220, 220])\n"
          ]
        }
      ],
      "source": [
        "print(x.shape)\n",
        "print(y.shape)"
      ]
    },
    {
      "cell_type": "markdown",
      "metadata": {
        "id": "9NF7KQmiGt46"
      },
      "source": [
        "##Training Network"
      ]
    },
    {
      "cell_type": "code",
      "execution_count": 41,
      "metadata": {
        "colab": {
          "base_uri": "https://localhost:8080/"
        },
        "id": "peRtuBthGbbB",
        "outputId": "54c19388-580d-4bae-bb26-f1bfca8697a4"
      },
      "outputs": [
        {
          "output_type": "stream",
          "name": "stdout",
          "text": [
            "Epoch:  1 , loss is:  0.023185502737760544\n",
            "Epoch:  2 , loss is:  0.013393141329288483\n",
            "Epoch:  3 , loss is:  0.010374952107667923\n",
            "Epoch:  4 , loss is:  0.010474203154444695\n",
            "Epoch:  5 , loss is:  0.01356545276939869\n",
            "Epoch:  6 , loss is:  0.009080937132239342\n",
            "Epoch:  7 , loss is:  0.008351595140993595\n",
            "Epoch:  8 , loss is:  0.017220960929989815\n"
          ]
        }
      ],
      "source": [
        "#Model Training\n",
        "loss_graph = []\n",
        "num_epochs = 8   #Here each epoch means that at each epoch the model will train once over the entire datset using sgd on small batches\n",
        "\n",
        "model.train()\n",
        "for j in range(num_epochs):\n",
        "\n",
        "  for i, (x_batch, y_batch) in enumerate(dataloader):\n",
        "\n",
        "    optimizer.zero_grad()\n",
        "    y_pred = model(x_batch)\n",
        "    y_pred = y_pred.permute(0,2,3,1)\n",
        "    y_pred = y_pred.reshape(-1,2)\n",
        "    y_batch = y_batch.reshape(-1)\n",
        "  \n",
        "    loss = loss_type(y_pred, y_batch)\n",
        "    loss.backward()\n",
        "    optimizer.step()\n",
        "\n",
        "    #schedular step\n",
        "    #step_lr.step()\n",
        "\n",
        "  print(\"Epoch: \", j+1, \", loss is: \", loss.cpu().item())\n",
        "  #print(\"Learning rate is: \", optimizer.state_dict()['param_groups'][0]['lr'])"
      ]
    }
  ],
  "metadata": {
    "accelerator": "GPU",
    "colab": {
      "collapsed_sections": [],
      "machine_shape": "hm",
      "name": "Image_Segmentation.ipynb",
      "provenance": []
    },
    "kernelspec": {
      "display_name": "Python 3",
      "name": "python3"
    },
    "language_info": {
      "name": "python"
    }
  },
  "nbformat": 4,
  "nbformat_minor": 0
}