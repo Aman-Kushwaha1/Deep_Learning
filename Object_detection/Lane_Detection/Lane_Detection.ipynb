{
 "cells": [
  {
   "cell_type": "code",
   "execution_count": 8,
   "id": "8fa55f8e",
   "metadata": {},
   "outputs": [
    {
     "name": "stdout",
     "output_type": "stream",
     "text": [
      "cuda GPU is available\n"
     ]
    }
   ],
   "source": [
    "import torch\n",
    "import numpy as np\n",
    "import cv2\n",
    "\n",
    "\n",
    "if torch.cuda.is_available():\n",
    "  print(\"cuda GPU is available\")\n",
    "  DEVICE = 'cuda'\n",
    "else:\n",
    "  print(\"GPU is not available\")\n",
    "  DEVICE = 'cpu'\n"
   ]
  },
  {
   "cell_type": "code",
   "execution_count": null,
   "id": "0b1a6bbb",
   "metadata": {},
   "outputs": [],
   "source": [
    "# load model (https://pytorch.org/hub/hustvl_yolop/)\n",
    "import torch\n",
    "model = torch.hub.load('hustvl/yolop', 'yolop', pretrained=True).to(device= DEVICE)"
   ]
  },
  {
   "cell_type": "code",
   "execution_count": 19,
   "id": "08bae2e1",
   "metadata": {},
   "outputs": [
    {
     "name": "stdout",
     "output_type": "stream",
     "text": [
      "Exiting while loop\n"
     ]
    }
   ],
   "source": [
    "import torch\n",
    "import cv2\n",
    "\n",
    "cap = cv2.VideoCapture('Road.mp4')\n",
    "\n",
    "while True:\n",
    "    ret, frame = cap.read()\n",
    "    \n",
    "    if ret:\n",
    "        img = frame.copy()\n",
    "        img = cv2.resize(img, (640,640)) \n",
    "        \n",
    "        img = cv2.cvtColor(img, cv2.COLOR_BGR2RGB)\n",
    "        \n",
    "        img = torch.tensor(img, dtype = torch.float32, device= DEVICE).permute(2,0,1).unsqueeze(0)\n",
    "        img = (img - torch.mean(img))/(torch.std(img))\n",
    "        \n",
    "        det_out, da_seg_out,ll_seg_out = model(img)\n",
    "        \n",
    "        cv2.imshow('frame', ll_seg_out[0][0].cpu().detach().numpy())\n",
    "        \n",
    "        \n",
    "    if cv2.waitKey(1)== ord('q'):   #press q to quit \n",
    "        print(\"Exiting while loop\")\n",
    "        break    #out of while loop\n",
    "        \n",
    "\n",
    "cap.release() \n",
    "cv2.destroyAllWindows() "
   ]
  }
 ],
 "metadata": {
  "kernelspec": {
   "display_name": "Python 3 (ipykernel)",
   "language": "python",
   "name": "python3"
  },
  "language_info": {
   "codemirror_mode": {
    "name": "ipython",
    "version": 3
   },
   "file_extension": ".py",
   "mimetype": "text/x-python",
   "name": "python",
   "nbconvert_exporter": "python",
   "pygments_lexer": "ipython3",
   "version": "3.9.0"
  }
 },
 "nbformat": 4,
 "nbformat_minor": 5
}
